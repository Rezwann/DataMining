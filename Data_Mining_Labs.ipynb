{
  "cells": [
    {
      "cell_type": "markdown",
      "metadata": {
        "id": "KENzTqh7ZdvV"
      },
      "source": [
        "# Lab session 1: Data"
      ]
    },
    {
      "cell_type": "markdown",
      "metadata": {
        "id": "miqT2XsNZdvY"
      },
      "source": [
        "## Introduction\n",
        "\n",
        "The aim of this lab is for students to familiarise with  **basic exploratory data analysis** of a sample dataset, and more specifically with the concepts of **summary statistics** and **data visualisation** covered in Lecture 2. We will use  the Python's **pandas** package in this **notebook** environment.\n",
        "\n",
        "<font color = 'maroon'>*This session <ins>is a warm-up that will not count toward your final grade</ins>.*</font>\n",
        "\n"
      ]
    },
    {
      "cell_type": "markdown",
      "metadata": {
        "id": "oPjBrwRhZdvb"
      },
      "source": [
        "### Before we start:\n",
        "\n",
        "This environment that allows us to enter both text and run codes interactively, is a web-based user-friendly environment called [Jupyter notebook](https://jupyter.org/).\n",
        "\n",
        "There are two types of cells: *Text* and *Code*. You can add your own cells. You can also edit the texts by double-clicking on them. It follows the [markup rules](https://github.com/adam-p/markdown-here/wiki/Markdown-Cheatsheet).\n",
        "\n",
        "In order to execute (run) a cell, you can use one of the following ways:\n",
        "\n",
        "0. `Shift + Enter` : executes a cell and goes to the next one.\n",
        "1. `Ctrl + Enter` : executes a block but stays at the same block. This is equivalent to clicking on the *run* button to the left of the cell, which appears when you hover the mouse over the `[ ]` icon.\n",
        "2. Use the `Runtime` tab (at the top of the page), which gives you more options as well.\n",
        "\n",
        "Now, test your knowledge by running the next cell (the output should appear right after):"
      ]
    },
    {
      "cell_type": "code",
      "execution_count": null,
      "metadata": {
        "colab": {
          "base_uri": "https://localhost:8080/"
        },
        "id": "v0T8VcP9DSWe",
        "outputId": "9043b188-58f2-40b5-f42b-b0d1fc3b8a2c"
      },
      "outputs": [
        {
          "name": "stdout",
          "output_type": "stream",
          "text": [
            " 1 - Welcome to the Data Mining lab!\n",
            " 2 - Welcome to the Data Mining lab!\n",
            " 4 - Welcome to the Data Mining lab!\n",
            " 8 - Welcome to the Data Mining lab!\n",
            "16 - Welcome to the Data Mining lab!\n"
          ]
        }
      ],
      "source": [
        "for i in range(5):\n",
        "  print('{:2d} - Welcome to the Data Mining lab!'.format(2**i))"
      ]
    },
    {
      "cell_type": "markdown",
      "metadata": {
        "id": "T_hB_CXQNTho"
      },
      "source": [
        "As you might have noticed, we will be using Python code. Let's have a word on why `Python`?\n",
        "\n",
        "*Well, for one, it is the most preferred language among data scientist, according to [this poll](https://www.kdnuggets.com/2018/05/poll-tools-analytics-data-science-machine-learning-results.html).\n",
        "Also it helps that it is a general purpose programming language with a simple syntax. It also has a lot of great open-source libraries -- which, in Python, we call them `packages` -- developed by an active community. If interested, [read more](https://www.cbtnuggets.com/blog/technology/data/why-data-scientists-love-python) on why Python is particularly so popular among data scientist.*"
      ]
    },
    {
      "cell_type": "markdown",
      "metadata": {
        "id": "fffCe7a9Zdvk"
      },
      "source": [
        "### Some more `notebook` cool tricks:\n"
      ]
    },
    {
      "cell_type": "markdown",
      "metadata": {
        "id": "Yqt3m-dISdQH"
      },
      "source": [
        "- You can use the **`tab`** button for auto-completing. You can also use `tab` after a **`dot`** to be shown a drop-down list of the available attributes and methods on an object or a class. For instance, let's create a string object called `mystring` (by executing the first cell), and use the `tab` key after a `dot` to see a list of available attributes and methods for a string object in Python (in the second cell: don't run it, just use the tab key after dot!)."
      ]
    },
    {
      "cell_type": "code",
      "execution_count": null,
      "metadata": {
        "id": "5lWMrlANLVgS"
      },
      "outputs": [],
      "source": [
        "mystring = 'Hello, World!'"
      ]
    },
    {
      "cell_type": "code",
      "execution_count": null,
      "metadata": {
        "id": "AaQ7X-h6OVOm",
        "scrolled": true
      },
      "outputs": [],
      "source": [
        "mystring."
      ]
    },
    {
      "cell_type": "markdown",
      "metadata": {
        "id": "p7v8mCdQOpgZ"
      },
      "source": [
        "Note that in Python, every variable is an object. Also by now, you should have noticed that we do not need to explicitly declare variables and their types in Python before using them.\n",
        "\n",
        "Another thing to keep in mind is that objects and functions (runtime variables) persist between different cells in the same notebook session. If you want to clear the memory, you can choose \"`Reset all runtimes...`\" under the \"`Runtime`\" tab from the top-left menu."
      ]
    },
    {
      "cell_type": "markdown",
      "metadata": {
        "id": "9FjvhE_VR2BC"
      },
      "source": [
        "- Another useful point about the `notebook` environment is that if you want to get help on anything (a method, a function, an object, etc), you can just put a question mark in front of it and execute that line. For instance, let's get help on what the `strip` method does on a string object, by executing the following cell:"
      ]
    },
    {
      "cell_type": "code",
      "execution_count": null,
      "metadata": {
        "id": "RJTJ4wLFSXTz"
      },
      "outputs": [],
      "source": [
        "mystring.strip?\n",
        "# This opens the help on the method \"strip\" at the bottom of this\n",
        "# page. You can close the help page after reading it.\n",
        "# By the way, this is how we designate a comment line in Python!"
      ]
    },
    {
      "cell_type": "markdown",
      "metadata": {
        "id": "RQrmMEyJU9wa"
      },
      "source": [
        "From now on, we may give a hint about answering a question by putting a question mark in front of a command to open the help page for it for you. Your task is to complete the command."
      ]
    },
    {
      "cell_type": "code",
      "execution_count": null,
      "metadata": {
        "colab": {
          "base_uri": "https://localhost:8080/"
        },
        "id": "WOhjRZRZVIVC",
        "outputId": "6f908bd9-bd5c-47ed-8b51-9f45b600771d"
      },
      "outputs": [
        {
          "name": "stdout",
          "output_type": "stream",
          "text": [
            "Hello, World!\n",
            "Hello, World!\n"
          ]
        }
      ],
      "source": [
        "print(mystring)\n",
        "print(mystring.strip())"
      ]
    },
    {
      "cell_type": "markdown",
      "metadata": {
        "id": "KKlNqAg6MzRP"
      },
      "source": [
        "## 1.   Explore the Dataset -- using Python's `Pandas`"
      ]
    },
    {
      "cell_type": "markdown",
      "metadata": {
        "id": "jMy4U6wpdclq"
      },
      "source": [
        "Here, we are going to perform some basic *exploratory data analysis* on some sample data.\n",
        "Data exploration refers to the preliminary investigation of data in order\n",
        "to better understand its specific characteristics. There are two key motivations for data exploration:\n",
        "1. To help users select the appropriate preprocessing and data analysis technique used.\n",
        "2. To make use of humans' abilities to recognize patterns in the data.\n",
        "\n",
        "The data is about the \"cars for sale\", which was collected in Summer 2014 from the website _Autotrader.com_,  by one of our MSc student who worked on a data mining project. The data is saved in a CSV file, called **`LondonCars.csv`**."
      ]
    },
    {
      "cell_type": "markdown",
      "metadata": {
        "id": "MGVOTd6ml6NT"
      },
      "source": [
        "---\n",
        "> **Q0:** Why are such files called `CSV`? (Find out what CSV stands for. It may also help to try and open the file using a basic text editor).\n"
      ]
    },
    {
      "cell_type": "markdown",
      "metadata": {
        "id": "dNKGLzR0OTSj"
      },
      "source": [
        "> **A0:** CSV stands for comma separated values. Each  value in a csv file is separated by default with a comma. However, other delimiters such as tab ('\\t') or whitespace can be used too. Pandas' read_csv method can automatically identify the separator.  \n",
        "---"
      ]
    },
    {
      "cell_type": "markdown",
      "metadata": {
        "id": "YiEG9EOxZdv0"
      },
      "source": [
        "### 1.1   Upload the CSV file to this machine.\n",
        "\n"
      ]
    },
    {
      "cell_type": "markdown",
      "metadata": {
        "id": "ZvDYSO7gPnfU"
      },
      "source": [
        ">-   On the left side of this page, click on the arrow to \"Open the left pane\".\n",
        "-   From the \"Files\" tab, click on `UPLOAD`\n",
        "- Choose the CSV file that you downloaded from QM+ to your local machine, to be uploaded to *this machine*.\n",
        "\n",
        ">_Note:_ *By \"this machine\", we mean the virtual machine that is allocated to your account and running this notebook, hosted by Google Compute Engine. Note that next time you log in, the file may be gone and needs to be re-uploaded, as Google recycles Virtual machines when they are idle for a while.*"
      ]
    },
    {
      "cell_type": "markdown",
      "metadata": {
        "id": "s6LDpsBVZdv2"
      },
      "source": [
        "### 1.2   Load the dataset from the CSV file:\n",
        "\n"
      ]
    },
    {
      "cell_type": "markdown",
      "metadata": {
        "id": "k0gxX165m7JI"
      },
      "source": [
        "We will use a package in Python called [pandas](https://pandas.pydata.org/): it has many useful features to work with structured data, and is popular for its ease of use (and as is the case for any Python package, it is [open-source](https://github.com/pandas-dev/pandas)).\n"
      ]
    },
    {
      "cell_type": "markdown",
      "metadata": {
        "id": "gFA_eR7m516a"
      },
      "source": [
        "So, let's start by reading the csv file into a `pandas' DataFrame`:\n",
        "\n",
        "(Note that we use **`import`** to (guess what) import a package in Python! We can also assign a different name (alias) to it, usually a shorthand name for convenience. For example, we typically `import pandas as pd`)\n",
        "\n",
        "Execute the following code block.\n",
        "\n",
        "\n",
        "\n",
        "\n"
      ]
    },
    {
      "cell_type": "code",
      "execution_count": null,
      "metadata": {
        "cellView": "both",
        "id": "KjvGRNGgNnzF"
      },
      "outputs": [],
      "source": [
        "import pandas as pd\n",
        "df = pd.read_csv('./LondonCars2014.csv')"
      ]
    },
    {
      "cell_type": "markdown",
      "metadata": {
        "id": "p_m8B7bVT98P"
      },
      "source": [
        "Let's get more information about the `read_csv` method that we used by executing the following cell:"
      ]
    },
    {
      "cell_type": "code",
      "execution_count": null,
      "metadata": {
        "id": "zFLpA98_QmZa"
      },
      "outputs": [],
      "source": [
        "pd.read_csv?"
      ]
    },
    {
      "cell_type": "markdown",
      "metadata": {
        "id": "exMOTcLuU20P"
      },
      "source": [
        "---\n",
        "> **Q1:** You should notice that the command has many options. When these options are not specified, their default values are taken. For example, find out what these default values were for our `read_csv`. Also find out, in particular, what the options `sep`, `header`, `index_col`, `usecols`, `dtype`, `na_values`, and `encoding` do."
      ]
    },
    {
      "cell_type": "markdown",
      "metadata": {
        "id": "rt0KmDoOWURV"
      },
      "source": [
        "> **A1:** You may find the answer to this question by running the above code cell (pd.read_csv?). The default argument values and a description about the arguments will be shown in the Help section on the right hand side.\n",
        "---"
      ]
    },
    {
      "cell_type": "markdown",
      "metadata": {
        "id": "P4aqrumUZdv-"
      },
      "source": [
        "### 1.3   Get general information about the data:\n",
        "\n"
      ]
    },
    {
      "cell_type": "markdown",
      "metadata": {
        "id": "_OM7Gcip50oE"
      },
      "source": [
        "So far, we have read the csv file into a variable we called **`df`**: it is a pandas `DataFrame` object that contains the information in the csv file, along with many useful attributes and methods. For instance, let's print the first few entries along with the column names, to get a quick feeling about the data:\n"
      ]
    },
    {
      "cell_type": "code",
      "execution_count": null,
      "metadata": {
        "colab": {
          "base_uri": "https://localhost:8080/",
          "height": 204
        },
        "id": "OyU38RdluTuA",
        "outputId": "7922e75e-f5c8-49b6-9c52-42c34eda634d"
      },
      "outputs": [
        {
          "data": {
            "text/html": [
              "<div>\n",
              "<style scoped>\n",
              "    .dataframe tbody tr th:only-of-type {\n",
              "        vertical-align: middle;\n",
              "    }\n",
              "\n",
              "    .dataframe tbody tr th {\n",
              "        vertical-align: top;\n",
              "    }\n",
              "\n",
              "    .dataframe thead th {\n",
              "        text-align: right;\n",
              "    }\n",
              "</style>\n",
              "<table border=\"1\" class=\"dataframe\">\n",
              "  <thead>\n",
              "    <tr style=\"text-align: right;\">\n",
              "      <th></th>\n",
              "      <th>Make</th>\n",
              "      <th>Model</th>\n",
              "      <th>Year</th>\n",
              "      <th>Mileage</th>\n",
              "      <th>Price</th>\n",
              "      <th>Body Style</th>\n",
              "      <th>Ex Color</th>\n",
              "      <th>In Color</th>\n",
              "      <th>Engine</th>\n",
              "      <th>Transmission</th>\n",
              "      <th>Doors</th>\n",
              "    </tr>\n",
              "  </thead>\n",
              "  <tbody>\n",
              "    <tr>\n",
              "      <th>0</th>\n",
              "      <td>Toyota</td>\n",
              "      <td>Avalon XLE</td>\n",
              "      <td>2014</td>\n",
              "      <td>4725</td>\n",
              "      <td>28995</td>\n",
              "      <td>Sedan</td>\n",
              "      <td>Gray</td>\n",
              "      <td>Black</td>\n",
              "      <td>6 Cyl</td>\n",
              "      <td>Automatic</td>\n",
              "      <td>4</td>\n",
              "    </tr>\n",
              "    <tr>\n",
              "      <th>1</th>\n",
              "      <td>Ford</td>\n",
              "      <td>Escape SE</td>\n",
              "      <td>2014</td>\n",
              "      <td>17201</td>\n",
              "      <td>24994</td>\n",
              "      <td>SUV</td>\n",
              "      <td>Silver</td>\n",
              "      <td>Black</td>\n",
              "      <td>4 Cyl</td>\n",
              "      <td>Automatic</td>\n",
              "      <td>4</td>\n",
              "    </tr>\n",
              "    <tr>\n",
              "      <th>2</th>\n",
              "      <td>Hyundai</td>\n",
              "      <td>Santa Fe Sport</td>\n",
              "      <td>2014</td>\n",
              "      <td>6279</td>\n",
              "      <td>25998</td>\n",
              "      <td>SUV</td>\n",
              "      <td>Silver</td>\n",
              "      <td>Gray</td>\n",
              "      <td>4 Cyl</td>\n",
              "      <td>Automatic</td>\n",
              "      <td>4</td>\n",
              "    </tr>\n",
              "    <tr>\n",
              "      <th>3</th>\n",
              "      <td>Ford</td>\n",
              "      <td>Escape SE</td>\n",
              "      <td>2014</td>\n",
              "      <td>16262</td>\n",
              "      <td>26684</td>\n",
              "      <td>SUV</td>\n",
              "      <td>Black</td>\n",
              "      <td>Black</td>\n",
              "      <td>4 Cyl</td>\n",
              "      <td>Automatic</td>\n",
              "      <td>4</td>\n",
              "    </tr>\n",
              "    <tr>\n",
              "      <th>4</th>\n",
              "      <td>Jeep</td>\n",
              "      <td>Grand Cherokee Limited Edition</td>\n",
              "      <td>2014</td>\n",
              "      <td>35572</td>\n",
              "      <td>33440</td>\n",
              "      <td>SUV</td>\n",
              "      <td>Black</td>\n",
              "      <td>Black</td>\n",
              "      <td>6 Cyl</td>\n",
              "      <td>Automatic</td>\n",
              "      <td>4</td>\n",
              "    </tr>\n",
              "  </tbody>\n",
              "</table>\n",
              "</div>"
            ],
            "text/plain": [
              "      Make                           Model  Year  ...  Engine  Transmission Doors\n",
              "0   Toyota                      Avalon XLE  2014  ...   6 Cyl     Automatic     4\n",
              "1     Ford                       Escape SE  2014  ...   4 Cyl     Automatic     4\n",
              "2  Hyundai                  Santa Fe Sport  2014  ...   4 Cyl     Automatic     4\n",
              "3     Ford                       Escape SE  2014  ...   4 Cyl     Automatic     4\n",
              "4     Jeep  Grand Cherokee Limited Edition  2014  ...   6 Cyl     Automatic     4\n",
              "\n",
              "[5 rows x 11 columns]"
            ]
          },
          "execution_count": 6,
          "metadata": {},
          "output_type": "execute_result"
        }
      ],
      "source": [
        "df.head()"
      ]
    },
    {
      "cell_type": "markdown",
      "metadata": {
        "id": "14A7tQYoV8PH"
      },
      "source": [
        "We still don't know if the data-types are read correctly, we didn't specify them. The `info` method gives us a summary information:"
      ]
    },
    {
      "cell_type": "code",
      "execution_count": null,
      "metadata": {
        "colab": {
          "base_uri": "https://localhost:8080/"
        },
        "id": "cOKXPWk3N6sm",
        "outputId": "160b1eca-87ce-413a-ef0d-557cb62c4d7b"
      },
      "outputs": [
        {
          "name": "stdout",
          "output_type": "stream",
          "text": [
            "<class 'pandas.core.frame.DataFrame'>\n",
            "RangeIndex: 9080 entries, 0 to 9079\n",
            "Data columns (total 11 columns):\n",
            " #   Column        Non-Null Count  Dtype   \n",
            "---  ------        --------------  -----   \n",
            " 0   Make          9080 non-null   category\n",
            " 1   Model         9080 non-null   category\n",
            " 2   Year          9080 non-null   category\n",
            " 3   Mileage       9080 non-null   int32   \n",
            " 4   Price         9080 non-null   int64   \n",
            " 5   Body Style    9080 non-null   category\n",
            " 6   Ex Color      9080 non-null   category\n",
            " 7   In Color      9080 non-null   category\n",
            " 8   Engine        9080 non-null   category\n",
            " 9   Transmission  9080 non-null   category\n",
            " 10  Doors         9080 non-null   category\n",
            "dtypes: category(9), int32(1), int64(1)\n",
            "memory usage: 248.0 KB\n"
          ]
        }
      ],
      "source": [
        "df.info()"
      ]
    },
    {
      "cell_type": "markdown",
      "metadata": {
        "id": "C5LylI4xWT9N"
      },
      "source": [
        "You should notice that the data-types are not exactly correct. For instance, the type for the `Doors` attribute (column) is inferred as numeric (64-bit integer), but this is wrong (why?).\n",
        "\n",
        "So let's fix them!"
      ]
    },
    {
      "cell_type": "code",
      "execution_count": null,
      "metadata": {
        "id": "vZjVv-6mXrAe"
      },
      "outputs": [],
      "source": [
        "df = df.astype({'Make':'category', 'Model':'category', 'Year':'category',\n",
        "                'Mileage':'int32', 'Price':'int64', 'Body Style':'category',\n",
        "                'Ex Color':'category' , 'In Color':'category',\n",
        "                'Engine':'category', 'Transmission':'category', 'Doors':'category'})"
      ]
    },
    {
      "cell_type": "code",
      "execution_count": null,
      "metadata": {
        "colab": {
          "base_uri": "https://localhost:8080/"
        },
        "id": "CivnwTo2ZtME",
        "outputId": "3ccc64c8-1cff-4641-c456-d207d94cf289"
      },
      "outputs": [
        {
          "name": "stdout",
          "output_type": "stream",
          "text": [
            "<class 'pandas.core.frame.DataFrame'>\n",
            "RangeIndex: 9080 entries, 0 to 9079\n",
            "Data columns (total 11 columns):\n",
            " #   Column        Non-Null Count  Dtype   \n",
            "---  ------        --------------  -----   \n",
            " 0   Make          9080 non-null   category\n",
            " 1   Model         9080 non-null   category\n",
            " 2   Year          9080 non-null   category\n",
            " 3   Mileage       9080 non-null   int32   \n",
            " 4   Price         9080 non-null   int64   \n",
            " 5   Body Style    9080 non-null   category\n",
            " 6   Ex Color      9080 non-null   category\n",
            " 7   In Color      9080 non-null   category\n",
            " 8   Engine        9080 non-null   category\n",
            " 9   Transmission  9080 non-null   category\n",
            " 10  Doors         9080 non-null   category\n",
            "dtypes: category(9), int32(1), int64(1)\n",
            "memory usage: 248.0 KB\n"
          ]
        }
      ],
      "source": [
        "df.info()"
      ]
    },
    {
      "cell_type": "markdown",
      "metadata": {
        "id": "jeNSjWhdcFu6"
      },
      "source": [
        "---\n",
        "> **Q2:** You should also notice a change between the reported `memory usage` (the last line reported by the `info` method). What is the change? How do you explain the change?"
      ]
    },
    {
      "cell_type": "markdown",
      "metadata": {
        "id": "id8BF8wvb9g8"
      },
      "source": [
        "> **A2:** Because google colab has upgraded their python and pandas versions, the data type of 'Doors' column is now correctly identified as 'category' in the first place. In the earlier version of pandas, this was identified as 'int64' data type. Once we convert the data type to category, there should be a reduction in memory usage (since more memory is allocated for an int64 variable). But here we observe no difference.\n",
        "---"
      ]
    },
    {
      "cell_type": "markdown",
      "metadata": {
        "id": "HG2CamjdPfFs"
      },
      "source": [
        "\n",
        "\n",
        "## 2. Basic exploratory questions using Python\n",
        "\n"
      ]
    },
    {
      "cell_type": "markdown",
      "metadata": {
        "id": "qOPoiejtZdwD"
      },
      "source": [
        "Here we compute various summary statistics, which are quantities, such as the mean and standard deviation, that capture various characteristics of a potentially large set of values with a single number or a small set of numbers.\n"
      ]
    },
    {
      "cell_type": "markdown",
      "metadata": {
        "id": "8yo2wMMFdINB"
      },
      "source": [
        "---\n",
        "> **Q3:** Use the provided hints to answer the questions about exploring your dataset."
      ]
    },
    {
      "cell_type": "markdown",
      "metadata": {
        "id": "LIDYDNj7TJdd"
      },
      "source": [
        "> a. How many instances does the dataset have? **9080**"
      ]
    },
    {
      "cell_type": "code",
      "execution_count": null,
      "metadata": {
        "colab": {
          "base_uri": "https://localhost:8080/"
        },
        "id": "PHyGIQ2OTwfl",
        "outputId": "63dd8988-2abe-4b2a-ba81-51d939fdfd68"
      },
      "outputs": [
        {
          "name": "stdout",
          "output_type": "stream",
          "text": [
            "(9080, 11)\n"
          ]
        }
      ],
      "source": [
        "# hint: interpret the output of the following code:\n",
        "print(df.shape)"
      ]
    },
    {
      "cell_type": "markdown",
      "metadata": {
        "id": "IGbvaybkUIUR"
      },
      "source": [
        "> b. How many attributes? **11**"
      ]
    },
    {
      "cell_type": "code",
      "execution_count": null,
      "metadata": {
        "colab": {
          "base_uri": "https://localhost:8080/"
        },
        "id": "Lq38Z5FVRQ5i",
        "outputId": "a69990d3-1153-4382-fed4-45fa3e059100"
      },
      "outputs": [
        {
          "name": "stdout",
          "output_type": "stream",
          "text": [
            "(9080, 11)\n"
          ]
        }
      ],
      "source": [
        "# again, you can answer the question by interpreting the output of the same code:\n",
        "print(df.shape)"
      ]
    },
    {
      "cell_type": "markdown",
      "metadata": {
        "id": "8SPh2orQW8KG"
      },
      "source": [
        "> c. What are the attributes? **['Make', 'Model', 'Year', 'Mileage', 'Price', 'Body Style', 'Ex Color',\n",
        "       'In Color', 'Engine', 'Transmission', 'Doors']**"
      ]
    },
    {
      "cell_type": "code",
      "execution_count": null,
      "metadata": {
        "colab": {
          "base_uri": "https://localhost:8080/"
        },
        "id": "BzDyp-DvXDiw",
        "outputId": "7e36da0a-7a95-4b44-a13e-fb091a000a68"
      },
      "outputs": [
        {
          "name": "stdout",
          "output_type": "stream",
          "text": [
            "Index(['Make', 'Model', 'Year', 'Mileage', 'Price', 'Body Style', 'Ex Color',\n",
            "       'In Color', 'Engine', 'Transmission', 'Doors'],\n",
            "      dtype='object')\n"
          ]
        }
      ],
      "source": [
        "# a pandas dataframe has an attribute called columns:\n",
        "print(df.columns)"
      ]
    },
    {
      "cell_type": "markdown",
      "metadata": {
        "id": "5CvTYxKMXQ_5"
      },
      "source": [
        "> d. What are the possible values for **Body Style** & **External Color**?"
      ]
    },
    {
      "cell_type": "code",
      "execution_count": null,
      "metadata": {
        "colab": {
          "base_uri": "https://localhost:8080/"
        },
        "id": "-bIdyCeWXhFG",
        "outputId": "ff6a6cda-cbf7-4c1a-ee07-603766f15ad2"
      },
      "outputs": [
        {
          "name": "stdout",
          "output_type": "stream",
          "text": [
            "Possible body styles:\n",
            "['Sedan', 'SUV', 'Hatchback', 'Wagon', 'Coupe', 'Minivan', 'Van', 'Pickup', 'Convertible', 'Chassis']\n",
            "Categories (10, object): ['Sedan', 'SUV', 'Hatchback', 'Wagon', ..., 'Van', 'Pickup', 'Convertible',\n",
            "                          'Chassis']\n",
            "Possible external colours:\n",
            "['Gray', 'Silver', 'Black', 'White', 'Red', 'Blue', 'Brown', 'Purple', 'Green', 'Gold', 'Orange', 'Beige', 'Yellow', 'Bronze', 'Pink']\n"
          ]
        }
      ],
      "source": [
        "# the \"unique\" method helps:\n",
        "print('Possible body styles:')\n",
        "print(df['Body Style'].unique())\n",
        "\n",
        "# now your turn, for external colour:\n",
        "print('Possible external colours:')\n",
        "print(df['Ex Color'].unique().tolist())"
      ]
    },
    {
      "cell_type": "markdown",
      "metadata": {
        "id": "nNED-99zZf6w"
      },
      "source": [
        "> e. What is the *minimum*, *maximum*, *average*, *median* and *standard deviation* price?"
      ]
    },
    {
      "cell_type": "code",
      "execution_count": null,
      "metadata": {
        "colab": {
          "base_uri": "https://localhost:8080/"
        },
        "id": "NRvSaH7IZppP",
        "outputId": "959d6943-8ed9-4a40-ac4e-dcca76eb114e"
      },
      "outputs": [
        {
          "name": "stdout",
          "output_type": "stream",
          "text": [
            "min = 1490\n",
            "max = 499898\n",
            "mean = 24410.92665198238\n",
            "median = 21500.0\n",
            "Standard deviation = 16300.355338946363\n"
          ]
        }
      ],
      "source": [
        "# these are easy, to get the minimum:\n",
        "print('min = {}'.format(df['Price'].min()))\n",
        "# now, you do the rest:\n",
        "print('max = {}'.format(df['Price'].max()))\n",
        "print('mean = {}'.format(df['Price'].mean()))\n",
        "print('median = {}'.format(df['Price'].median()))\n",
        "print('Standard deviation = {}'.format(df['Price'].std()))"
      ]
    },
    {
      "cell_type": "markdown",
      "metadata": {
        "id": "vm4fAH2RbHuX"
      },
      "source": [
        "> f. Why might the median price be different than the average price? **Because the data distribution is skewed.**"
      ]
    },
    {
      "cell_type": "markdown",
      "metadata": {
        "id": "Yk9PQPvIbQpl"
      },
      "source": [
        "> g. What is the most common year of car? **2011**"
      ]
    },
    {
      "cell_type": "code",
      "execution_count": null,
      "metadata": {
        "colab": {
          "base_uri": "https://localhost:8080/"
        },
        "id": "b2mcEe-hbrpc",
        "outputId": "7ea0af6d-2f82-479c-ac44-090c7b80c8f3"
      },
      "outputs": [
        {
          "name": "stdout",
          "output_type": "stream",
          "text": [
            "0    2011\n",
            "Name: Year, dtype: category\n",
            "Categories (24, int64): [1990, 1993, 1994, 1995, ..., 2012, 2013, 2014, 2015]\n",
            "2011    2641\n",
            "2012    2020\n",
            "2013    1197\n",
            "2010     750\n",
            "2008     454\n",
            "2014     454\n",
            "2009     393\n",
            "2007     297\n",
            "2006     230\n",
            "2005     198\n",
            "2004     157\n",
            "2003     113\n",
            "2002      49\n",
            "2000      37\n",
            "2001      36\n",
            "1999      20\n",
            "1997      10\n",
            "1998       7\n",
            "1993       6\n",
            "2015       3\n",
            "1996       3\n",
            "1995       2\n",
            "1994       2\n",
            "1990       1\n",
            "Name: Year, dtype: int64\n"
          ]
        }
      ],
      "source": [
        "# hint: you can either use the 'mode()' method,\n",
        "# or the value_counts() along with idxmax()\n",
        "print(df['Year'].mode())\n",
        "print(df['Year'].value_counts())"
      ]
    },
    {
      "cell_type": "markdown",
      "metadata": {
        "id": "BbxDhMO0dj6h"
      },
      "source": [
        "> h. What is the average price of a Honda car and what is the average price of a Mercedes-Benz car? **Hint:** Try $\\texttt{df.loc}$."
      ]
    },
    {
      "cell_type": "code",
      "execution_count": null,
      "metadata": {
        "colab": {
          "base_uri": "https://localhost:8080/"
        },
        "id": "T6yes3WGdvJ2",
        "outputId": "8462e6fb-7e39-4406-bc87-b907fc429e12"
      },
      "outputs": [
        {
          "name": "stdout",
          "output_type": "stream",
          "text": [
            "Average price of a Honda car = 18337.49\n",
            "Average price of a Mercedes-Benz car = 37620.97\n"
          ]
        }
      ],
      "source": [
        "# For Honda:\n",
        "print('Average price of a Honda car = {:.2f}'.format(df.loc[df['Make'] == 'Honda']['Price'].mean()))\n",
        "# Now you do for Mercedes-Benz:\n",
        "print('Average price of a Mercedes-Benz car = {:.2f}'.format(df.loc[df['Make'] == 'Mercedes-Benz']['Price'].mean()))"
      ]
    },
    {
      "cell_type": "markdown",
      "metadata": {
        "id": "2XLXYcq7cd9F"
      },
      "source": [
        "> i. What is the ratio of 2-door to 4-door cars? **0.09317**"
      ]
    },
    {
      "cell_type": "code",
      "execution_count": null,
      "metadata": {
        "colab": {
          "base_uri": "https://localhost:8080/"
        },
        "id": "fZrDVln8bAVc",
        "outputId": "38d83c15-5d8b-4efa-a34e-7a0e9ba9614a"
      },
      "outputs": [
        {
          "name": "stdout",
          "output_type": "stream",
          "text": [
            "4    8221\n",
            "2     766\n",
            "3      93\n",
            "Name: Doors, dtype: int64\n",
            "The ratio of 2-door to 4-door cars is: 0.09317601265052913\n"
          ]
        }
      ],
      "source": [
        "# Hint: you can use the output of the value_counts()...\n",
        "print(df['Doors'].value_counts())\n",
        "print('The ratio of 2-door to 4-door cars is: {}'.format(df['Doors'].value_counts().loc[2]/df['Doors'].value_counts().loc[4]))"
      ]
    },
    {
      "cell_type": "markdown",
      "metadata": {
        "id": "HEeak81K_wri"
      },
      "source": []
    },
    {
      "cell_type": "markdown",
      "metadata": {
        "id": "gOFnYjusZdwS"
      },
      "source": [
        "> j. It is also possible to display the summary for all the attributes simultaneously in a table using the describe() function. If an attribute is quantitative, it will display its mean, standard deviation and various quantiles (including minimum, median, and maximum) values. If an attribute is qualitative, it will display its number of unique values and the top (most frequent) values.\n",
        "\n",
        "**<font color=\"red\"></font>**"
      ]
    },
    {
      "cell_type": "code",
      "execution_count": null,
      "metadata": {
        "colab": {
          "base_uri": "https://localhost:8080/",
          "height": 390
        },
        "id": "Q-HA-MDIZdwT",
        "outputId": "71b5fb6a-4de7-4631-a22f-956b76d41392"
      },
      "outputs": [
        {
          "data": {
            "text/html": [
              "<div>\n",
              "<style scoped>\n",
              "    .dataframe tbody tr th:only-of-type {\n",
              "        vertical-align: middle;\n",
              "    }\n",
              "\n",
              "    .dataframe tbody tr th {\n",
              "        vertical-align: top;\n",
              "    }\n",
              "\n",
              "    .dataframe thead th {\n",
              "        text-align: right;\n",
              "    }\n",
              "</style>\n",
              "<table border=\"1\" class=\"dataframe\">\n",
              "  <thead>\n",
              "    <tr style=\"text-align: right;\">\n",
              "      <th></th>\n",
              "      <th>Make</th>\n",
              "      <th>Model</th>\n",
              "      <th>Year</th>\n",
              "      <th>Mileage</th>\n",
              "      <th>Price</th>\n",
              "      <th>Body Style</th>\n",
              "      <th>Ex Color</th>\n",
              "      <th>In Color</th>\n",
              "      <th>Engine</th>\n",
              "      <th>Transmission</th>\n",
              "      <th>Doors</th>\n",
              "    </tr>\n",
              "  </thead>\n",
              "  <tbody>\n",
              "    <tr>\n",
              "      <th>count</th>\n",
              "      <td>9080</td>\n",
              "      <td>9080</td>\n",
              "      <td>9080.0</td>\n",
              "      <td>9080.000000</td>\n",
              "      <td>9080.000000</td>\n",
              "      <td>9080</td>\n",
              "      <td>9080</td>\n",
              "      <td>9080</td>\n",
              "      <td>9080</td>\n",
              "      <td>9080</td>\n",
              "      <td>9080.0</td>\n",
              "    </tr>\n",
              "    <tr>\n",
              "      <th>unique</th>\n",
              "      <td>49</td>\n",
              "      <td>1060</td>\n",
              "      <td>24.0</td>\n",
              "      <td>NaN</td>\n",
              "      <td>NaN</td>\n",
              "      <td>10</td>\n",
              "      <td>15</td>\n",
              "      <td>9</td>\n",
              "      <td>10</td>\n",
              "      <td>2</td>\n",
              "      <td>3.0</td>\n",
              "    </tr>\n",
              "    <tr>\n",
              "      <th>top</th>\n",
              "      <td>Nissan</td>\n",
              "      <td>Altima S</td>\n",
              "      <td>2011.0</td>\n",
              "      <td>NaN</td>\n",
              "      <td>NaN</td>\n",
              "      <td>Sedan</td>\n",
              "      <td>Black</td>\n",
              "      <td>Black</td>\n",
              "      <td>6 Cyl</td>\n",
              "      <td>Automatic</td>\n",
              "      <td>4.0</td>\n",
              "    </tr>\n",
              "    <tr>\n",
              "      <th>freq</th>\n",
              "      <td>1035</td>\n",
              "      <td>197</td>\n",
              "      <td>2641.0</td>\n",
              "      <td>NaN</td>\n",
              "      <td>NaN</td>\n",
              "      <td>3905</td>\n",
              "      <td>2404</td>\n",
              "      <td>4164</td>\n",
              "      <td>4313</td>\n",
              "      <td>8797</td>\n",
              "      <td>8221.0</td>\n",
              "    </tr>\n",
              "    <tr>\n",
              "      <th>mean</th>\n",
              "      <td>NaN</td>\n",
              "      <td>NaN</td>\n",
              "      <td>NaN</td>\n",
              "      <td>41875.531057</td>\n",
              "      <td>24410.926652</td>\n",
              "      <td>NaN</td>\n",
              "      <td>NaN</td>\n",
              "      <td>NaN</td>\n",
              "      <td>NaN</td>\n",
              "      <td>NaN</td>\n",
              "      <td>NaN</td>\n",
              "    </tr>\n",
              "    <tr>\n",
              "      <th>std</th>\n",
              "      <td>NaN</td>\n",
              "      <td>NaN</td>\n",
              "      <td>NaN</td>\n",
              "      <td>33146.564303</td>\n",
              "      <td>16300.355339</td>\n",
              "      <td>NaN</td>\n",
              "      <td>NaN</td>\n",
              "      <td>NaN</td>\n",
              "      <td>NaN</td>\n",
              "      <td>NaN</td>\n",
              "      <td>NaN</td>\n",
              "    </tr>\n",
              "    <tr>\n",
              "      <th>min</th>\n",
              "      <td>NaN</td>\n",
              "      <td>NaN</td>\n",
              "      <td>NaN</td>\n",
              "      <td>1.000000</td>\n",
              "      <td>1490.000000</td>\n",
              "      <td>NaN</td>\n",
              "      <td>NaN</td>\n",
              "      <td>NaN</td>\n",
              "      <td>NaN</td>\n",
              "      <td>NaN</td>\n",
              "      <td>NaN</td>\n",
              "    </tr>\n",
              "    <tr>\n",
              "      <th>25%</th>\n",
              "      <td>NaN</td>\n",
              "      <td>NaN</td>\n",
              "      <td>NaN</td>\n",
              "      <td>20112.250000</td>\n",
              "      <td>15987.750000</td>\n",
              "      <td>NaN</td>\n",
              "      <td>NaN</td>\n",
              "      <td>NaN</td>\n",
              "      <td>NaN</td>\n",
              "      <td>NaN</td>\n",
              "      <td>NaN</td>\n",
              "    </tr>\n",
              "    <tr>\n",
              "      <th>50%</th>\n",
              "      <td>NaN</td>\n",
              "      <td>NaN</td>\n",
              "      <td>NaN</td>\n",
              "      <td>33532.000000</td>\n",
              "      <td>21500.000000</td>\n",
              "      <td>NaN</td>\n",
              "      <td>NaN</td>\n",
              "      <td>NaN</td>\n",
              "      <td>NaN</td>\n",
              "      <td>NaN</td>\n",
              "      <td>NaN</td>\n",
              "    </tr>\n",
              "    <tr>\n",
              "      <th>75%</th>\n",
              "      <td>NaN</td>\n",
              "      <td>NaN</td>\n",
              "      <td>NaN</td>\n",
              "      <td>52564.500000</td>\n",
              "      <td>28998.000000</td>\n",
              "      <td>NaN</td>\n",
              "      <td>NaN</td>\n",
              "      <td>NaN</td>\n",
              "      <td>NaN</td>\n",
              "      <td>NaN</td>\n",
              "      <td>NaN</td>\n",
              "    </tr>\n",
              "    <tr>\n",
              "      <th>max</th>\n",
              "      <td>NaN</td>\n",
              "      <td>NaN</td>\n",
              "      <td>NaN</td>\n",
              "      <td>279950.000000</td>\n",
              "      <td>499898.000000</td>\n",
              "      <td>NaN</td>\n",
              "      <td>NaN</td>\n",
              "      <td>NaN</td>\n",
              "      <td>NaN</td>\n",
              "      <td>NaN</td>\n",
              "      <td>NaN</td>\n",
              "    </tr>\n",
              "  </tbody>\n",
              "</table>\n",
              "</div>"
            ],
            "text/plain": [
              "          Make     Model    Year  ...  Engine  Transmission   Doors\n",
              "count     9080      9080  9080.0  ...    9080          9080  9080.0\n",
              "unique      49      1060    24.0  ...      10             2     3.0\n",
              "top     Nissan  Altima S  2011.0  ...   6 Cyl     Automatic     4.0\n",
              "freq      1035       197  2641.0  ...    4313          8797  8221.0\n",
              "mean       NaN       NaN     NaN  ...     NaN           NaN     NaN\n",
              "std        NaN       NaN     NaN  ...     NaN           NaN     NaN\n",
              "min        NaN       NaN     NaN  ...     NaN           NaN     NaN\n",
              "25%        NaN       NaN     NaN  ...     NaN           NaN     NaN\n",
              "50%        NaN       NaN     NaN  ...     NaN           NaN     NaN\n",
              "75%        NaN       NaN     NaN  ...     NaN           NaN     NaN\n",
              "max        NaN       NaN     NaN  ...     NaN           NaN     NaN\n",
              "\n",
              "[11 rows x 11 columns]"
            ]
          },
          "execution_count": 20,
          "metadata": {},
          "output_type": "execute_result"
        }
      ],
      "source": [
        "df.describe(include='all')"
      ]
    },
    {
      "cell_type": "markdown",
      "metadata": {
        "id": "qrYkX03aZdwU"
      },
      "source": [
        "Note that count refers to the number of non-missing values for each attribute."
      ]
    },
    {
      "cell_type": "markdown",
      "metadata": {
        "id": "cfhx2ABmZdwU"
      },
      "source": [
        "> k. For multivariate statistics, you can compute the covariance and correlation between pairs of attributes.\n",
        "\n",
        "**<font color=\"red\"></font>**"
      ]
    },
    {
      "cell_type": "code",
      "execution_count": null,
      "metadata": {
        "colab": {
          "base_uri": "https://localhost:8080/",
          "height": 128
        },
        "id": "sao9-AVFZdwV",
        "outputId": "b19603ee-7f9c-4356-8f8a-b88a54db364d"
      },
      "outputs": [
        {
          "name": "stdout",
          "output_type": "stream",
          "text": [
            "Covariance:\n"
          ]
        },
        {
          "data": {
            "text/html": [
              "<div>\n",
              "<style scoped>\n",
              "    .dataframe tbody tr th:only-of-type {\n",
              "        vertical-align: middle;\n",
              "    }\n",
              "\n",
              "    .dataframe tbody tr th {\n",
              "        vertical-align: top;\n",
              "    }\n",
              "\n",
              "    .dataframe thead th {\n",
              "        text-align: right;\n",
              "    }\n",
              "</style>\n",
              "<table border=\"1\" class=\"dataframe\">\n",
              "  <thead>\n",
              "    <tr style=\"text-align: right;\">\n",
              "      <th></th>\n",
              "      <th>Mileage</th>\n",
              "      <th>Price</th>\n",
              "    </tr>\n",
              "  </thead>\n",
              "  <tbody>\n",
              "    <tr>\n",
              "      <th>Mileage</th>\n",
              "      <td>1.098695e+09</td>\n",
              "      <td>-2.188586e+08</td>\n",
              "    </tr>\n",
              "    <tr>\n",
              "      <th>Price</th>\n",
              "      <td>-2.188586e+08</td>\n",
              "      <td>2.657016e+08</td>\n",
              "    </tr>\n",
              "  </tbody>\n",
              "</table>\n",
              "</div>"
            ],
            "text/plain": [
              "              Mileage         Price\n",
              "Mileage  1.098695e+09 -2.188586e+08\n",
              "Price   -2.188586e+08  2.657016e+08"
            ]
          },
          "execution_count": 21,
          "metadata": {},
          "output_type": "execute_result"
        }
      ],
      "source": [
        "print('Covariance:')\n",
        "df.cov()"
      ]
    },
    {
      "cell_type": "code",
      "execution_count": null,
      "metadata": {
        "colab": {
          "base_uri": "https://localhost:8080/",
          "height": 128
        },
        "id": "GAjoJjSnZdwW",
        "outputId": "7e0cfda7-0117-4446-9e79-499fd1be97e1"
      },
      "outputs": [
        {
          "name": "stdout",
          "output_type": "stream",
          "text": [
            "Correlation:\n"
          ]
        },
        {
          "data": {
            "text/html": [
              "<div>\n",
              "<style scoped>\n",
              "    .dataframe tbody tr th:only-of-type {\n",
              "        vertical-align: middle;\n",
              "    }\n",
              "\n",
              "    .dataframe tbody tr th {\n",
              "        vertical-align: top;\n",
              "    }\n",
              "\n",
              "    .dataframe thead th {\n",
              "        text-align: right;\n",
              "    }\n",
              "</style>\n",
              "<table border=\"1\" class=\"dataframe\">\n",
              "  <thead>\n",
              "    <tr style=\"text-align: right;\">\n",
              "      <th></th>\n",
              "      <th>Mileage</th>\n",
              "      <th>Price</th>\n",
              "    </tr>\n",
              "  </thead>\n",
              "  <tbody>\n",
              "    <tr>\n",
              "      <th>Mileage</th>\n",
              "      <td>1.000000</td>\n",
              "      <td>-0.405068</td>\n",
              "    </tr>\n",
              "    <tr>\n",
              "      <th>Price</th>\n",
              "      <td>-0.405068</td>\n",
              "      <td>1.000000</td>\n",
              "    </tr>\n",
              "  </tbody>\n",
              "</table>\n",
              "</div>"
            ],
            "text/plain": [
              "          Mileage     Price\n",
              "Mileage  1.000000 -0.405068\n",
              "Price   -0.405068  1.000000"
            ]
          },
          "execution_count": 22,
          "metadata": {},
          "output_type": "execute_result"
        }
      ],
      "source": [
        "print('Correlation:')\n",
        "df.corr()"
      ]
    },
    {
      "cell_type": "markdown",
      "metadata": {
        "id": "FWoLpa4kld5u"
      },
      "source": [
        "---"
      ]
    },
    {
      "cell_type": "markdown",
      "metadata": {
        "id": "ZViWoH9Pk2g3"
      },
      "source": [
        "## 3. Basic data visualisation using Python\n"
      ]
    },
    {
      "cell_type": "markdown",
      "metadata": {
        "id": "s_oAGucaZdwY"
      },
      "source": [
        "Data visualization is the display of information in a graphic or tabular format. Successful visualization requires that the data (information) be converted into a visual format so that the characteristics of the data and the relationships among data items or attributes can be analyzed or reported.\n"
      ]
    },
    {
      "cell_type": "markdown",
      "metadata": {
        "id": "Z1guks8KZdwZ"
      },
      "source": [
        "---\n",
        "> To display the histogram for the milieage attribute by discretizing it into 8 separate bins and counting the frequency for each bin, run this code:\n",
        "\n",
        "**<font color=\"red\"></font>**"
      ]
    },
    {
      "cell_type": "code",
      "execution_count": null,
      "metadata": {
        "colab": {
          "base_uri": "https://localhost:8080/",
          "height": 285
        },
        "id": "VBuE4lx9ZdwZ",
        "outputId": "9ddae00f-d7b7-48f5-8273-02d05ce3a3f6"
      },
      "outputs": [
        {
          "data": {
            "text/plain": [
              "<matplotlib.axes._subplots.AxesSubplot at 0x7fdf00c81390>"
            ]
          },
          "execution_count": 23,
          "metadata": {},
          "output_type": "execute_result"
        },
        {
          "data": {
            "image/png": "[encoded data removed]",
            "text/plain": [
              "<Figure size 432x288 with 1 Axes>"
            ]
          },
          "metadata": {
            "needs_background": "light"
          },
          "output_type": "display_data"
        }
      ],
      "source": [
        "%matplotlib inline\n",
        "\n",
        "df['Mileage'].hist(bins=8)"
      ]
    },
    {
      "cell_type": "markdown",
      "metadata": {
        "id": "lxeuhuSeZdwa"
      },
      "source": [
        "> A boxplot can also be used to show the distribution of values for each attribute.\n",
        "\n",
        "**<font color=\"red\"></font>**"
      ]
    },
    {
      "cell_type": "code",
      "execution_count": null,
      "metadata": {
        "colab": {
          "base_uri": "https://localhost:8080/",
          "height": 282
        },
        "id": "jsD7-QHXZdwb",
        "outputId": "913d69d8-11ed-4c2b-c40e-de8c78646831"
      },
      "outputs": [
        {
          "data": {
            "text/plain": [
              "<matplotlib.axes._subplots.AxesSubplot at 0x7fdf00339c50>"
            ]
          },
          "execution_count": 24,
          "metadata": {},
          "output_type": "execute_result"
        },
        {
          "data": {
            "image/png": "[encoded data removed]",
            "text/plain": [
              "<Figure size 432x288 with 1 Axes>"
            ]
          },
          "metadata": {
            "needs_background": "light"
          },
          "output_type": "display_data"
        }
      ],
      "source": [
        "df.boxplot()"
      ]
    },
    {
      "cell_type": "markdown",
      "metadata": {
        "id": "7iMyZB0TZdwc"
      },
      "source": [
        "> We can finally plot pairwise relationships in a dataset by running the code below. By default, this function will create a grid of axes such that each numeric variable in our dataset will be shared across the y-axes across a single row and the x-axes across a single column. In the diagonal plots, a univariate distribution plot is drawn to show the marginal distribution of the data in each column. Here scatterplot() is used for each pairing of the variables and histplot() for the marginal plots along the diagonal.\n",
        "\n",
        "**<font color=\"red\"></font>**"
      ]
    },
    {
      "cell_type": "code",
      "execution_count": null,
      "metadata": {
        "colab": {
          "base_uri": "https://localhost:8080/",
          "height": 391
        },
        "id": "h9MF9IA2mBAE",
        "outputId": "c596fbe8-5903-4032-d15a-9eb7f3c68cee"
      },
      "outputs": [
        {
          "data": {
            "text/plain": [
              "<seaborn.axisgrid.PairGrid at 0x7fdeffe8be50>"
            ]
          },
          "execution_count": 25,
          "metadata": {},
          "output_type": "execute_result"
        },
        {
          "data": {
            "image/png": "[encoded data removed]",
            "text/plain": [
              "<Figure size 360x360 with 6 Axes>"
            ]
          },
          "metadata": {
            "needs_background": "light"
          },
          "output_type": "display_data"
        }
      ],
      "source": [
        "import seaborn as sns\n",
        "import matplotlib.pyplot as plt\n",
        "sns.pairplot(df)"
      ]
    },
    {
      "cell_type": "markdown",
      "metadata": {
        "id": "Qn_a3nqYXH8N"
      },
      "source": [
        "---\n",
        "> **Q4:** Execute the command above and interpret what the plot is showing. In particular, describe the general trend between `mileage` and `price`, as well as `mileage` and `year`."
      ]
    },
    {
      "cell_type": "markdown",
      "metadata": {
        "id": "Slc1EW1YAKI9"
      },
      "source": [
        "**The pairplots will be created only for numeric attributes. Therefore, we first convert the data type of the column \"Year\" to \"int64\". Then we use the same code above to obtain the pairplot.**"
      ]
    },
    {
      "cell_type": "code",
      "execution_count": null,
      "metadata": {
        "id": "xIJHnDkRAZPQ"
      },
      "outputs": [],
      "source": [
        "df = df.astype({'Make':'category', 'Model':'category', 'Year':'int64',\n",
        "                'Mileage':'int32', 'Price':'int64', 'Body Style':'category',\n",
        "                'Ex Color':'category' , 'In Color':'category',\n",
        "                'Engine':'category', 'Transmission':'category', 'Doors':'category'})"
      ]
    },
    {
      "cell_type": "code",
      "execution_count": null,
      "metadata": {
        "colab": {
          "base_uri": "https://localhost:8080/",
          "height": 567
        },
        "id": "pGNqSifBAj_a",
        "outputId": "87c23dfe-5436-414c-e75e-345b06a8263a"
      },
      "outputs": [
        {
          "data": {
            "text/plain": [
              "<seaborn.axisgrid.PairGrid at 0x7fdee7cf5490>"
            ]
          },
          "execution_count": 28,
          "metadata": {},
          "output_type": "execute_result"
        },
        {
          "data": {
            "image/png": "[encoded data removed]",
            "text/plain": [
              "<Figure size 540x540 with 12 Axes>"
            ]
          },
          "metadata": {
            "needs_background": "light"
          },
          "output_type": "display_data"
        }
      ],
      "source": [
        "sns.pairplot(df)"
      ]
    },
    {
      "cell_type": "markdown",
      "metadata": {
        "id": "xztMxUgTl6Vx"
      },
      "source": [
        "> **A4:** In general, the Milage and Price are uncorrelated. A negative correlation can be observed between Milage and Year.\n",
        "---"
      ]
    },
    {
      "cell_type": "markdown",
      "metadata": {
        "id": "bLlPtuPgF4jt"
      },
      "source": [
        "# Lab session 2: Data Preprocessing"
      ]
    },
    {
      "cell_type": "markdown",
      "metadata": {
        "id": "EMmueLHXF4jw"
      },
      "source": [
        "## Introduction\n",
        "\n",
        "The aim of this lab (Lab session 2) is for students to get experience with **Data Preprocessing** covered in lecture 3, and more specifically with the concepts of **handling missing values**, **handling noisy data**, **data normalisation**, **aggregation**, **sampling**, **discretisation**, and **principal component analysis**.\n",
        "\n"
      ]
    },
    {
      "cell_type": "markdown",
      "metadata": {
        "id": "ZBJx3HwyF4jy"
      },
      "source": [
        "## 1. Data Quality Issues\n",
        "\n",
        "Poor data quality can have an adverse effect on data mining. Among the common data quality issues include noise, outliers, missing values, and duplicate data. This section presents examples of Python code to alleviate some of these data quality problems. We begin with an example dataset from the UCI machine learning repository containing information about breast cancer patients. We will first download the dataset using the Pandas read_csv() function and display its first 5 data points."
      ]
    },
    {
      "cell_type": "code",
      "execution_count": null,
      "metadata": {
        "id": "2A9zZaxiF4jy"
      },
      "outputs": [],
      "source": [
        "import pandas as pd\n",
        "data = pd.read_csv('https://archive.ics.uci.edu/ml/machine-learning-databases/breast-cancer-wisconsin/breast-cancer-wisconsin.data', header=None)\n",
        "data.columns = ['Sample code', 'Clump Thickness', 'Uniformity of Cell Size', 'Uniformity of Cell Shape',\n",
        "                'Marginal Adhesion', 'Single Epithelial Cell Size', 'Bare Nuclei', 'Bland Chromatin',\n",
        "                'Normal Nucleoli', 'Mitoses','Class']\n",
        "\n",
        "data = data.drop(['Sample code'],axis=1)\n",
        "print('Number of instances = %d' % (data.shape[0]))\n",
        "print('Number of attributes = %d' % (data.shape[1]))\n",
        "data.head()"
      ]
    },
    {
      "cell_type": "markdown",
      "metadata": {
        "id": "ShYs5bCPF4jz"
      },
      "source": [
        "### 1.1 Missing Values\n",
        "\n",
        "It is not unusual for an object to be missing one or more attribute values. In some cases, the information was not collected; while in other cases, some attributes are inapplicable to the data instances. This section presents examples on the different approaches for handling missing values.\n",
        "\n",
        "According to the description of the data (https://archive.ics.uci.edu/ml/datasets/breast+cancer+wisconsin+(original), the missing values are encoded as '?' in the original data. Our first task is to convert the missing values to NaNs. We can then count the number of missing values in each column of the data."
      ]
    },
    {
      "cell_type": "code",
      "execution_count": null,
      "metadata": {
        "id": "xQ3-kRBQF4j0"
      },
      "outputs": [],
      "source": [
        "import numpy as np\n",
        "\n",
        "data = data.replace('?',np.NaN)\n",
        "\n",
        "print('Number of instances = %d' % (data.shape[0]))\n",
        "print('Number of attributes = %d' % (data.shape[1]))\n",
        "\n",
        "print('Number of missing values:')\n",
        "for col in data.columns:\n",
        "    print('\\t%s: %d' % (col,data[col].isna().sum()))"
      ]
    },
    {
      "cell_type": "markdown",
      "metadata": {
        "id": "sp4x-fi5F4j1"
      },
      "source": [
        "Observe that only the 'Bare Nuclei' column contains missing values. In the following example, the missing values in the 'Bare Nuclei' column are replaced by the median value of that column. The values before and after replacement are shown for a subset of the data points."
      ]
    },
    {
      "cell_type": "code",
      "execution_count": null,
      "metadata": {
        "id": "IT8oNujeF4j1"
      },
      "outputs": [],
      "source": [
        "data2 = data['Bare Nuclei']\n",
        "\n",
        "print('Before replacing missing values:')\n",
        "print(data2[20:25])\n",
        "data2 = data2.fillna(data2.median())\n",
        "\n",
        "print('\\nAfter replacing missing values:')\n",
        "print(data2[20:25])"
      ]
    },
    {
      "cell_type": "markdown",
      "metadata": {
        "id": "lln4hx_UF4j2"
      },
      "source": [
        "Instead of replacing the missing values, another common approach is to discard the data points that contain missing values. This can be easily accomplished by applying the dropna() function to the data frame."
      ]
    },
    {
      "cell_type": "code",
      "execution_count": null,
      "metadata": {
        "id": "OMF_Bd1GF4j2"
      },
      "outputs": [],
      "source": [
        "print('Number of rows in original data = %d' % (data.shape[0]))\n",
        "\n",
        "data2 = data.dropna()\n",
        "print('Number of rows after discarding missing values = %d' % (data2.shape[0]))"
      ]
    },
    {
      "cell_type": "markdown",
      "metadata": {
        "id": "NqcnS9GbF4j2"
      },
      "source": [
        "### 1.2 Outliers\n",
        "\n",
        "Outliers are data instances with characteristics that are considerably different from the rest of the dataset. In the example code below, we will draw a boxplot to identify the columns in the table that contain outliers. Note that the values in all columns (except for 'Bare Nuclei') are originally stored as 'int64' whereas the values in the 'Bare Nuclei' column are stored as string objects (since the column initially contains strings such as '?' for representing missing values). Thus, we must  convert the column into numeric values first before creating the boxplot. Otherwise, the column will not be displayed when drawing the boxplot.\n",
        "\n",
        "Note: Regarding the boxplot:\n",
        "![image.png](data:image/png;base64,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)"
      ]
    },
    {
      "cell_type": "code",
      "execution_count": null,
      "metadata": {
        "colab": {
          "base_uri": "https://localhost:8080/",
          "height": 262
        },
        "id": "y0b5ePigF4j3",
        "outputId": "983e10ca-1f8c-44fa-ae11-d654029fa853"
      },
      "outputs": [
        {
          "name": "stderr",
          "output_type": "stream",
          "text": [
            "/usr/local/lib/python3.7/dist-packages/matplotlib/cbook/__init__.py:1376: VisibleDeprecationWarning: Creating an ndarray from ragged nested sequences (which is a list-or-tuple of lists-or-tuples-or ndarrays with different lengths or shapes) is deprecated. If you meant to do this, you must specify 'dtype=object' when creating the ndarray.\n",
            "  X = np.atleast_1d(X.T if isinstance(X, np.ndarray) else np.asarray(X))\n"
          ]
        },
        {
          "data": {
            "text/plain": [
              "<matplotlib.axes._subplots.AxesSubplot at 0x7f8520ea7c10>"
            ]
          },
          "execution_count": 5,
          "metadata": {},
          "output_type": "execute_result"
        },
        {
          "data": {
            "image/png": "[encoded data removed]",
            "text/plain": [
              "<Figure size 1440x216 with 1 Axes>"
            ]
          },
          "metadata": {
            "needs_background": "light"
          },
          "output_type": "display_data"
        }
      ],
      "source": [
        "data2 = data.drop(['Class'],axis=1)\n",
        "data2['Bare Nuclei'] = pd.to_numeric(data2['Bare Nuclei'])\n",
        "data2.boxplot(figsize=(20,3))"
      ]
    },
    {
      "cell_type": "markdown",
      "metadata": {
        "id": "MDrpi2tkF4j3"
      },
      "source": [
        "The boxplots suggest that only 5 of the columns (Marginal Adhesion, Single Epithetial Cell Size, Bland Cromatin, Normal Nucleoli, and Mitoses) contain abnormally high values. To discard the outliers, we can compute the Z-score for each attribute and remove those instances containing attributes with abnormally high or low Z-score (e.g., if Z > 3 or Z <= -3).\n",
        "\n",
        "\n",
        "The following code shows the results of standardizing the columns of the data. Note that missing values (NaN) are not affected by the standardization process."
      ]
    },
    {
      "cell_type": "code",
      "execution_count": null,
      "metadata": {
        "id": "4fKcpRS1F4j3"
      },
      "outputs": [],
      "source": [
        "Z = (data2-data2.mean())/data2.std()\n",
        "Z[20:25]"
      ]
    },
    {
      "cell_type": "markdown",
      "metadata": {
        "id": "1Yy9zEY0F4j4"
      },
      "source": [
        "The following code shows the results of discarding columns with Z > 3 or Z <= -3."
      ]
    },
    {
      "cell_type": "code",
      "execution_count": null,
      "metadata": {
        "id": "-cSkvZDYF4j4"
      },
      "outputs": [],
      "source": [
        "print('Number of rows before discarding outliers = %d' % (Z.shape[0]))\n",
        "\n",
        "Z2 = Z.loc[((Z > -3).sum(axis=1)==9) & ((Z <= 3).sum(axis=1)==9),:]\n",
        "print('Number of rows after discarding outlier values = %d' % (Z2.shape[0]))"
      ]
    },
    {
      "cell_type": "markdown",
      "metadata": {
        "id": "0JyC3rJmF4j4"
      },
      "source": [
        "### 1.3 Duplicate Data\n",
        "\n",
        "Some datasets, especially those obtained by merging multiple data sources, may contain duplicates or near duplicate instances. The term deduplication is often used to refer to the process of dealing with duplicate data issues. In the following example, we first check for duplicate instances in the breast cancer dataset."
      ]
    },
    {
      "cell_type": "code",
      "execution_count": null,
      "metadata": {
        "id": "CgRZK1mDF4j4"
      },
      "outputs": [],
      "source": [
        "dups = data.duplicated()\n",
        "print('Number of duplicate rows = %d' % (dups.sum()))\n",
        "data.loc[[11,28]]"
      ]
    },
    {
      "cell_type": "markdown",
      "metadata": {
        "id": "KIBajhP9F4j5"
      },
      "source": [
        "The duplicated() function will return a Boolean array that indicates whether each row is a duplicate of a previous row in the table. The results suggest there are 236 duplicate rows in the breast cancer dataset. For example, the instance with row index 11 has identical attribute values as the instance with row index 28. Although such duplicate rows may correspond to samples for different individuals, in this hypothetical example, we assume that the duplicates are samples taken from the same individual and illustrate below how to remove the duplicated rows."
      ]
    },
    {
      "cell_type": "code",
      "execution_count": null,
      "metadata": {
        "id": "cKU-MXTMF4j5"
      },
      "outputs": [],
      "source": [
        "print('Number of rows before discarding duplicates = %d' % (data.shape[0]))\n",
        "data_deduplicated = data.drop_duplicates()\n",
        "print('Number of rows after discarding duplicates = %d' % (data_deduplicated.shape[0]))"
      ]
    },
    {
      "cell_type": "markdown",
      "metadata": {
        "id": "KhZBgpeXF4j5"
      },
      "source": [
        "## 2. Aggregation\n",
        "\n",
        "Data aggregation is a preprocessing task where the values of two or more objects are combined into a single object. The motivation for aggregation includes (1) reducing the size of data to be processed, (2) changing the granularity of analysis (from fine-scale to coarser-scale), and (3) improving the stability of the data.\n",
        "\n",
        "In the example below, we will use the daily precipitation time series data for a weather station located at Detroit Metro Airport. The raw data was obtained from the Climate Data Online website (https://www.ncdc.noaa.gov/cdo-web/). The daily precipitation time series will be compared against its monthly values.\n",
        "\n",
        "The code below will load the precipitation time series data and draw a line plot of its daily time series."
      ]
    },
    {
      "cell_type": "code",
      "execution_count": null,
      "metadata": {
        "id": "W6DIBx7KF4j5"
      },
      "outputs": [],
      "source": [
        "daily = pd.read_csv('DTW_prec.csv', header='infer')\n",
        "daily.index = pd.to_datetime(daily['DATE'])\n",
        "daily = daily['PRCP']\n",
        "ax = daily.plot(kind='line',figsize=(15,3))\n",
        "ax.set_title('Daily Precipitation (variance = %.4f)' % (daily.var()))"
      ]
    },
    {
      "cell_type": "markdown",
      "metadata": {
        "id": "0Df9hJHdF4j6"
      },
      "source": [
        "Observe that the daily time series appear to be quite chaotic and varies significantly from one time step to another. The time series can be grouped and aggregated by month to obtain the total monthly precipitation values. The resulting time series appears to vary more smoothly compared to the daily time series."
      ]
    },
    {
      "cell_type": "code",
      "execution_count": null,
      "metadata": {
        "id": "2SlpupkOF4j6"
      },
      "outputs": [],
      "source": [
        "monthly = daily.groupby(pd.Grouper(freq='M')).sum()\n",
        "ax = monthly.plot(kind='line',figsize=(15,3))\n",
        "ax.set_title('Monthly Precipitation (variance = %.4f)' % (monthly.var()))"
      ]
    },
    {
      "cell_type": "markdown",
      "metadata": {
        "id": "2jV6CXS-F4j6"
      },
      "source": [
        "In the example below, the daily precipitation time series are grouped and aggregated by year to obtain the annual precipitation values."
      ]
    },
    {
      "cell_type": "code",
      "execution_count": null,
      "metadata": {
        "id": "Os26x6XTF4j6"
      },
      "outputs": [],
      "source": [
        "annual = daily.groupby(pd.Grouper(freq='Y')).sum()\n",
        "ax = annual.plot(kind='line',figsize=(15,3))\n",
        "ax.set_title('Annual Precipitation (variance = %.4f)' % (annual.var()))"
      ]
    },
    {
      "cell_type": "markdown",
      "metadata": {
        "id": "P68oQhtGF4j7"
      },
      "source": [
        "## 3. Sampling\n",
        "\n",
        "Sampling is an approach commonly used to facilitate (1) data reduction for exploratory data analysis and scaling up algorithms to big data applications and (2) quantifying uncertainties due to varying data distributions. There are various methods available for data sampling, such as sampling without replacement, where each selected instance is removed from the dataset, and sampling with replacement, where each selected instance is not removed, thus allowing it to be selected more than once in the sample.\n",
        "\n",
        "In the example below, we will apply sampling with replacement and without replacement to the breast cancer dataset obtained from the UCI machine learning repository. We initially display the first five records of the table."
      ]
    },
    {
      "cell_type": "code",
      "execution_count": null,
      "metadata": {
        "id": "sAM4p9S4F4j7"
      },
      "outputs": [],
      "source": [
        "data.head()"
      ]
    },
    {
      "cell_type": "markdown",
      "metadata": {
        "id": "nPl0EipfF4j7"
      },
      "source": [
        "In the following code, a sample of size 3 is randomly selected (without replacement) from the original data. </br>\n",
        "Note: if you run the following code multiple times, then each time you will get a different result."
      ]
    },
    {
      "cell_type": "code",
      "execution_count": null,
      "metadata": {
        "id": "B47ATQ99F4j7"
      },
      "outputs": [],
      "source": [
        "sample = data.sample(n=3)\n",
        "sample"
      ]
    },
    {
      "cell_type": "markdown",
      "metadata": {
        "id": "nx_LiuwqF4j7"
      },
      "source": [
        "In the next example, we randomly select 1% of the data (without replacement) and display the selected samples. The random_state argument of the function specifies the seed value of the random number generator. </br>\n",
        "Note:  if you run the following code multiple times, then each time you will get the same result (because of the random_state argument)."
      ]
    },
    {
      "cell_type": "code",
      "execution_count": null,
      "metadata": {
        "id": "USrzqmXTF4j8"
      },
      "outputs": [],
      "source": [
        "sample = data.sample(frac=0.01, random_state=1)\n",
        "sample"
      ]
    },
    {
      "cell_type": "markdown",
      "metadata": {
        "id": "BR39k-g6F4j8"
      },
      "source": [
        "Finally, we perform a sampling with replacement to create a sample whose size is equal to 1% of the entire data. You should be able to observe duplicate instances in the sample by increasing the sample size."
      ]
    },
    {
      "cell_type": "code",
      "execution_count": null,
      "metadata": {
        "id": "PFKvuRtVF4j8",
        "scrolled": false
      },
      "outputs": [],
      "source": [
        "sample = data.sample(frac=0.01, replace=True, random_state=1)\n",
        "sample"
      ]
    },
    {
      "cell_type": "markdown",
      "metadata": {
        "id": "FoghbOhJF4j8"
      },
      "source": [
        "## 4. Discretization\n",
        "\n",
        "Discretization is a data preprocessing step that is often used to transform a continuous-valued attribute to a categorical attribute. The example below illustrates two simple but widely-used unsupervised discretization methods (equal width and equal depth) applied to the 'Clump Thickness' attribute of the breast cancer dataset.\n",
        "\n",
        "First, we plot a histogram that shows the distribution of the attribute values. The value_counts() function can also be applied to count the frequency of each attribute value."
      ]
    },
    {
      "cell_type": "code",
      "execution_count": null,
      "metadata": {
        "id": "zdLqrRIVF4j8"
      },
      "outputs": [],
      "source": [
        "data['Clump Thickness'].hist(bins=10)\n",
        "data['Clump Thickness'].value_counts(sort=False)"
      ]
    },
    {
      "cell_type": "markdown",
      "metadata": {
        "id": "3z30rd_nF4j9"
      },
      "source": [
        "For the equal width method, we can apply the cut() function to discretize the attribute into 4 bins of similar interval widths. The value_counts() function can be used to determine the number of instances in each bin."
      ]
    },
    {
      "cell_type": "code",
      "execution_count": null,
      "metadata": {
        "id": "QfVXGFr9F4j9"
      },
      "outputs": [],
      "source": [
        "bins = pd.cut(data['Clump Thickness'],4)\n",
        "bins.value_counts(sort=False)"
      ]
    },
    {
      "cell_type": "markdown",
      "metadata": {
        "id": "BThohS8tF4j9"
      },
      "source": [
        "For the equal frequency method, the qcut() function can be used to partition the values into 4 bins such that each bin has nearly the same number of instances."
      ]
    },
    {
      "cell_type": "code",
      "execution_count": null,
      "metadata": {
        "id": "lxKXDdSTF4j-"
      },
      "outputs": [],
      "source": [
        "bins = pd.qcut(data['Clump Thickness'],4)\n",
        "bins.value_counts(sort=False)"
      ]
    },
    {
      "cell_type": "markdown",
      "metadata": {
        "id": "Q1qmn-n4F4j-"
      },
      "source": [
        "## 5. Principal Component Analysis\n",
        "\n",
        "Principal component analysis (PCA) is a classical method for reducing the number of attributes in the data by projecting the data from its original high-dimensional space into a lower-dimensional space. The new attributes (also known as components) created by PCA have the following properties: (1) they are linear combinations of the original attributes, (2) they are orthogonal (perpendicular) to each other, and (3) they capture the maximum amount of variation in the data.\n",
        "\n",
        "The example below illustrates the application of PCA to an image dataset. There are 16 images (i.e., RGB -Red Blue Green- files; you can get an idea of what is an image [here](https://levelup.gitconnected.com/pixels-arrays-and-images-ef3f03638fe7)), each of which has a size of 111 x 111 pixels. The example code below will read each image file and convert the RGB image into 111 x 111 x 3 = 36963 feature values. This will create a data matrix of size 16 x 36963. The example code below also shows-plots the images."
      ]
    },
    {
      "cell_type": "code",
      "execution_count": null,
      "metadata": {
        "id": "2OEMwx43F4j-"
      },
      "outputs": [],
      "source": [
        "%matplotlib inline\n",
        "import matplotlib.pyplot as plt\n",
        "import matplotlib.image as mpimg\n",
        "import numpy as np\n",
        "\n",
        "numImages = 16\n",
        "fig = plt.figure(figsize=(7,7))\n",
        "imgData = np.zeros(shape=(numImages,36963))\n",
        "\n",
        "for i in range(1,numImages+1):\n",
        "    filename = 'pics/Picture'+str(i)+'.jpg'\n",
        "    img = mpimg.imread(filename)\n",
        "    ax = fig.add_subplot(4,4,i)\n",
        "    plt.imshow(img)\n",
        "    plt.axis('off')\n",
        "    ax.set_title(str(i))\n",
        "    imgData[i-1] = np.array(img.flatten()).reshape(1,img.shape[0]*img.shape[1]*img.shape[2])"
      ]
    },
    {
      "cell_type": "markdown",
      "metadata": {
        "id": "9VRhc9rAF4j-"
      },
      "source": [
        "Using PCA, the data matrix is projected to its first two principal components. The projected values of the original image data are stored in a pandas DataFrame object named projected."
      ]
    },
    {
      "cell_type": "code",
      "execution_count": null,
      "metadata": {
        "id": "2go-GXYpF4j-"
      },
      "outputs": [],
      "source": [
        "import pandas as pd\n",
        "from sklearn.decomposition import PCA\n",
        "\n",
        "numComponents = 2\n",
        "pca = PCA(n_components=numComponents)\n",
        "pca.fit(imgData)\n",
        "\n",
        "projected = pca.transform(imgData)\n",
        "projected = pd.DataFrame(projected,columns=['pc1','pc2'],index=range(1,numImages+1))\n",
        "projected['food'] = ['burger', 'burger','burger','burger','drink','drink','drink','drink',\n",
        "                      'pasta', 'pasta', 'pasta', 'pasta', 'chicken', 'chicken', 'chicken', 'chicken']\n",
        "projected"
      ]
    },
    {
      "cell_type": "markdown",
      "metadata": {
        "id": "IxyjC2GgF4j-"
      },
      "source": [
        "Finally, we draw a scatter plot to display the projected values. Observe that: all images of burgers are projected to the same region; all images of drinks are projected to the same region; all images of pastas are projected to the same region; however, the images for fried chicken (shown as black squares in the diagram) are harder to discriminate."
      ]
    },
    {
      "cell_type": "code",
      "execution_count": null,
      "metadata": {
        "id": "8mQNO8nWF4j_"
      },
      "outputs": [],
      "source": [
        "import matplotlib.pyplot as plt\n",
        "\n",
        "colors = {'burger':'b', 'drink':'r', 'pasta':'g', 'chicken':'k'}\n",
        "markerTypes = {'burger':'+', 'drink':'x', 'pasta':'o', 'chicken':'s'}\n",
        "\n",
        "for foodType in markerTypes:\n",
        "    d = projected[projected['food']==foodType]\n",
        "    plt.scatter(d['pc1'],d['pc2'],c=colors[foodType],s=60,marker=markerTypes[foodType])"
      ]
    },
    {
      "cell_type": "markdown",
      "metadata": {
        "id": "7PmY8Xcqp0xy"
      },
      "source": [
        "# Lab session 3: Data Exploration and Visualisation"
      ]
    },
    {
      "cell_type": "markdown",
      "metadata": {
        "id": "5KR7EQbYp0x0"
      },
      "source": [
        "## Introduction\n",
        "\n",
        "The aim of this lab (Lab session 3) is for students to get experience with **Data Exploration** and **Data Visualisation**, both covered in lecture 4, by using typical Python libraries.\n",
        "\n",
        "\n",
        "This session starts with a tutorial that uses examples to introduce you to the practical knowledge that you will need for the corresponding assignment. We highly recommend that you read the following tutorials if you need a gentler introduction to the libraries that we use:\n",
        "- [Numpy quickstart tutorial](https://numpy.org/devdocs/user/quickstart.html)\n",
        "- [Numpy: basic broadcasting](https://numpy.org/doc/stable/user/basics.broadcasting.html)\n",
        "- [Pandas](https://pandas.pydata.org/pandas-docs/stable/user_guide/10min.html)\n",
        "- [Matplotlib](https://matplotlib.org/tutorials/introductory/pyplot.html)\n",
        "- [Seaborn](https://seaborn.pydata.org/tutorial/relational.html)\n",
        "- [Scikit-learn](https://scikit-learn.org/stable/tutorial/basic/tutorial.html)\n",
        "\n"
      ]
    },
    {
      "cell_type": "markdown",
      "metadata": {
        "id": "_1Oo7pF1p0x3"
      },
      "source": [
        "## 1 Exploring and visualising the graduation rate dataset\n",
        "\n",
        "\n",
        "In order to present typical Python functionalities for data exploration and data visualisation, we will use the graduation rate dataset (http://roycekimmons.com/tools/generated_data) as part of a working example.\n",
        "\n",
        "Note that this is a **synthetic** dataset that presents a familiar setting for the sake of simplicity. Therefore, this dataset should not be used to draw conclusions about students in the real world."
      ]
    },
    {
      "cell_type": "markdown",
      "metadata": {
        "id": "AZ8fmvzJp0x3"
      },
      "source": [
        "### 1.1 Loading the graduation rate dataset\n",
        "\n",
        "The graduation rate dataset is stored in a file called ``graduation_rate.csv``, which can be found together with this notebook. You can inspect this file using any text editor. The file contains 1001 lines. The first line contains the name of the features, separated by commas. The remaining lines contain one observation per line. The values for the features of each observation are also separated by lines.\n",
        "\n",
        "The library ``pandas`` has a convenient function called ``read_csv``, which expects a file that follows the convention described above. This function returns a ``DataFrame``, which represents the data set.\n",
        "\n",
        "The function ``display`` used within a notebook is similar to the Python function ``print``, but presents a ``DataFrame`` in a much more convenient format. By default, only the first five rows and the last five rows of a large ``DataFrame`` are shown.\n",
        "\n",
        "This initial inspection reveals that most features are numerical, except for the feature ``parental level of education``, which has multiple text values. In order to display the valid values for this feature, we select the corresponding column from the ``DataFrame``, and use the method ``Series.unique``. This method returns the unique values across a ``Series``."
      ]
    },
    {
      "cell_type": "code",
      "execution_count": null,
      "metadata": {
        "id": "OotsuBaqp0x5"
      },
      "outputs": [],
      "source": [
        "# Loading dataset (http://roycekimmons.com/tools/generated_data)\n",
        "import pandas as pd\n",
        "\n",
        "df = pd.read_csv('graduation_rate.csv')\n",
        "\n",
        "print('Dataset (head and tail):')\n",
        "display(df)\n",
        "\n",
        "print('\\nParental levels of education:')\n",
        "print(df['parental level of education'].unique())\n"
      ]
    },
    {
      "cell_type": "markdown",
      "metadata": {
        "id": "slCKCMOxp0x6"
      },
      "source": [
        "### 1.2 Pre-processing features\n",
        "\n",
        "In order to establish a natural ordering over ``parental level of education``, the corresponding column of the ``DataFrame`` is substituted by a column of ordinal features created using the function ``pd.Categorical``."
      ]
    },
    {
      "cell_type": "code",
      "execution_count": null,
      "metadata": {
        "id": "gnGYX8YXp0x6"
      },
      "outputs": [],
      "source": [
        "education_order = ['some high school', 'high school', 'some college', \"associate's degree\", \"bachelor's degree\", \"master's degree\"]\n",
        "\n",
        "df['parental level of education'] = pd.Categorical(df['parental level of education'],\n",
        "                                                   ordered=True,\n",
        "                                                   categories=education_order)\n",
        "\n",
        "display(df['parental level of education'])"
      ]
    },
    {
      "cell_type": "markdown",
      "metadata": {
        "id": "fsQQJ-a0p0x6"
      },
      "source": [
        "### 1.3 Data summarisation\n",
        "\n",
        "The method ``DataFrame.describe`` can be used to compute most of the univariate summaries that we have covered during the lectures. For each feature, this method computes the mean, standard deviation, minimum, maximum, median, lower quartile, and upper quartile.\n",
        "\n",
        "Note that ``DataFrame.describe`` detects and omits the categorical feature ``parental level of education``, since those summaries would not be useful. Instead, it is possible to use the method ``Series.value_counts`` to derive the frequency of each value of this feature.\n",
        "\n",
        "The method ``DataFrame.corr`` can be used to compute the correlation matrix for the (numerical) features in the dataset."
      ]
    },
    {
      "cell_type": "code",
      "execution_count": null,
      "metadata": {
        "id": "0RCUorfNp0x7"
      },
      "outputs": [],
      "source": [
        "print('Univariate summaries:')\n",
        "display(df.describe())\n",
        "print(\"Frequency of parental levels of education:\")\n",
        "\n",
        "# relative frequency by dividing with len(df)\n",
        "freq_education = df['parental level of education'].value_counts()/len(df)\n",
        "display(freq_education)\n",
        "\n",
        "print(\"\\nCorrelation coefficients:\")\n",
        "display(df.corr())"
      ]
    },
    {
      "cell_type": "markdown",
      "metadata": {
        "id": "oa7jaRI5p0x7"
      },
      "source": [
        "### 1.4 Table visualisation\n",
        "\n",
        "The method ``DataFrame.sort_values`` can be used to sort the rows of a ``DataFrame`` by the value of a specific feature, in ascending or descending order. For instance, we can use this method to sort students by ``college gpa``.\n",
        "\n",
        "We can also use **slicing** to select a range of observations from a ``DataFrame``. For example, we may sort the students by increasing ``parental income`` and then select the first ten students (with the lowest ``parental income``).\n",
        "\n",
        "When a ``DataFrame`` is indexed by a list of boolean values that has as many elements as the ``DataFrame`` has rows, only the rows that correspond to ``True`` values are returned. This also works when the list used for indexing is represented by a ``Series``. This functionality can be used to select rows that pass a test based on their features. For example, we may use it to select the students whose parents are educated beyond high school.\n",
        "\n",
        "The method ``DataFrame.groupby`` provides a simple way to partition observations into groups based on the value of chosen categorical features (for example, ``parental level of education``) and operating independently on each group (for example, computing the mean of the numerical features independently for each group)."
      ]
    },
    {
      "cell_type": "code",
      "execution_count": null,
      "metadata": {
        "id": "KbAXorWZp0x8"
      },
      "outputs": [],
      "source": [
        "#print(df.to_latex()) # Print a table for use with LaTeX\n",
        "print('Sorting by college gpa:')\n",
        "display(df.sort_values(by='college gpa', ascending=False))\n",
        "\n",
        "print('Selecting the ten students with lowest parental income :')\n",
        "display(df.sort_values(by='parental income', ascending=True)[0:10])\n",
        "\n",
        "print('Sorting by high school gpa the students whose parents are educated beyond high school')\n",
        "# Note that a boolean sequence can be used to index a DataFrame\n",
        "display(df[df['parental level of education'] > 'high school'].sort_values(by='high school gpa', ascending=False))\n",
        "\n",
        "print('Grouping by parental level of education and computing the mean for other features:')\n",
        "display(df.groupby('parental level of education').mean())"
      ]
    },
    {
      "cell_type": "markdown",
      "metadata": {
        "id": "1xG8nNhJp0x8"
      },
      "source": [
        "### 1.5 Histograms\n",
        "\n",
        "The library ``seaborn`` provides a high-level interface for drawing appealing graphics using ``matplotlib``.\n",
        "\n",
        "The following snippet is used to configure the appearance of ``seaborn`` graphics in this notebook."
      ]
    },
    {
      "cell_type": "code",
      "execution_count": null,
      "metadata": {
        "id": "wY3eDA5Pp0x8"
      },
      "outputs": [],
      "source": [
        "%config InlineBackend.figure_formats = set(['retina'])\n",
        "\n",
        "import seaborn as sns\n",
        "import matplotlib.pyplot as plt\n",
        "\n",
        "sns.set_style('darkgrid')"
      ]
    },
    {
      "cell_type": "markdown",
      "metadata": {
        "id": "sbcc1O_dp0x8"
      },
      "source": [
        "The function ``distplot`` can be used to create a histogram with a specified number of bins for a given column of a ``DataFrame`` (or any list of numbers). For example, it may be used to create a histogram of ``high school gpa`` and ``college gpa``."
      ]
    },
    {
      "cell_type": "code",
      "execution_count": null,
      "metadata": {
        "id": "MLQ_hJh7p0x9"
      },
      "outputs": [],
      "source": [
        "sns.distplot(df['high school gpa'], bins=None, kde=False)\n",
        "plt.title('Histogram: high school gpa')\n",
        "plt.show()"
      ]
    },
    {
      "cell_type": "code",
      "execution_count": null,
      "metadata": {
        "id": "GGmjyMnOp0x9"
      },
      "outputs": [],
      "source": [
        "sns.distplot(df['college gpa'], bins=None, kde=False)\n",
        "plt.title('Histogram: college gpa')\n",
        "plt.show()"
      ]
    },
    {
      "cell_type": "markdown",
      "metadata": {
        "id": "qjPZkOWGp0x-"
      },
      "source": [
        "### 1.6 Pie charts\n",
        "\n",
        "The library ``seaborn`` currently has no function to create pie charts (likely due to the fact that this type of visualisation is often discouraged). The ``matplotlib`` function ``pie`` (``matplotlib.pyplot.pie``) can be used to depict an array of frequencies by a pie chart. For example, we may display the frequencies of ``parental level of education`` computed in the data summarization section."
      ]
    },
    {
      "cell_type": "code",
      "execution_count": null,
      "metadata": {
        "id": "d3impBKfp0x-"
      },
      "outputs": [],
      "source": [
        "plt.pie(freq_education, labels=freq_education.index)\n",
        "plt.title('Pie chart: parental level of education')\n",
        "plt.show()"
      ]
    },
    {
      "cell_type": "markdown",
      "metadata": {
        "id": "ZmCukP72p0x-"
      },
      "source": [
        "### 1.7 Box Plots"
      ]
    },
    {
      "cell_type": "markdown",
      "metadata": {
        "id": "Y_Ry_SJCp0x-"
      },
      "source": [
        "The function ``boxplot`` can be used to create a box plot for a specific feature. For example, it can be used to create a box plot for ``parental income``."
      ]
    },
    {
      "cell_type": "code",
      "execution_count": null,
      "metadata": {
        "id": "Q7mulB16p0x_"
      },
      "outputs": [],
      "source": [
        "sns.boxplot(df['parental income'], orient='v')\n",
        "plt.title('Boxplot: parental income')\n",
        "plt.show()"
      ]
    },
    {
      "cell_type": "markdown",
      "metadata": {
        "id": "GSKierZSp0x_"
      },
      "source": [
        "The function ``boxplot`` is also capable of grouping observations by a categorical feature and creating one box plot for each resulting group. For example, we may create one box plot of ``parental income`` for each ``parental level of education``."
      ]
    },
    {
      "cell_type": "code",
      "execution_count": null,
      "metadata": {
        "id": "UnaRGqEXp0x_"
      },
      "outputs": [],
      "source": [
        "ax = sns.boxplot(x='parental level of education', y='parental income', data=df)\n",
        "plt.title('Boxplot: parental income, grouped by parental level of education')\n",
        "\n",
        "# Wrap xticks\n",
        "import textwrap\n",
        "ax.set_xticklabels([textwrap.fill(t.get_text(), 10)  for t in ax.get_xticklabels()])\n",
        "\n",
        "plt.show()\n"
      ]
    },
    {
      "cell_type": "markdown",
      "metadata": {
        "id": "KZP1qk3Bp0x_"
      },
      "source": [
        "### 1.8 Scatter plots\n",
        "\n",
        "The function ``scatterplot`` can be used to create a scatter plot for any given pair of features, while the function ``pairplot`` can be used to create a scatter plot matrix.\n",
        "\n",
        "The resulting points can be coloured according to a categorical feature given by the parameter ``hue``."
      ]
    },
    {
      "cell_type": "code",
      "execution_count": null,
      "metadata": {
        "id": "jcDnFjX-p0x_"
      },
      "outputs": [],
      "source": [
        "sns.scatterplot(x='ACT composite score', y='SAT total score', data=df)\n",
        "plt.show()\n",
        "\n",
        "sns.pairplot(df, hue='parental level of education', diag_kind='hist')\n",
        "plt.show()"
      ]
    },
    {
      "cell_type": "markdown",
      "metadata": {
        "id": "1xjziBMip0yA"
      },
      "source": [
        "### 1.9 Distance matrices\n",
        "\n",
        "In order to visualise a distance matrix, it is often important to group the observations in a dataset by a given categorical feature.\n",
        "\n",
        "For example, we may sort the observations by increasing ``parental level of education``. Because the feature ``parental level of education`` is ordinal but not numerical, we may also decide to remove it from consideration when computing distances between observations.\n",
        "\n",
        "Furthermore, it is always important to scale different features so that their magnitudes are comparable when computing distances. For example, we may use the ``sklearn`` class ``StandardScaler`` to standardize each feature individually. The method ``StandardScaler.fit_transform`` expects a numpy matrix containing observations across rows and returns a corresponding matrix with standardized features."
      ]
    },
    {
      "cell_type": "code",
      "execution_count": null,
      "metadata": {
        "id": "y0e23lT6p0yA"
      },
      "outputs": [],
      "source": [
        "from sklearn.preprocessing import StandardScaler\n",
        "\n",
        "df_sorted = df.sort_values(by='parental level of education', ascending=True)\n",
        "parental_education_sorted = df_sorted['parental level of education']\n",
        "\n",
        "X = df_sorted.drop(columns='parental level of education').to_numpy()\n",
        "scaler = StandardScaler()\n",
        "X = scaler.fit_transform(X)"
      ]
    },
    {
      "cell_type": "markdown",
      "metadata": {
        "id": "yM7_tCtrp0yA"
      },
      "source": [
        "The ``scipy`` function ``pdist`` (``scipy.spatial.distance.pdist``) can be used to compute pairwise Euclidean distances between observations in a matrix, while the function ``squareform`` (``scipy.spatial.distance.squareform``) can be used to convert the return of ``pdist`` into the representation that we expect (``pdist`` returns a condensed representation of a symmetric matrix).\n",
        "\n",
        "Finally, the ``seaborn`` function ``heatmap`` can be used to create a heat map for the corresponding distance matrix (for a chosen colormap).\n"
      ]
    },
    {
      "cell_type": "code",
      "execution_count": null,
      "metadata": {
        "id": "imyZdzzgp0yA"
      },
      "outputs": [],
      "source": [
        "from scipy.spatial import distance\n",
        "\n",
        "dist = distance.squareform(distance.pdist(X))\n",
        "sns.heatmap(dist, square=True, xticklabels=False, yticklabels=False,\n",
        "                cmap='Blues')\n",
        "\n",
        "plt.show()"
      ]
    },
    {
      "cell_type": "markdown",
      "metadata": {
        "id": "xas7AgYOp0yA"
      },
      "source": [
        "### 1.10 Dimensionality reduction"
      ]
    },
    {
      "cell_type": "markdown",
      "metadata": {
        "id": "IXXnzY6Zp0yB"
      },
      "source": [
        "The class ``MDS`` from the library ``sklearn`` implements dimensionality reduction through multidimensional scaling. A standardized matrix of observations as the one used to compute the distance matrix in the example above is an appropriate input to the method ``MDS.fit_transform``, which outputs a matrix that contains a two-dimensional point for each observation in the input matrix. A scatter plot can be used to depict this output matrix."
      ]
    },
    {
      "cell_type": "code",
      "execution_count": null,
      "metadata": {
        "id": "rX9FPwhjp0yB"
      },
      "outputs": [],
      "source": [
        "from sklearn.manifold import MDS\n",
        "\n",
        "embedding = MDS(n_components=2)\n",
        "\n",
        "Xp = embedding.fit_transform(X)\n",
        "df_projection = pd.DataFrame({'x': Xp[:, 0], 'y': Xp[:, 1],\n",
        "                              'parental level of education': parental_education_sorted})\n",
        "\n",
        "sns.scatterplot(x='x', y='y', hue='parental level of education', data=df_projection)\n",
        "\n",
        "plt.legend(bbox_to_anchor=(1.05, 1), loc=2, borderaxespad=0.)\n",
        "\n",
        "plt.show()\n"
      ]
    },
    {
      "cell_type": "markdown",
      "metadata": {
        "id": "RhyTbesIp0yB"
      },
      "source": [
        "The class ``TSNE`` from the library ``sklearn`` implements dimensionality reduction through t-distributed stochastic neighbour embedding (t-SNE). Its interface is analogous to the one provided by the class ``MDS``."
      ]
    },
    {
      "cell_type": "code",
      "execution_count": null,
      "metadata": {
        "id": "E6umLwfzp0yB"
      },
      "outputs": [],
      "source": [
        "from sklearn.manifold import TSNE\n",
        "\n",
        "embedding = TSNE(n_components=2, perplexity=100)\n",
        "\n",
        "Xp = embedding.fit_transform(X)\n",
        "df_projection = pd.DataFrame({'x': Xp[:, 0], 'y': Xp[:, 1],\n",
        "                              'parental level of education': parental_education_sorted})\n",
        "sns.scatterplot(x='x', y='y', hue='parental level of education', data=df_projection)\n",
        "\n",
        "plt.legend(bbox_to_anchor=(1.05, 1), loc=2, borderaxespad=0.)\n",
        "plt.show()"
      ]
    },
    {
      "cell_type": "markdown",
      "metadata": {
        "id": "wTON7qMCp0yB"
      },
      "source": [
        "In the example below, each point obtained by t-SNE is coloured according to whether the parents of the corresponding student have a higher education degree."
      ]
    },
    {
      "cell_type": "code",
      "execution_count": null,
      "metadata": {
        "id": "c7FqaxGQp0yB"
      },
      "outputs": [],
      "source": [
        "df_projection['parents have degree'] = (df['parental level of education'] > 'some college')\n",
        "sns.scatterplot(x='x', y='y', hue='parents have degree', data=df_projection)\n",
        "\n",
        "plt.legend(bbox_to_anchor=(1.05, 1), loc=2, borderaxespad=0.)\n",
        "plt.show()"
      ]
    },
    {
      "cell_type": "markdown",
      "metadata": {
        "id": "mVb7knSvp0yC"
      },
      "source": [
        "## 2 Visualising an analytic function\n",
        "\n",
        "In order to present Python functionalities related to visualising scalar fields and vector fields, we will use the analytic function $f: \\mathbb{R}^2 \\to \\mathbb{R}$ given by $f(x,y) = z = x^2 + y^2$ as a working example.\n",
        "\n",
        "The ``numpy`` function ``linspace`` can be used to create a list of evenly spaced numbers in a specified interval, while the function ``meshgrid`` can be used to create all possible combinations of numbers from two given lists of numbers.\n",
        "\n",
        "In our example, the function ``meshgrid`` returns two matrices. The first matrix replicates the numbers of the first list across rows. In our example, this matrix represents positions along the x-axis. The second matrix replicates the numbers of the second list across columns. In our example, this matrix represents positions along the y-axis.\n",
        "\n",
        "By applying elementwise operations that ultimately combine the two matrices, it is possible to evaluate a function of two variables on every element of a grid defined by the two lists of numbers generated by ``linspace``. The resulting dataset can also be represented by a ``DataFrame``."
      ]
    },
    {
      "cell_type": "code",
      "execution_count": null,
      "metadata": {
        "id": "vEw0aNmQp0yC"
      },
      "outputs": [],
      "source": [
        "import numpy as np\n",
        "x_range = np.linspace(-1, 1, 10)\n",
        "y_range = np.linspace(-1, 1, 10)\n",
        "\n",
        "# meshgrid: X[i, j] == x_range[j] and Y[i, j] == y_range[i]\n",
        "X, Y = np.meshgrid(x_range, y_range)\n",
        "\n",
        "# Z[i, j] == f(x_range[j], y_range[i])\n",
        "Z = X**2 + Y**2\n",
        "\n",
        "# Dataset representation\n",
        "df = pd.DataFrame({'x': X.reshape(-1), 'y': Y.reshape(-1), 'z = f(x,y)': Z.reshape(-1)})\n",
        "display(df)"
      ]
    },
    {
      "cell_type": "markdown",
      "metadata": {
        "id": "rYj4suSzp0yC"
      },
      "source": [
        "### 2.1 Heat maps\n",
        "\n",
        "The ``matplotlib`` function ``imshow`` can be used to create a heatmap through nearest neighbour interpolation."
      ]
    },
    {
      "cell_type": "code",
      "execution_count": null,
      "metadata": {
        "id": "JBbFO34ip0yC"
      },
      "outputs": [],
      "source": [
        "# Interpolation: point (x, y) is colored according to the value z of the nearest point in the dataset\n",
        "plt.imshow(Z, cmap='Blues', aspect='equal', interpolation='nearest')\n",
        "plt.colorbar()\n",
        "\n",
        "# xticks and yticks would show Z matrix indices\n",
        "plt.xticks([])\n",
        "plt.yticks([])\n",
        "\n",
        "plt.show()"
      ]
    },
    {
      "cell_type": "markdown",
      "metadata": {
        "id": "VRHQgABNp0yC"
      },
      "source": [
        "The ``matplotlib`` function ``imshow`` can also be used to create a heatmap through bilinear interpolation."
      ]
    },
    {
      "cell_type": "code",
      "execution_count": null,
      "metadata": {
        "id": "SHHh6sREp0yD"
      },
      "outputs": [],
      "source": [
        "# Interpolation: point (x, y) is colored according to the (weighted average) value z of the four nearest points\n",
        "plt.imshow(Z, cmap='Blues', aspect='equal', interpolation='bilinear')\n",
        "plt.colorbar()\n",
        "\n",
        "# xticks and yticks would show Z matrix indices\n",
        "plt.xticks([])\n",
        "plt.yticks([])\n",
        "\n",
        "plt.show()"
      ]
    },
    {
      "cell_type": "markdown",
      "metadata": {
        "id": "y7CHy3kKp0yD"
      },
      "source": [
        "### 2.2 Contour plots\n",
        "\n",
        "The ``matplotlib`` function ``contour`` can be used to create a contour plot."
      ]
    },
    {
      "cell_type": "code",
      "execution_count": null,
      "metadata": {
        "id": "HSuQr9PDp0yD"
      },
      "outputs": [],
      "source": [
        "CS = plt.contour(X, Y, Z, levels=10, cmap='Blues')\n",
        "plt.clabel(CS, inline=True, fontsize=10)\n",
        "plt.show()"
      ]
    },
    {
      "cell_type": "markdown",
      "metadata": {
        "id": "mgHH7mV1p0yD"
      },
      "source": [
        "### 2.3 Surface plots\n",
        "\n",
        "The library ``matplotlib`` is also capable of creating (interactive) three-dimensional plots. Surface plots can be created using the function ``plot_surface``."
      ]
    },
    {
      "cell_type": "code",
      "execution_count": null,
      "metadata": {
        "id": "BA_cEFVZp0yD"
      },
      "outputs": [],
      "source": [
        "from mpl_toolkits.mplot3d import Axes3D\n",
        "fig = plt.figure()\n",
        "ax = fig.gca(projection='3d')\n",
        "\n",
        "surf = ax.plot_surface(X, Y, Z, cmap='Blues', linewidth=0, antialiased=True)\n",
        "fig.colorbar(surf, shrink=0.5, aspect=10)\n",
        "\n",
        "plt.show()"
      ]
    },
    {
      "cell_type": "markdown",
      "metadata": {
        "id": "gboBGOq1p0yD"
      },
      "source": [
        "### 2.4 Quiver plots\n",
        "\n",
        "The ``matplotlib`` function ``quiver`` can be used to create quiver plots. For example, we may use the ``numpy`` function ``gradient`` to approximate the gradient function $\\nabla f$ of the scalar field $f$ by the finite differences method, which can then be represented by a quiver plot."
      ]
    },
    {
      "cell_type": "code",
      "execution_count": null,
      "metadata": {
        "id": "Ba7XNF7bp0yE"
      },
      "outputs": [],
      "source": [
        "DY, DX = np.gradient(Z)\n",
        "plt.quiver(X, Y, DX, DY)\n",
        "plt.show()"
      ]
    },
    {
      "cell_type": "markdown",
      "metadata": {
        "id": "3A9QvCIf8--d"
      },
      "source": [
        "## Exercise\n",
        "\n",
        "\n",
        "\n",
        "Kaggle has a data-set of cars which can be downloaded  [here](https://www.kaggle.com/CooperUnion/cardataset). The csv file is named data.csv and can also be found in QM+. </br> It contains more than 10,000 rows and more than 10 columns of features of the car such as Engine Fuel Type, Engine HP, Transmission Type, highway MPG, city MPG. </br>\n",
        "Fill in the code below according to instructions-comments."
      ]
    },
    {
      "cell_type": "code",
      "execution_count": null,
      "metadata": {
        "id": "bLmaIfjd98-1"
      },
      "outputs": [],
      "source": [
        "# packages that will be needed\n",
        "\n",
        "import pandas as pd\n",
        "import numpy as np\n",
        "import seaborn as sns                       #visualisation\n",
        "import matplotlib.pyplot as plt             #visualisation\n",
        "%matplotlib inline\n",
        "sns.set(color_codes=True)\n"
      ]
    },
    {
      "cell_type": "code",
      "execution_count": null,
      "metadata": {
        "id": "Mv3ow2GyCRrL"
      },
      "outputs": [],
      "source": [
        "# 1) load the dataset\n",
        "df = pd.read_csv(\"data.csv\")"
      ]
    },
    {
      "cell_type": "code",
      "execution_count": null,
      "metadata": {
        "id": "Ctj_qrAlCQvB"
      },
      "outputs": [],
      "source": [
        "# 2) check types of features\n",
        "df.dtypes"
      ]
    },
    {
      "cell_type": "code",
      "execution_count": null,
      "metadata": {
        "id": "Luq8587nCcfv"
      },
      "outputs": [],
      "source": [
        "# 3) drop the features: Engine Fuel Type,  Market Category, Vehicle Style, Popularity, Number of Doors and Vehicle Size\n",
        "df = df.drop(['Engine Fuel Type', 'Market Category', 'Vehicle Style', 'Popularity', 'Number of Doors', 'Vehicle Size'], axis=1)"
      ]
    },
    {
      "cell_type": "code",
      "execution_count": null,
      "metadata": {
        "id": "rdYIrggeCfzy"
      },
      "outputs": [],
      "source": [
        "# 4) print number of duplicate rows and then remove them\n",
        "duplicate_rows_df = df[df.duplicated()]\n",
        "print(\"number of duplicate rows: \", duplicate_rows_df.shape)\n",
        "df.count()      # Used to count the number of rows before removal\n",
        "\n",
        "df = df.drop_duplicates()\n",
        "df.count()      # Used to count the number of rows after removal"
      ]
    },
    {
      "cell_type": "code",
      "execution_count": null,
      "metadata": {
        "id": "l7574R_1CkHm"
      },
      "outputs": [],
      "source": [
        "# 5) print how many missing and null values exist per feature and then remove them\n",
        "print(df.isnull().sum())\n",
        "df = df.dropna()    # Dropping the missing values\n",
        "df.count()\n",
        "print(df.isnull().sum())   # just to check and reassure that they have been dropped"
      ]
    },
    {
      "cell_type": "code",
      "execution_count": null,
      "metadata": {
        "id": "FL3ZDcJKCleG"
      },
      "outputs": [],
      "source": [
        "# 6) compute correlation between the features and then create its heatmap\n",
        "plt.figure(figsize=(10,5))\n",
        "c= df.corr()\n",
        "sns.heatmap(c,cmap=\"BrBG\",annot=True)\n",
        "c"
      ]
    },
    {
      "cell_type": "markdown",
      "metadata": {
        "id": "ORESRh23CnKs"
      },
      "source": [
        "Given the above heatmap what can you infer about the feature MSRP (i.e. price)? Do the results seem intuitive?\n",
        "\n"
      ]
    },
    {
      "cell_type": "code",
      "execution_count": null,
      "metadata": {
        "id": "81EBU3fXFMq9"
      },
      "outputs": [],
      "source": [
        "# 7) in the steps above there is something that was not taken into account: outliers!\n",
        "#    create the boxplot for the feature MSRP (i.e. price) and check whether outliers exist\n",
        "#    remove the outliers of the whole dataset by utilizing the IQR of the boxplot\n",
        "Q1 = df.quantile(0.25)\n",
        "Q3 = df.quantile(0.75)\n",
        "IQR = Q3 - Q1\n",
        "print(IQR)\n",
        "df = df[~((df < (Q1 - 1.5 * IQR)) |(df > (Q3 + 1.5 * IQR))).any(axis=1)]\n",
        "df.shape"
      ]
    },
    {
      "cell_type": "code",
      "execution_count": null,
      "metadata": {
        "id": "p06mtKJmGZio"
      },
      "outputs": [],
      "source": [
        "# 8) compute again the correlation between the features and create its heatmap\n",
        "plt.figure(figsize=(10,5))\n",
        "c= df.corr()\n",
        "sns.heatmap(c,cmap=\"BrBG\",annot=True)\n",
        "c"
      ]
    },
    {
      "cell_type": "markdown",
      "metadata": {
        "id": "9NCDVIPZFGHU"
      },
      "source": [
        "Given the above heatmap (after outliers have been removed), what can you infer now about the feature MSRP (i.e., price)? Which feature is shown to depend on others and this result seems intuitive?\n",
        "\n",
        "Answer:\n",
        "In the above heatmap we can see that the price (MSRP) feature depends mainly on the Year, Horsepower, and  Cylinders."
      ]
    },
    {
      "cell_type": "markdown",
      "metadata": {
        "id": "5hox4fEXzdP-"
      },
      "source": [
        "# Lab session 4: Data Warehousing and On-line Analytical Processing"
      ]
    },
    {
      "cell_type": "markdown",
      "metadata": {
        "id": "gIVISJEEzdQA"
      },
      "source": [
        "## Introduction\n",
        "\n",
        "The aim of this lab (Lab session 4) is for students to get experience with **Data Warehousing** and **On-line Analytical Processing (OLAP)** covered in lecture 5, and more specifically with the concepts of **data cubes**, **data cube measures**, **typical OLAP operations**, and **data cube computation**.\n"
      ]
    },
    {
      "cell_type": "markdown",
      "metadata": {
        "id": "D1qCdQp2zdQE"
      },
      "source": [
        "## 1. Introduction to Cubes\n",
        "\n",
        "This chapter describes step-by-step how to use Cubes (http://cubes.databrewery.org/), a lightweight Python framework and set of tools for development of reporting and analytical applications, Online Analytical Processing (OLAP), multidimensional analysis and browsing of aggregated data. We will be working with v1.1 of Cubes. Cubes features:\n",
        "- a logical view of analysed data - how analysts look at data, how they think of data, not not how the data are physically implemented in the data stores\n",
        "- OLAP and aggregated browsing (default backend is for relational databse - ROLAP)\n",
        "- hierarchical dimensions (attributes that have hierarchical dependencies, such as category-subcategory or country-region)\n",
        "- multiple hierarchies in a dimension\n",
        "- localizable metadata and data (see Localization)\n",
        "- authentication and authorization of cubes and their data\n",
        "- pluggable data warehouse – plug-in other cube-like (multidimensional) data sources\n",
        "\n",
        "Cubes is meant to be used by application builders that want to provide analytical functionality. Cubes also relies on methods from SQLAlchemy (https://www.sqlalchemy.org/), an open-source SQL toolkit and object-relational mapper for Python."
      ]
    },
    {
      "cell_type": "markdown",
      "metadata": {
        "id": "9szp7SwgzdQG"
      },
      "source": [
        "## 2. Data Preparation\n",
        "\n",
        "The example data used here is the International Bank for Reconstruction and Development (IBRD) Balance Sheet. For this example we will be using the CSV file \"IBRD_Balance_Sheet__FY2010.csv\" which is provided in the supplementary material for the lab. The CSV file includes records which are characterised by a Category (and subcategories), Line Item, Fiscal Year, and Amount (in US$ millions). We first start with imports:"
      ]
    },
    {
      "cell_type": "code",
      "execution_count": null,
      "metadata": {
        "id": "FXIBCAyPzdQG"
      },
      "outputs": [],
      "source": [
        "# If you are using Google Colab, you would need to run the below line to install Cubes.\n",
        "# You can comment the below line if you are running a local python installation with Cubes installed.\n",
        "!pip install cubes\n",
        "!pip install sqlalchemy==1.3.20\n",
        "from sqlalchemy import create_engine\n",
        "from cubes.tutorial.sql import create_table_from_csv"
      ]
    },
    {
      "cell_type": "markdown",
      "metadata": {
        "id": "fwzYQ-RWzdQH"
      },
      "source": [
        "We can now load the data, create a table and populate it with contents of the CSV file. Note the categories and subcategories created; check the CSV file to link the below commands with the contents of the dataset."
      ]
    },
    {
      "cell_type": "code",
      "execution_count": null,
      "metadata": {
        "id": "fxMa8Kp6zdQH"
      },
      "outputs": [],
      "source": [
        "engine = create_engine('sqlite:///data.sqlite')\n",
        "create_table_from_csv(engine,\n",
        "                      \"IBRD_Balance_Sheet__FY2010.csv\",\n",
        "                      table_name=\"ibrd_balance\",\n",
        "                      fields=[\n",
        "                          (\"category\", \"string\"),\n",
        "                          (\"category_label\", \"string\"),\n",
        "                          (\"subcategory\", \"string\"),\n",
        "                          (\"subcategory_label\", \"string\"),\n",
        "                          (\"line_item\", \"string\"),\n",
        "                          (\"year\", \"integer\"),\n",
        "                          (\"amount\", \"integer\")],\n",
        "                      create_id=True\n",
        "                     )"
      ]
    },
    {
      "cell_type": "markdown",
      "metadata": {
        "id": "fTFmeAwPzdQJ"
      },
      "source": [
        "## 3. Creating a data cube\n",
        "\n",
        "Everything in Cubes happens in an *analytical workspace*. It contains cubes, maintains connections to the data stores (with cube data), provides connection to external cubes and more.\n",
        "\n",
        "The workspace properties are specified in a configuration file slicer.ini (default name). The first thing we have to do is to specify a data store – a database which will host the cube’s data:"
      ]
    },
    {
      "cell_type": "code",
      "execution_count": null,
      "metadata": {
        "id": "VZyn9s8mzdQK"
      },
      "outputs": [],
      "source": [
        "from cubes import Workspace\n",
        "\n",
        "workspace = Workspace()\n",
        "workspace.register_default_store(\"sql\", url=\"sqlite:///data.sqlite\")"
      ]
    },
    {
      "cell_type": "markdown",
      "metadata": {
        "id": "E9EIGCjXzdQL"
      },
      "source": [
        "The structure of data cubes (in terms of dimensions, measures, and aggregates) is specified in JSON files. We now import file 'tutorial_model.json' (found in the lab supplementary material) which includes an example model of the data cube, dimension tables, and aggregate functions for the CSV file we loaded previously."
      ]
    },
    {
      "cell_type": "code",
      "execution_count": null,
      "metadata": {
        "id": "JnWunsqgzdQM"
      },
      "outputs": [],
      "source": [
        "workspace.import_model(\"tutorial_model.json\")"
      ]
    },
    {
      "cell_type": "markdown",
      "metadata": {
        "id": "HA01sBgQzdQN"
      },
      "source": [
        "**Please make sure to inspect the structure of the above JSON file**\n",
        "\n",
        "We can now create a data cube based on the above data cube model and data table:"
      ]
    },
    {
      "cell_type": "code",
      "execution_count": null,
      "metadata": {
        "id": "j8R-iLAYzdQO"
      },
      "outputs": [],
      "source": [
        "cube = workspace.cube(\"ibrd_balance\")"
      ]
    },
    {
      "cell_type": "markdown",
      "metadata": {
        "id": "jd9DjXhgzdQP"
      },
      "source": [
        "## 4. Aggregations and OLAP operations\n",
        "\n",
        "*Browser* is an object that does the actual aggregations and other data queries for a cube. To obtain one:"
      ]
    },
    {
      "cell_type": "code",
      "execution_count": null,
      "metadata": {
        "id": "nnDst0CczdQP"
      },
      "outputs": [],
      "source": [
        "browser = workspace.browser(cube)"
      ]
    },
    {
      "cell_type": "markdown",
      "metadata": {
        "id": "YP8BLLfIzdQQ"
      },
      "source": [
        "We can now compute aggregates of the data cube as specified by the data cube model. For computing the total count of records:"
      ]
    },
    {
      "cell_type": "code",
      "execution_count": null,
      "metadata": {
        "id": "ZOz_da0SzdQQ"
      },
      "outputs": [],
      "source": [
        "result = browser.aggregate()\n",
        "result.summary[\"record_count\"]"
      ]
    },
    {
      "cell_type": "markdown",
      "metadata": {
        "id": "dKWET-J2zdQR"
      },
      "source": [
        "For computing a sum of the amount:"
      ]
    },
    {
      "cell_type": "code",
      "execution_count": null,
      "metadata": {
        "id": "_MsOxTMzzdQR"
      },
      "outputs": [],
      "source": [
        "result.summary[\"amount_sum\"]"
      ]
    },
    {
      "cell_type": "markdown",
      "metadata": {
        "id": "smFYyUDbzdQR"
      },
      "source": [
        "Now we can try to compute aggregates by year:"
      ]
    },
    {
      "cell_type": "code",
      "execution_count": null,
      "metadata": {
        "id": "8uAM-7DfzdQR"
      },
      "outputs": [],
      "source": [
        "result = browser.aggregate(drilldown=[\"year\"])\n",
        "for record in result:\n",
        "    print(record)"
      ]
    },
    {
      "cell_type": "markdown",
      "metadata": {
        "id": "5GGSTe7jzdQS"
      },
      "source": [
        "Or compute aggregates by item category:"
      ]
    },
    {
      "cell_type": "code",
      "execution_count": null,
      "metadata": {
        "id": "oz2KrmECzdQS"
      },
      "outputs": [],
      "source": [
        "result = browser.aggregate(drilldown=[\"item\"])\n",
        "for record in result:\n",
        "    print(record)"
      ]
    },
    {
      "cell_type": "markdown",
      "metadata": {
        "id": "GyNipccozdQS"
      },
      "source": [
        "We can also perform *slicing* and *dicing* operations on the data cube. The below example performs a slicing operation on the data cube by selecting only entries with the year being 2009, and displays aggregates according to the item category. Here, a *cell* defines a point of interest – portion of the cube to be aggergated or browsed."
      ]
    },
    {
      "cell_type": "code",
      "execution_count": null,
      "metadata": {
        "id": "SGth6V1kzdQS"
      },
      "outputs": [],
      "source": [
        "import cubes as cubes\n",
        "cuts = [cubes.PointCut(\"year\", [\"2009\"])]\n",
        "cell = cubes.Cell(cube, cuts)\n",
        "result = browser.aggregate(cell, drilldown=[\"item\"])\n",
        "for record in result:\n",
        "    print(record)"
      ]
    },
    {
      "cell_type": "markdown",
      "metadata": {
        "id": "JxuBWl9azdQS"
      },
      "source": [
        "It's worth noting that in Cubes, slicing operations can be created by either specifying a \"point cut\" which selects a single value of an attribute in a given dimension (called using the cubes.PointCut() function as above), or by specifying a \"range cut\", which selects a range of values for a given dimension. The range cut can be called using the cubes.RangeCut() function, which takes as input the attribute name, the minimum value of the specified range, and the maximum value of the range.\n",
        "\n",
        "Similarly, we can perform a *dicing* operation on the data cube by performing a selection on two or more dimensions. The below example performs a dicing operation on the data cube, selecting entries with the year being 2009 and the item category being \"a\", and displays the aggregate results:"
      ]
    },
    {
      "cell_type": "code",
      "execution_count": null,
      "metadata": {
        "id": "SwoOriQizdQT"
      },
      "outputs": [],
      "source": [
        "cuts = [cubes.PointCut(\"year\", [\"2009\"]),cubes.PointCut(\"item\", [\"a\"])]\n",
        "cell = cubes.Cell(cube, cuts)\n",
        "result = browser.aggregate(cell,drilldown=[\"item\"])\n",
        "result.summary"
      ]
    },
    {
      "cell_type": "markdown",
      "metadata": {
        "id": "kZkEpxrCzdQT"
      },
      "source": [
        "We can also *drill down* lower in the Category hierarchy. Here, we perform a dicing operation to select records with year being 2009 and item category being \"a\" (corresponding to assets), and show aggregates for each subcategory level."
      ]
    },
    {
      "cell_type": "code",
      "execution_count": null,
      "metadata": {
        "id": "SWI2aH9yzdQT"
      },
      "outputs": [],
      "source": [
        "cuts = [cubes.PointCut(\"year\", [\"2009\"]),cubes.PointCut(\"item\", [\"a\"])]\n",
        "cell = cubes.Cell(cube, cuts)\n",
        "result = browser.aggregate(cell,drilldown=[\"item:subcategory\"])\n",
        "for record in result:\n",
        "    print(record)"
      ]
    },
    {
      "cell_type": "markdown",
      "metadata": {
        "id": "HD5btV37sTuS"
      },
      "source": [
        "</br>"
      ]
    },
    {
      "cell_type": "markdown",
      "metadata": {
        "id": "9trjWTB4zdQT"
      },
      "source": [
        "**Exercise**:\n",
        "\n",
        "Using the same CSV file and data cube in the above lab tutorial: </br>\n",
        "i) modify the \"tutorial_model.json\" file to include aggregate measures for the minimum and maximum amount in the data cube; </br>\n",
        "ii) using these implemented aggregate measures, produce the values for the minimum and maximum amount in the data per year.\n",
        "\n",
        "\n",
        "\n",
        "  "
      ]
    },
    {
      "cell_type": "markdown",
      "metadata": {
        "id": "opUJRrimoSfo"
      },
      "source": [
        "# Lab session 5: Classification and Clustering"
      ]
    },
    {
      "cell_type": "markdown",
      "metadata": {
        "id": "4BvfYNFKoSfq"
      },
      "source": [
        "## Introduction\n",
        "\n",
        "The aim of this lab (Lab session 5) is for students to get experience with **Classification** and **Clustering**, both covered in lecture 6, by using common Python libraries."
      ]
    },
    {
      "cell_type": "markdown",
      "metadata": {
        "id": "91N-pqHAoSft"
      },
      "source": [
        "## Classification\n",
        "\n",
        "In order to present functionalities for data classification and clustering in Python, we use the [MNIST handwritten digits dataset](http://yann.lecun.com/exdb/mnist/) as part of a working example.\n",
        "\n",
        "The dataset is stored in a file called ``mnist.pkl``, which is serialized by [pickle](https://docs.python.org/3/library/pickle.html).\n",
        "\n",
        "In the snippet below, ``X`` is a matrix (numpy array) where each row corresponds to an observation and each column corresponds to a feature. Each observation is the result of *flattening* a 28 x 28 grayscale image of a handwritten digit into a vector. The list ``y`` (numpy array) contains the class (a digit from 0 to 9) corresponding to each observation (row) in the matrix ``X``.\n",
        "\n",
        "For the sake of this tutorial, we select only the first 2000 observations (rows) from the original MNIST training dataset to expedite computations.\n",
        "\n",
        "It is possible to use the ``matplotlib`` function ``imshow`` to visualise any observation by reshaping it appropriately. You may change the index ``i`` to select an observation for visualisation.\n",
        "\n",
        "\n"
      ]
    },
    {
      "cell_type": "code",
      "execution_count": null,
      "metadata": {
        "id": "LWFU5IvooSfu"
      },
      "outputs": [],
      "source": [
        "# Configuring the appearance of ``seaborn`` graphics in this notebook\n",
        "%config InlineBackend.figure_formats = set(['retina'])\n",
        "\n",
        "import pickle\n",
        "\n",
        "import numpy as np\n",
        "import pandas as pd\n",
        "import matplotlib.pyplot as plt\n",
        "import seaborn as sns\n",
        "sns.set_style('darkgrid')\n",
        "\n",
        "# Selecting the training data from the original dataset\n",
        "f = open('mnist.pkl', 'rb')\n",
        "X, y = pickle.load(f, encoding='latin1')[0]\n",
        "f.close()\n",
        "\n",
        "# Subsampling\n",
        "sample_size = 2000\n",
        "X, y = X[:sample_size], y[:sample_size]\n",
        "\n",
        "i = 10\n",
        "plt.imshow(X[i].reshape(28, 28), cmap=plt.cm.gray_r, interpolation='nearest')\n",
        "plt.show()\n",
        "print('Observation index: {0}. Class: {1}.'.format(i, y[i]))"
      ]
    },
    {
      "cell_type": "markdown",
      "metadata": {
        "id": "dOP0Z62foSfv"
      },
      "source": [
        "The library ``sklearn`` implements all the learning algorithms that we covered during the lectures. Each algorithm is implemented by a class that provides a standard interface.\n",
        "\n",
        "The class ``KNeighborsClassifier`` implements a k-nearest neighbour classification algorithm. The number of neighbours is specified by the constructor parameter ``n_neighbors``.\n",
        "\n",
        "The method ``KNeighborsClassifier.fit`` is responsible for learning a classifier for a dataset represented by an observation matrix and a class array. This is precisely how our data is represented.\n",
        "\n",
        "The method ``KNeighborsClassifier.score`` computes the accuracy of a classifier on a specific dataset. This method must be called after ``KNeighborsClassifier.fit``.\n",
        "\n",
        "As we have seen, a one-nearest neighbour classifier always predicts the correct class for any observation that already exists in a dataset (as long as there are no equal observations with different classes), which is why we obtain 100% accuracy on the training set.\n"
      ]
    },
    {
      "cell_type": "code",
      "execution_count": null,
      "metadata": {
        "id": "U_r1mctJoSfw"
      },
      "outputs": [],
      "source": [
        "from sklearn.neighbors import KNeighborsClassifier\n",
        "\n",
        "knn = KNeighborsClassifier(n_neighbors=1)\n",
        "knn.fit(X, y)\n",
        "print('Training dataset accuracy: {0}.'.format(knn.score(X, y)))"
      ]
    },
    {
      "cell_type": "markdown",
      "metadata": {
        "id": "SPxqSYP4oSfw"
      },
      "source": [
        "In order to evaluate the capacity of a k-nearest neighbour classifier to assign unseen observations to correct classes, it is necessary to split the original dataset into a training dataset and a test dataset.\n",
        "\n",
        "The ``sklearn`` function ``train_test_split`` can be used for this purpose. This function selects a fraction of the observations (``test_size``) to compose the test set. The parameter ``random_state`` allows reproducibility by fixing the seed used by this (pseudo)random selection procedure.\n",
        "\n",
        "The function ``train_test_split`` returns a training observation matrix, a test observation matrix, a training class array, and a test class array. From now on, all classifiers are trained without access to the test dataset.\n",
        "\n",
        "The method ``KNeighborsClassifier.fit`` can be used to fit a k-nearest neighbour classifier to the training dataset. Naturally, the accuracy of the one-nearest neighbour classifier on the training set remains 100%. The accuracy on the test set, however, is a better estimate of the performance of the classifier on unseen data.\n"
      ]
    },
    {
      "cell_type": "code",
      "execution_count": null,
      "metadata": {
        "colab": {
          "base_uri": "https://localhost:8080/"
        },
        "id": "4run65xSoSfx",
        "outputId": "fa897ebe-6092-4341-c91d-204eadc5aa66"
      },
      "outputs": [
        {
          "name": "stdout",
          "output_type": "stream",
          "text": [
            "Training dataset accuracy: 1.0.\n",
            "Test dataset accuracy: 0.8925.\n"
          ]
        }
      ],
      "source": [
        "from sklearn.model_selection import train_test_split\n",
        "\n",
        "X_train, X_test, y_train, y_test = train_test_split(X, y, test_size=0.2, random_state=0)\n",
        "\n",
        "knn = KNeighborsClassifier(n_neighbors=1)\n",
        "knn.fit(X_train, y_train)\n",
        "print('Training dataset accuracy: {0}.'.format(knn.score(X_train, y_train)))\n",
        "print('Test dataset accuracy: {0}.'.format(knn.score(X_test, y_test)))"
      ]
    },
    {
      "cell_type": "markdown",
      "metadata": {
        "id": "0lm92SlgoSfx"
      },
      "source": [
        "After a ``KNeighborsClassifier`` is fit, the method ``KNeighborsClassifier.predict`` can be used to predict the classes for a list of observations.\n",
        "\n",
        "For example, we may use this method to predict the class for every observation in the test dataset. This allows obtaining the indices of the observations that are classified incorrectly."
      ]
    },
    {
      "cell_type": "code",
      "execution_count": null,
      "metadata": {
        "id": "I47mfrtRoSfy"
      },
      "outputs": [],
      "source": [
        "y_pred = knn.predict(X_test)\n",
        "mistakes = np.nonzero(y_pred != y_test)[0]\n",
        "\n",
        "print('Indices of misclassified observations:')\n",
        "print(mistakes)"
      ]
    },
    {
      "cell_type": "markdown",
      "metadata": {
        "id": "3q9NKQAaoSfy"
      },
      "source": [
        "We can use the ``matplotlib`` function ``imshow`` to visualise a misclassified observation. You may change the index for ``mistakes`` in order to select an observation for visualisation (requires running all cells above, because ``y_pred`` is modified later). Note how some misclassifications are understandable."
      ]
    },
    {
      "cell_type": "code",
      "execution_count": null,
      "metadata": {
        "id": "0SRnYZXRoSfz"
      },
      "outputs": [],
      "source": [
        "i = mistakes[13]\n",
        "plt.imshow(X_test[i].reshape(28, 28), cmap=plt.cm.gray_r, interpolation='nearest')\n",
        "plt.show()\n",
        "print('Observation index: {0}. Class: {1}. Prediction: {2}.'.format(i, y_test[i], y_pred[i]))"
      ]
    },
    {
      "cell_type": "markdown",
      "metadata": {
        "id": "fkO2w2QloSfz"
      },
      "source": [
        "Some datasets need to be preprocessed before a learning algorithm can be applied. The training dataset must be preprocessed without access to the test dataset, otherwise the resulting test accuracy after preprocessing is likely to overestimate the accuracy on unseen data.\n",
        "\n",
        "The function ``make_pipeline`` allows chaining a sequence of preprocessing operations (such as individually standardizing each feature, which is accomplished by the class ``StandardScaler``) before a learning algorithm is applied. This function returns a ``Pipeline`` object that can be used to fit, predict, and score, just as any other classification algorithm in ``sklearn``. A ``Pipeline`` preprocesses incoming data appropriately before making predictions."
      ]
    },
    {
      "cell_type": "code",
      "execution_count": null,
      "metadata": {
        "id": "QIBcVR9ToSfz"
      },
      "outputs": [],
      "source": [
        "from sklearn.preprocessing import StandardScaler\n",
        "from sklearn.pipeline import make_pipeline\n",
        "\n",
        "knn_pipe = make_pipeline(StandardScaler(), KNeighborsClassifier(n_neighbors=1))\n",
        "\n",
        "knn_pipe.fit(X_train, y_train)\n",
        "print('Test dataset accuracy: {0}.'.format(knn_pipe.score(X_test, y_test)))"
      ]
    },
    {
      "cell_type": "markdown",
      "metadata": {
        "id": "vJ1Asa_uoSf0"
      },
      "source": [
        "Consider the task of selecting the best possible number of neighbours k (a hyperparameter) for the k-nearest neighbour classification algorithm.\n",
        "\n",
        "As we have seen, a hyperparameter should not be chosen based on its performance on the test dataset. In that case, there would be no data left to enable a reliable estimate of how well this choice generalizes to unseen data. After all, this choice would have been based on the test dataset.\n",
        "\n",
        "Therefore there exist two options: either the whole dataset is split into a training, a validation and a testing set, or k-fold cross validation is performed."
      ]
    },
    {
      "cell_type": "markdown",
      "metadata": {
        "id": "29jOl89Xfo6x"
      },
      "source": [
        "</br>"
      ]
    },
    {
      "cell_type": "markdown",
      "metadata": {
        "id": "TNswLeBffATB"
      },
      "source": [
        "*Option 1*: **Exercise**\n",
        "\n",
        "Split the whole dataset into training, validation and testing sets with ratios 65-15-20% and then perform  k-nearest neighbour with k = 5 and 15. Choose the best value for k according to the performance on the validation set.*italicized text*"
      ]
    },
    {
      "cell_type": "code",
      "execution_count": null,
      "metadata": {
        "id": "yUa8A3HYfmez"
      },
      "outputs": [],
      "source": [
        "# insert code here\n",
        "X_train2, X_valid, y_train2, y_valid = train_test_split(X_train, y_train, test_size=0.15, random_state=0)\n",
        "\n",
        "\n",
        "knn_pipe = make_pipeline(StandardScaler(), KNeighborsClassifier(n_neighbors=1))\n",
        "knn_pipe.fit(X_train2, y_train2)\n",
        "print('k=1: Test dataset accuracy: {0}.'.format(knn_pipe.score(X_valid, y_valid)))\n",
        "\n",
        "\n",
        "knn_pipe = make_pipeline(StandardScaler(), KNeighborsClassifier(n_neighbors=5))\n",
        "knn_pipe.fit(X_train2, y_train2)\n",
        "print('k=5: Test dataset accuracy: {0}.'.format(knn_pipe.score(X_valid, y_valid)))\n",
        "\n",
        "\n",
        "knn_pipe = make_pipeline(StandardScaler(), KNeighborsClassifier(n_neighbors=15))\n",
        "knn_pipe.fit(X_train2, y_train2)\n",
        "print('k=15: Test dataset accuracy: {0}.'.format(knn_pipe.score(X_valid, y_valid)))"
      ]
    },
    {
      "cell_type": "markdown",
      "metadata": {
        "id": "CfQDN9QwfqP_"
      },
      "source": [
        "</br>"
      ]
    },
    {
      "cell_type": "markdown",
      "metadata": {
        "id": "53SzsxyEeiM2"
      },
      "source": [
        "Option 2: The function ``cross_validate`` conducts K-fold cross validation using a specified training dataset. Cross-validation involves splitting a training dataset into K folds of equal size (this K and the k in k-nn should not be confused; they are different). Each fold is used as a validation set (on which the performance is computed) when the remaining folds are used as an effective training set (where a classifier is learned). The parameter ``cv`` controls the number of folds K. The function returns a dictionary with statistics that include a list of accuracies (i.e. performance metric) that can be accessed by the keyword ``'test_score'``.\n",
        "\n",
        "After a hyperparameter is selected by cross-validation, it can be used to fit a classifier to the entire training dataset, which can then be evaluated in the test dataset.\n",
        "\n",
        "Once again, if any step leading to model selection is based on the resulting performance on the test dataset, the resulting test accuracy is likely to overestimate the accuracy of the model on unseen data."
      ]
    },
    {
      "cell_type": "code",
      "execution_count": null,
      "metadata": {
        "id": "XeBHf_OeoSf1"
      },
      "outputs": [],
      "source": [
        "knn_5 = KNeighborsClassifier(n_neighbors=5)\n",
        "knn_15 = KNeighborsClassifier(n_neighbors=15)\n",
        "\n",
        "from sklearn.model_selection import cross_validate\n",
        "\n",
        "# Note that the data was already implicitly shuffled by train_test_split\n",
        "result_5 = cross_validate(knn_5, X_train, y_train, cv=5)\n",
        "result_15 = cross_validate(knn_15, X_train, y_train, cv=5)\n",
        "\n",
        "print('Average accuracy across folds (k = 5): {0}.'.format(result_5['test_score'].mean()))\n",
        "print('Average accuracy across folds (k = 15): {0}.'.format(result_15['test_score'].mean()))\n",
        "\n",
        "knn_5.fit(X_train, y_train)\n",
        "print('Test dataset accuracy (k = 5): {0}.'.format(knn_5.score(X_test, y_test)))"
      ]
    },
    {
      "cell_type": "markdown",
      "metadata": {
        "id": "lhERgJSDoSf1"
      },
      "source": [
        "The class ``GridSearchCV`` offers a convenient way to choose hyperparameters based on cross-validation. Its constructor receives a classification algorithm object (such as a ``KNeighborsClassifier`` object) and a dictionary that maps hyperparameter names to lists of values that should be considered. Once the method ``GridSearchCV.fit`` is called, each possible combination of hyperparameters from each of the lists is evaluated using cross-validation. The best hyperparameter setting is then used to fit a classifier to the training dataset. After fitting, the ``GridSearchCV`` object can be used to predict and score just as any other classification algorithm in ``sklearn``."
      ]
    },
    {
      "cell_type": "code",
      "execution_count": null,
      "metadata": {
        "id": "59I1PvY2oSf2"
      },
      "outputs": [],
      "source": [
        "from sklearn.model_selection import GridSearchCV\n",
        "\n",
        "parameters = {'n_neighbors': [1, 3, 5, 7, 9]}\n",
        "\n",
        "knn = KNeighborsClassifier()\n",
        "knn_cv = GridSearchCV(knn, parameters, cv=5)\n",
        "knn_cv.fit(X_train, y_train)\n",
        "\n",
        "print('Best hyperparameter setting: {0}.'.format(knn_cv.best_estimator_))\n",
        "print('Average accuracy across folds of best hyperparameter setting: {0}.'.format(knn_cv.best_score_))\n",
        "print('Test dataset accuracy of best hyperparameter setting: {0}.'.format(knn_cv.score(X_test, y_test)))"
      ]
    },
    {
      "cell_type": "markdown",
      "metadata": {
        "id": "4Ifj8XHloSf2"
      },
      "source": [
        "Accuracy is not the only classification performance metric available on ``sklearn``. For instance, it is possible to compute the precision and recall for each class by considering the remaining classes as beloging to a single (negative) class. This is accomplished by the function ``precision_recall_fscore_support``.\n",
        "\n",
        "The function ``confusion_matrix`` creates a confusion matrix given a class/label array and a prediction array."
      ]
    },
    {
      "cell_type": "code",
      "execution_count": null,
      "metadata": {
        "id": "aZzK_ybKoSf3"
      },
      "outputs": [],
      "source": [
        "from sklearn.metrics import precision_recall_fscore_support\n",
        "from sklearn.metrics import confusion_matrix\n",
        "\n",
        "y_pred = knn_cv.predict(X_test)\n",
        "\n",
        "precision, recall, _, _ = precision_recall_fscore_support(y_test, y_pred)\n",
        "print('Precision for each class: {0}.'.format(precision))\n",
        "print('Recall for each class: {0}.\\n'.format(recall))\n",
        "\n",
        "df = pd.DataFrame.from_records(confusion_matrix(y_test, y_pred))\n",
        "print('Confusion matrix:')\n",
        "display(df)"
      ]
    },
    {
      "cell_type": "markdown",
      "metadata": {
        "id": "kejHZvqtoSf3"
      },
      "source": [
        "As mentioned before, ``sklearn`` implements learning algorithms covered during the lectures:  [support vector machines](https://scikit-learn.org/stable/modules/generated/sklearn.svm.SVC.html), [artificial neural networks](https://scikit-learn.org/stable/modules/generated/sklearn.neural_network.MLPClassifier.html), [decision trees](https://scikit-learn.org/stable/modules/generated/sklearn.tree.DecisionTreeClassifier.html), and [random forest classifiers](https://scikit-learn.org/stable/modules/generated/sklearn.ensemble.RandomForestClassifier.html).\n",
        "\n",
        "The interface provided by each of these learning algorithms is analogous to the interface provided by the k-nearest neighbour classification algorithm that we have used so far.\n",
        "\n",
        "For instance, in order to train a random forest classifier composed of 100 decision trees, an object of the class ``RandomForestClassifier`` can be constructed with ``n_estimators`` set to 100. This object can be used to fit the training dataset and compute the accuracy on the test dataset."
      ]
    },
    {
      "cell_type": "code",
      "execution_count": null,
      "metadata": {
        "id": "lNoTJBItoSf3"
      },
      "outputs": [],
      "source": [
        "from sklearn.ensemble import RandomForestClassifier\n",
        "\n",
        "rfc = RandomForestClassifier(n_estimators=100, random_state=0)\n",
        "rfc.fit(X_train, y_train)\n",
        "print(rfc.score(X_test, y_test))\n",
        "print('Test dataset accuracy (random forest classifier): {0}.'.format(rfc.score(X_test, y_test)))"
      ]
    },
    {
      "cell_type": "markdown",
      "metadata": {
        "id": "mrsOpM__rekf"
      },
      "source": [
        "</br>"
      ]
    },
    {
      "cell_type": "markdown",
      "metadata": {
        "id": "uHnZK8ZGqzh1"
      },
      "source": [
        "##Exercise##\n",
        "\n",
        "Train a support vector machine classifier using the same training dataset used in the previous sections and compute its accuracy on the corresponding test dataset. You can use the default hyperparameters for the class SVC from sklearn.svm"
      ]
    },
    {
      "cell_type": "code",
      "execution_count": null,
      "metadata": {
        "id": "4GJw77--3RGh"
      },
      "outputs": [],
      "source": [
        "# insert code here\n",
        "from sklearn import  svm\n",
        "\n",
        "# Create a classifier: a support vector classifier\n",
        "clf = svm.SVC()\n",
        "\n",
        "clf.fit(X_train, y_train)\n",
        "\n",
        "# Predict the value of the digit on the test subset\n",
        "print('Test dataset accuracy (SVM classifier): {0}.'.format(clf.score(X_test, y_test)))"
      ]
    },
    {
      "cell_type": "markdown",
      "metadata": {
        "id": "H1smir3rrgbx"
      },
      "source": [
        "</br>"
      ]
    },
    {
      "cell_type": "markdown",
      "metadata": {
        "id": "9gcT0yGR2_EP"
      },
      "source": [
        "##Exercise##\n",
        "\n",
        "\n",
        "Using the same training dataset used in the previous sections, employ ``GridSearchCV`` to find the best hyperparameter settings based on 5-fold cross-validation for a ``RandomForestClassifier``. Consider ``n_estimators`` $ \\in \\{ 50, 100, 200\\}$ and ``max_features`` $ \\in \\{0.1, 0.25\\}$. Use the default values for the remaining hyperparameters. Compute the accuracy of the best model on the corresponding test dataset."
      ]
    },
    {
      "cell_type": "code",
      "execution_count": null,
      "metadata": {
        "id": "fdB2oTI33Sha"
      },
      "outputs": [],
      "source": [
        "# insert code here\n",
        "parameters = {'n_estimators': [50, 100, 200], 'max_features': [0.1, 0.25]}\n",
        "\n",
        "rfc = RandomForestClassifier()\n",
        "\n",
        "rfc_cv = GridSearchCV(rfc, parameters, cv=5)\n",
        "rfc_cv.fit(X_train, y_train)\n",
        "\n",
        "print('Best hyperparameter setting: {0}.'.format(rfc_cv.best_estimator_))\n",
        "print('Average accuracy across folds of best hyperparameter setting: {0}.'.format(rfc_cv.best_score_))\n",
        "print('Test dataset accuracy of best hyperparameter setting: {0}.'.format(rfc_cv.score(X_test, y_test)))"
      ]
    },
    {
      "cell_type": "markdown",
      "metadata": {
        "id": "MaXtgWsM3PLP"
      },
      "source": [
        "</br>"
      ]
    },
    {
      "cell_type": "markdown",
      "metadata": {
        "id": "uQe9zr1EoSf3"
      },
      "source": [
        "## Clustering\n",
        "\n",
        "The clustering algorithms implemented by ``sklearn`` have an interface that is similar to the interface for the classification algorithms.\n",
        "\n",
        "The class ``KMeans`` implements the k-means clustering algorithm. The number of clusters ``n_clusters`` is a parameter for the constructor of this class.\n",
        "\n",
        "The method ``KMeans.fit_predict`` is equivalent to a call to ``KMeans.fit`` followed by a call to ``KMeans.predict``, which is responsible for attributing each observation to a cluster. After the clustering is computed by a call to ``KMeans.fit``, the sum of squared errors of the clustering is available as a class variable named ``inertia_``.\n"
      ]
    },
    {
      "cell_type": "code",
      "execution_count": null,
      "metadata": {
        "id": "xOd-hVO0oSf4"
      },
      "outputs": [],
      "source": [
        "from sklearn.cluster import KMeans\n",
        "\n",
        "kmeans = KMeans(n_clusters=10, random_state=0)\n",
        "y_pred = kmeans.fit_predict(X)\n",
        "\n",
        "print('Sum of squared errors (k = 10): {0}.'.format(kmeans.inertia_))"
      ]
    },
    {
      "cell_type": "markdown",
      "metadata": {
        "id": "SLtJPXlvoSf4"
      },
      "source": [
        "In order to compare the quality of clusterings of the same dataset for different numbers of clusters, it is possible to employ both sums of squared errors and silhouette coefficients."
      ]
    },
    {
      "cell_type": "code",
      "execution_count": null,
      "metadata": {
        "id": "mjxY-EyqoSf4",
        "scrolled": true
      },
      "outputs": [],
      "source": [
        "from sklearn.metrics import silhouette_score\n",
        "\n",
        "max_k = 15\n",
        "\n",
        "# Sum of squared errors for each k\n",
        "sses = []\n",
        "\n",
        "# Silhouette coefficient for each k\n",
        "silhouettes = []\n",
        "\n",
        "for k in range(2, max_k + 1):\n",
        "    kmeans = KMeans(n_clusters=k, random_state=0)\n",
        "    y_pred = kmeans.fit_predict(X)\n",
        "\n",
        "    sses.append(kmeans.inertia_)\n",
        "    silhouettes.append(silhouette_score(X, y_pred))\n",
        "\n",
        "# Plotting sums of squared errors\n",
        "df = pd.DataFrame({'sum of squared errors': sses, 'number of clusters': list(range(2, max_k + 1))})\n",
        "sns.lineplot(x='number of clusters', y='sum of squared errors', data=df)\n",
        "plt.xticks(df['number of clusters'])\n",
        "plt.show()\n",
        "\n",
        "# Plotting silhouette coefficients\n",
        "df = pd.DataFrame({'silhouette coefficient': silhouettes, 'number of clusters': list(range(2, max_k + 1))})\n",
        "sns.lineplot(x='number of clusters', y='silhouette coefficient', data=df)\n",
        "plt.xticks(df['number of clusters'])\n",
        "plt.show()"
      ]
    },
    {
      "cell_type": "markdown",
      "metadata": {
        "id": "u0VjCYNYoSf4"
      },
      "source": [
        "A projection computed using t-stochastic neighbor embedding (implemented by the class ``TSNE``) can be used to visualise the results of clustering.\n",
        "\n",
        "Recall that dimensionality reduction attemps to represent a dataset by a projection such that each point in the projection corresponds to an observation. The t-stochastic neighbor embedding algorithm attempts to preserve neighbourhoods of the dataset in the corresponding projection.\n",
        "\n",
        "It is important to note that a projection is not, in general, a reliable representation of a dataset. Therefore, care must be taken before deriving conclusions from such visualisations.\n",
        "\n",
        "Note that the numbers assigned to clusters are unlikely to match the numbers assigned to classes. Therefore, only relative colouring is important in the plots shown below."
      ]
    },
    {
      "cell_type": "code",
      "execution_count": null,
      "metadata": {
        "id": "UiUlOCF-oSf5"
      },
      "outputs": [],
      "source": [
        "from sklearn.manifold import TSNE\n",
        "\n",
        "# Computing a projection using t-stochastic neighbour embedding\n",
        "embedding = TSNE(n_components=2, perplexity=50, random_state=0)\n",
        "Xp = embedding.fit_transform(X)\n",
        "\n",
        "# Plotting projection colored by classes\n",
        "df_projection = pd.DataFrame({'x': Xp[:, 0], 'y': Xp[:, 1], 'class': y})\n",
        "sns.scatterplot(x='x', y='y', hue='class', palette=sns.color_palette(), data=df_projection)\n",
        "plt.legend(bbox_to_anchor=(1.05, 1), loc=2, borderaxespad=0.)\n",
        "plt.show()\n",
        "\n",
        "kmeans = KMeans(n_clusters=10, random_state=0)\n",
        "y_pred = kmeans.fit_predict(X)\n",
        "\n",
        "# Plotting projection colored by clusters\n",
        "df_projection = pd.DataFrame({'x': Xp[:, 0], 'y': Xp[:, 1], 'cluster': y_pred})\n",
        "sns.scatterplot(x='x', y='y', hue='cluster', palette=sns.color_palette(), data=df_projection)\n",
        "plt.legend(bbox_to_anchor=(1.05, 1), loc=2, borderaxespad=0.)\n",
        "plt.show()"
      ]
    },
    {
      "cell_type": "markdown",
      "metadata": {
        "id": "WegGwHz10QEf"
      },
      "source": [
        "# Lab session 6: Association Analysis"
      ]
    },
    {
      "cell_type": "markdown",
      "metadata": {
        "id": "JZUOd9_x0QEg"
      },
      "source": [
        "## Introduction\n",
        "\n",
        "The aim of this lab (Lab session 6) is for students to get experience with **Association Analysis** covered in week 8, by using typical Python libraries.\n",
        "\n",
        "\n",
        "This session starts with a tutorial that uses examples to introduce you to  practical knowledge. We highly recommend that you read the following tutorials if you need a gentler introduction to the libraries that we use:\n",
        "- [Mlxtend: Apriori](http://rasbt.github.io/mlxtend/user_guide/frequent_patterns/apriori/)\n",
        "- [Numpy quickstart tutorial](https://numpy.org/devdocs/user/quickstart.html)\n",
        "- [Numpy: basic broadcasting](https://numpy.org/doc/stable/user/basics.broadcasting.html)\n",
        "- [Pandas](https://pandas.pydata.org/pandas-docs/stable/user_guide/10min.html)\n",
        "- [Matplotlib](https://matplotlib.org/tutorials/introductory/pyplot.html)\n",
        "- [Seaborn](https://seaborn.pydata.org/tutorial/relational.html)\n",
        "- [Scikit-learn](https://scikit-learn.org/stable/tutorial/basic/tutorial.html)"
      ]
    },
    {
      "cell_type": "markdown",
      "metadata": {
        "id": "poBjNRF80QEi"
      },
      "source": [
        "## 1. Frequent itemsets"
      ]
    },
    {
      "cell_type": "markdown",
      "metadata": {
        "id": "K2GJqWCp0QEj"
      },
      "source": [
        "In order to present functionalities for association analysis in Python, we adapt an example from the ``mlxtend`` documentation.\n",
        "\n",
        "Consider a dataset composed of five transactions. This dataset is represented by a list of five elements, each of which is a list of items bought during a trip to a supermarket."
      ]
    },
    {
      "cell_type": "code",
      "execution_count": null,
      "metadata": {
        "id": "cfbulGiF0QEj"
      },
      "outputs": [],
      "source": [
        "dataset = [['Milk', 'Onion', 'Nutmeg', 'Kidney Beans', 'Eggs', 'Yogurt'],\n",
        "           ['Dill', 'Onion', 'Nutmeg', 'Kidney Beans', 'Eggs', 'Yogurt'],\n",
        "           ['Milk', 'Apple', 'Kidney Beans', 'Eggs'],\n",
        "           ['Milk', 'Unicorn', 'Corn', 'Kidney Beans', 'Yogurt'],\n",
        "           ['Corn', 'Onion', 'Onion', 'Kidney Beans', 'Ice cream', 'Eggs']]"
      ]
    },
    {
      "cell_type": "markdown",
      "metadata": {
        "id": "VbaY6ZDN0QEj"
      },
      "source": [
        "The library ``mlxtend`` requires that each transaction is represented by a binary vector where each element indicates the presence or absence of a specific item.\n",
        "\n",
        "The method ``TransactionEncoder.fit_transform`` can be used to convert the dataset created above into this expected format. This method returns a binary matrix (numpy array) where each transaction corresponds to a row and each column corresponds to an item."
      ]
    },
    {
      "cell_type": "code",
      "execution_count": null,
      "metadata": {
        "id": "UVRaQhnB0QEk"
      },
      "outputs": [],
      "source": [
        "from mlxtend.preprocessing import TransactionEncoder\n",
        "\n",
        "te = TransactionEncoder()\n",
        "te_ary = te.fit_transform(dataset)\n",
        "print(te_ary)"
      ]
    },
    {
      "cell_type": "markdown",
      "metadata": {
        "id": "fwX4i0H50QEk"
      },
      "source": [
        "The item corresponding to each column is stored by the ``TransactionEncoder`` object in a variable called ``columns_``. This variable can be used to create a ``DataFrame`` that conveniently represents the transaction dataset."
      ]
    },
    {
      "cell_type": "code",
      "execution_count": null,
      "metadata": {
        "id": "EaJVGL2P0QEk"
      },
      "outputs": [],
      "source": [
        "import pandas as pd\n",
        "\n",
        "df = pd.DataFrame(te_ary, columns=te.columns_)\n",
        "display(df)"
      ]
    },
    {
      "cell_type": "markdown",
      "metadata": {
        "id": "gIY7Qi5j0QEl"
      },
      "source": [
        "The ``mlxtend`` function ``apriori`` receives a ``DataFrame`` that represents a transaction dataset and a parameter that specifies the support threshold. This function returns a ``DataFrame`` that contains one row for each frequent itemset. Each row contains a python ``frozenset`` that represents the itemset (by column indices) and a number that represents the support of this itemset."
      ]
    },
    {
      "cell_type": "code",
      "execution_count": null,
      "metadata": {
        "id": "_44Ffbfg0QEm"
      },
      "outputs": [],
      "source": [
        "from mlxtend.frequent_patterns import apriori\n",
        "\n",
        "frequent_itemsets = apriori(df, min_support=0.6)\n",
        "display(frequent_itemsets)\n",
        "\n",
        "itemset = frequent_itemsets.loc[5]\n",
        "print('Itemset: {0}. Support: {1}.'.format(itemset['itemsets'], itemset['support']))"
      ]
    },
    {
      "cell_type": "markdown",
      "metadata": {
        "id": "X8cwFrys0QEm"
      },
      "source": [
        "Conveniently, if the parameter ``use_colnames`` is set to ``True``,  the ``mlxtend`` function ``apriori`` may instead return a ``DataFrame`` that represents itemsets by ``frozensets`` of item names."
      ]
    },
    {
      "cell_type": "code",
      "execution_count": null,
      "metadata": {
        "id": "lR2yUWTT0QEn"
      },
      "outputs": [],
      "source": [
        "frequent_itemsets = apriori(df, min_support=0.6, use_colnames=True)\n",
        "display(frequent_itemsets)"
      ]
    },
    {
      "cell_type": "markdown",
      "metadata": {
        "id": "--cxPvfs0QEn"
      },
      "source": [
        "Using typical ``pandas`` functionalities, it is easy to include a column in such a ``DataFrame`` to register the number of items in each frequent itemset, which can be used to filter itemsets by length."
      ]
    },
    {
      "cell_type": "code",
      "execution_count": null,
      "metadata": {
        "id": "G5tvWSmD0QEo"
      },
      "outputs": [],
      "source": [
        "frequent_itemsets['length'] = frequent_itemsets['itemsets'].apply(lambda x: len(x)) # length of each frozenset\n",
        "print('Frequent 3-itemsets:')\n",
        "display(frequent_itemsets[frequent_itemsets['length'] == 3])"
      ]
    },
    {
      "cell_type": "markdown",
      "metadata": {
        "id": "zSdsp-q80QEo"
      },
      "source": [
        "It is also easy to create a ``dict`` that maps any frequent itemset (represented by a ``frozenset``) to its support."
      ]
    },
    {
      "cell_type": "code",
      "execution_count": null,
      "metadata": {
        "id": "hjKQLrej0QEo"
      },
      "outputs": [],
      "source": [
        "support = {}\n",
        "for _, row in frequent_itemsets.iterrows():\n",
        "    support[row['itemsets']] = row['support']\n",
        "\n",
        "itemset = frozenset(['Onion', 'Eggs'])\n",
        "print('Itemset: {0}. Support: {1}.'.format(itemset, support[itemset]))"
      ]
    },
    {
      "cell_type": "markdown",
      "metadata": {
        "id": "cDnGEz1z0QEo"
      },
      "source": [
        "## 2. Association rules"
      ]
    },
    {
      "cell_type": "markdown",
      "metadata": {
        "id": "2Bb-Ohe70QEp"
      },
      "source": [
        "The ``mlxtend`` function ``association_rules`` receives a ``DataFrame`` that represents the set of frequent itemsets and returns a ``DataFrame`` that represents strong association rules for a specified confidence threshold. Each row in the resulting  ``DataFrame`` contains an association rule together with some potentially useful measures (we have not covered lift, leverage, or conviction)."
      ]
    },
    {
      "cell_type": "code",
      "execution_count": null,
      "metadata": {
        "id": "xCAnce4q0QEp"
      },
      "outputs": [],
      "source": [
        "from mlxtend.frequent_patterns import association_rules\n",
        "\n",
        "strong_rules = association_rules(frequent_itemsets, metric=\"confidence\", min_threshold=0.7)\n",
        "display(strong_rules)"
      ]
    },
    {
      "cell_type": "markdown",
      "metadata": {
        "id": "4IDliL4-8jmW"
      },
      "source": [
        "## Exercise\n",
        "\n"
      ]
    },
    {
      "cell_type": "markdown",
      "metadata": {
        "id": "8XDFXDnR_ae6"
      },
      "source": [
        "The sample dataset to be used is one of Kaggle’s e-commerce resources containing historical sales transactions of electronic items. The dataset can be found in QM+.\n",
        "\n",
        "The tasks to be completed for this exercise are:\n",
        "\n",
        "1) Import the dataset </br>\n",
        "2) Keep only the columns: 'Order ID', 'Product' </br>\n",
        "3) Reset the index of the dataframe </br>\n",
        "4) Use the following command for structuring the dataframe into a form/format for analysis: </br> pivot_table(index = 'Order ID', columns = 'Product', aggfunc = 'count') </br>\n",
        "5) Check the resulting dataframe and perform a necessary pre-processing technique </br>\n",
        "6) Convert the columns to boolean </br>\n",
        "7) Identify the support frequency of items </br>\n",
        "The support frequency is the number of times any individual item is sold (here we only count each item once per order) divided by the total number of transactions (or orders in this example). Which are the top-5 most frequent selling items? Can this insight help a retailer also boost the sales of less frequent selling items by pairing them with these high frequency lower cost electronic goods? Which products would make sense to pair together given this insight? </br>\n",
        "8) Run the apriori algorithm from mlxtend </br>\n",
        "9) Compute items that sell at minimum in a percentage of all orders placed in the month (e.g. try min_support=0.00000001) </br>\n",
        "10) Compute pairs of orders that have a meaningful measure (e.g lift of more than 1; confidence of more than 0.1) in their sales when marketed together\n",
        "\n",
        "\n",
        "\n"
      ]
    },
    {
      "cell_type": "code",
      "execution_count": null,
      "metadata": {
        "id": "-6qQ9Bd89vxl"
      },
      "outputs": [],
      "source": [
        "import numpy as np\n",
        "\n",
        "sales_april = pd.read_csv('Sales_April_2019.csv')\n",
        "\n",
        "print('Total item sales (ignoring quanitities)')\n",
        "print(len(sales_april))\n",
        "print('Total orders')\n",
        "print(len(sales_april['Order ID'].value_counts()))\n",
        "print('Total unique products')\n",
        "print(len(sales_april['Product'].value_counts()))\n",
        "\n",
        "\n",
        "sales_filter = sales_april[['Order ID', 'Product']]\n",
        "sales_filter = sales_filter.reset_index()\n",
        "\n",
        "df_orders = sales_filter.pivot_table(index = 'Order ID', columns = 'Product', aggfunc = 'count')\n",
        "#Fill null values in the dataframe\n",
        "df_orders = df_orders.fillna(0)\n",
        "\n",
        "#Convert df orders columns to boolean\n",
        "col_names = df_orders.columns\n",
        "df_orders = df_orders[col_names].astype('bool')\n",
        "\n",
        "df_orders.mean().sort_values(ascending=False).plot(kind='bar')\n",
        "\n",
        "#Run the apriori algorithm from mlxtend\n",
        "from mlxtend.frequent_patterns import association_rules\n",
        "from mlxtend.frequent_patterns import apriori\n",
        "\n",
        "#Compute items that sell at min_support = 0.00000001 of all orders placed in the month\n",
        "frequent_itemsets = apriori(df_orders, min_support = 0.00000001,max_len = 2, use_colnames = True)\n",
        "\n",
        "#Compute pairs of orders that have a meaningful e.g. lift/confidence of more than 1/0.1 in their sales when marketed together\n",
        "frequent_itemsets_rules = association_rules(frequent_itemsets,metric = \"confidence\", min_threshold = 0.1)\n",
        "display(frequent_itemsets_rules)\n"
      ]
    },
    {
      "cell_type": "markdown",
      "metadata": {
        "id": "mIbkT8a0f3qQ"
      },
      "source": [
        "# Lab session 7: Outlier Detection"
      ]
    },
    {
      "cell_type": "markdown",
      "metadata": {
        "id": "nu-2ZNSGf3qS"
      },
      "source": [
        "## Introduction\n",
        "\n",
        "The aim of this lab (Lab session 7) is for students to get experience with **Outlier Detection** covered in week 9, by using typical Python libraries.\n",
        "\n",
        "\n",
        "This session starts with a tutorial that uses examples to introduce you to the practical knowledge that you will need for the corresponding assignment. We highly recommend that you read the following tutorials if you need a gentler introduction to the libraries that we use:\n",
        "- [Numpy quickstart tutorial](https://numpy.org/devdocs/user/quickstart.html)\n",
        "- [Pandas](https://pandas.pydata.org/pandas-docs/stable/user_guide/10min.html)\n",
        "- [Matplotlib](https://matplotlib.org/tutorials/introductory/pyplot.html)\n",
        "- [Scikit-learn](https://scikit-learn.org/stable/tutorial/basic/tutorial.html)"
      ]
    },
    {
      "cell_type": "markdown",
      "metadata": {
        "id": "bWRYEF6ff3qX"
      },
      "source": [
        "## 1. Outlier detection using parametric methods\n",
        "\n",
        "This approach assumes that the majority of the data instances are governed by some well-known probability distribution, e.g. a Gaussian distribution. Outliers can then be detected by seeking for observations that do not fit the overall distribution of the data.\n",
        "\n",
        "In this example, our goal is to detect anomalous changes in the daily closing prices of various stocks. The input data **stocks.csv** (available in the lab supplementary material) contains the historical closing prices of stocks for 3 large corporations (Microsoft, Ford Motor Company, and Bank of America)."
      ]
    },
    {
      "cell_type": "code",
      "execution_count": null,
      "metadata": {
        "id": "gW0ujwgRf3qZ"
      },
      "outputs": [],
      "source": [
        "import pandas as pd\n",
        "\n",
        "# Load CSV file, set the 'Date' values as the index of each row, and display the first rows of the dataframe\n",
        "stocks = pd.read_csv('stocks.csv', header='infer')\n",
        "stocks.index = stocks['Date']\n",
        "stocks = stocks.drop(['Date'],axis=1)\n",
        "stocks.head()"
      ]
    },
    {
      "cell_type": "markdown",
      "metadata": {
        "id": "1n3kJ7PIf3qZ"
      },
      "source": [
        "We can compute the percentage of changes in the daily closing price of each stock as follows:\n",
        "\\begin{equation}\n",
        "\\Delta(t) = 100 \\times \\frac{x_t - x_{t-1}}{x_{t-1}}\n",
        "\\end{equation}\n",
        "\n",
        "where $x_t$ denotes the price of a stock on day $t$ and $x_{t-1}$ denotes the price on its previous day, $t-1$."
      ]
    },
    {
      "cell_type": "code",
      "execution_count": null,
      "metadata": {
        "id": "5X9G1gl5f3qa"
      },
      "outputs": [],
      "source": [
        "import numpy as np\n",
        "\n",
        "N,d = stocks.shape\n",
        "# Compute delta, which denotes the percentage of changes in the daily closing price of each stock\n",
        "delta = pd.DataFrame(100*np.divide(stocks.iloc[1:,:].values-stocks.iloc[:N-1,:].values, stocks.iloc[:N-1,:].values),\n",
        "                    columns=stocks.columns, index=stocks.iloc[1:].index)\n",
        "delta.head()"
      ]
    },
    {
      "cell_type": "markdown",
      "metadata": {
        "id": "vnI5-IUwf3qb"
      },
      "source": [
        "We can now plot the distribution of the percentage daily changes in stock price as a 3-dimensional scatter plot:"
      ]
    },
    {
      "cell_type": "code",
      "execution_count": null,
      "metadata": {
        "id": "-tE6I65yf3qb"
      },
      "outputs": [],
      "source": [
        "from mpl_toolkits.mplot3d import Axes3D\n",
        "import matplotlib.pyplot as plt\n",
        "%matplotlib inline\n",
        "\n",
        "fig = plt.figure(figsize=(8,5)).gca(projection='3d')\n",
        "fig.scatter(delta.MSFT,delta.F,delta.BAC)\n",
        "fig.set_xlabel('Microsoft')\n",
        "fig.set_ylabel('Ford')\n",
        "fig.set_zlabel('Bank of America')\n",
        "plt.show()"
      ]
    },
    {
      "cell_type": "markdown",
      "metadata": {
        "id": "_99E3HpUf3qd"
      },
      "source": [
        "Let's assume that the data follows a multivariate (i.e. multidimensional) Gaussian distribution. Such a probability distribution can be characterised by two statistics: the mean and covariance matrix of the 3-dimensional data.\n",
        "\n",
        "We can then compute the mean and covariance matrix of the 3-dimensional 'delta' data (which represent the percentage of changes in the daily closing price of each stock). Then, as a distance measure, to determine the anomalous trading days, we can compute the **Mahalanobis distance** (to be more precise, the square of the Mahalanobis distance) between the percentage of price change on each day against the mean percentage of price change:\n",
        "\\begin{equation}\n",
        "\\textrm{MDist}(x,\\bar{x}) = (x - \\bar{x})^T S^{-1}(x - \\bar{x})\n",
        "\\end{equation}\n",
        "where $x$ is assumed to be a row vector, $\\bar{x}$ denotes the mean vector, and $S$ denotes the covariance matrix of the data.\n",
        "\n",
        "See Section 12.3 in the \"Data Mining: Concepts and Techniques\" book for more information on the Mahalanobis distance. As a first step, we can define a function for the Mahalanobis distance:"
      ]
    },
    {
      "cell_type": "code",
      "execution_count": null,
      "metadata": {
        "id": "F-ek3yMFf3qd"
      },
      "outputs": [],
      "source": [
        "from numpy.linalg import inv\n",
        "\n",
        "def mahalanobis(x=None, data=None):\n",
        "    \"\"\"Compute the Mahalanobis Distance between each row of x and the data\n",
        "    x    : vector or matrix of data with, say, p columns.\n",
        "    data : ndarray of the distribution from which Mahalanobis distance of each observation of x is to be computed.\n",
        "    \"\"\"\n",
        "    x_mu = x - np.mean(data)\n",
        "    cov = np.cov(data.values.T)\n",
        "    inv_covmat = np.linalg.inv(cov)\n",
        "    left = np.matmul(x_mu, inv_covmat)\n",
        "    mahal = np.dot(left, x_mu.T)\n",
        "    return mahal.diagonal()"
      ]
    },
    {
      "cell_type": "markdown",
      "metadata": {
        "id": "J2gCPk6of3qe"
      },
      "source": [
        "Then, we can call the created function for the Mahalanobis distance on the 'delta' dataframe containing the daily percentage changes for each stock:"
      ]
    },
    {
      "cell_type": "code",
      "execution_count": null,
      "metadata": {
        "id": "sl6aSECAf3qf"
      },
      "outputs": [],
      "source": [
        "# Compute Mahalanobis distance for delta dataset\n",
        "mahal = mahalanobis(x=delta, data=delta[['MSFT', 'F', 'BAC']])\n",
        "\n",
        "# Assign an outlier score for the data based on the computed Mahalanobis distance\n",
        "outlier_score = mahal\n",
        "\n",
        "# Display 3D scatterplot with datapoints having a different color according to their outlier score\n",
        "fig = plt.figure(figsize=(10,6))\n",
        "ax = fig.add_subplot(111, projection='3d')\n",
        "p = ax.scatter(delta.MSFT,delta.F,delta.BAC,c=outlier_score,cmap='jet')\n",
        "ax.set_xlabel('Microsoft')\n",
        "ax.set_ylabel('Ford')\n",
        "ax.set_zlabel('Bank of America')\n",
        "fig.colorbar(p)\n",
        "plt.show()"
      ]
    },
    {
      "cell_type": "markdown",
      "metadata": {
        "id": "tEhzihaAf3qf"
      },
      "source": [
        "The top outliers are shown as the dark red and orange points in the above scatterplot. We can examine the dates associated with the top-5 highest outlier scores as follows:"
      ]
    },
    {
      "cell_type": "code",
      "execution_count": null,
      "metadata": {
        "id": "93dPy4mLf3qf"
      },
      "outputs": [],
      "source": [
        "outlier = pd.DataFrame(outlier_score, index=delta.index, columns=['Outlier score'])\n",
        "result = pd.concat((delta,outlier), axis=1)\n",
        "result.nlargest(5,'Outlier score')"
      ]
    },
    {
      "cell_type": "markdown",
      "metadata": {
        "id": "KFYelx7Kf3qg"
      },
      "source": [
        "We see for example that the top outlier was detected for 13th October 2008. This was a period of economic instability due to the 2008 global financial crisis (https://en.wikipedia.org/wiki/Global_financial_crisis_in_October_2008).\n",
        "\n",
        "We can subsequently inspect stocks around the top-2 outlier dates for each company, and see to which compani(es) are these outliers attributed to."
      ]
    },
    {
      "cell_type": "code",
      "execution_count": null,
      "metadata": {
        "id": "ITrKNVmjf3qg",
        "scrolled": true
      },
      "outputs": [],
      "source": [
        "fig, (ax1,ax2) = plt.subplots(nrows=1, ncols=2, figsize=(15,6))\n",
        "\n",
        "ts = delta[445:452]\n",
        "ts.plot.line(ax=ax1)\n",
        "ax1.set_xticks(range(7))\n",
        "ax1.set_xticklabels(ts.index)\n",
        "ax1.set_ylabel('Percent Change')\n",
        "\n",
        "ts = delta[477:484]\n",
        "ts.plot.line(ax=ax2)\n",
        "ax2.set_xticks(range(7))\n",
        "ax2.set_xticklabels(ts.index)\n",
        "ax2.set_ylabel('Percent Change')"
      ]
    },
    {
      "cell_type": "markdown",
      "metadata": {
        "id": "_PpbBA0hf3qh"
      },
      "source": [
        "## 2. Outlier detection using proximity-based approaches\n",
        "\n",
        "This is a model-free outlier detection approach as it does not require constructing an explicit model of the normal class to determine the outlier score of data instances. The example code shown below employs the k-nearest neighbor approach to calculate the outlier score. Specifically, a normal instance is expected to have a small distance to its k-th nearest neighbour whereas an outlier is likely to have a large distance to its k-th nearest neighbour. In the example below, we apply the distance-based approach with k=4 to identify the anomalous trading days from the stock market data described in the previous section.\n",
        "\n",
        "For more information on the NearestNeighbors() function please see the scikit learn documnetation: https://scikit-learn.org/stable/modules/generated/sklearn.neighbors.NearestNeighbors.html"
      ]
    },
    {
      "cell_type": "code",
      "execution_count": null,
      "metadata": {
        "id": "id7jJhLtf3qh"
      },
      "outputs": [],
      "source": [
        "from sklearn.neighbors import NearestNeighbors\n",
        "import numpy as np\n",
        "from scipy.spatial import distance\n",
        "\n",
        "# Implement a k-nearest neighbour approach using k=4 neighbours\n",
        "knn = 4\n",
        "nbrs = NearestNeighbors(n_neighbors=knn, metric=distance.euclidean).fit(delta.values)\n",
        "distances, indices = nbrs.kneighbors(delta.values)\n",
        "\n",
        "# The outlier score is set as the distance between the point and its k-th nearest neighbour\n",
        "outlier_score = distances[:,knn-1]\n",
        "\n",
        "# Plot 3D scatterplot of outlier scores\n",
        "fig = plt.figure(figsize=(10,6))\n",
        "ax = fig.add_subplot(111, projection='3d')\n",
        "p = ax.scatter(delta.MSFT,delta.F,delta.BAC,c=outlier_score,cmap='jet')\n",
        "ax.set_xlabel('Microsoft')\n",
        "ax.set_ylabel('Ford')\n",
        "ax.set_zlabel('Bank of America')\n",
        "fig.colorbar(p)\n",
        "plt.show()"
      ]
    },
    {
      "cell_type": "markdown",
      "metadata": {
        "id": "CiJazbQwf3qi"
      },
      "source": [
        "The results are slightly different than the one shown in Section 1 due to the difference distance used (Euclidean distance vs Mahalanobis distance) and the proximity criterion to detect the outliers.\n",
        "\n",
        "We can examine the dates associated with the top-5 highest outlier scores as follows."
      ]
    },
    {
      "cell_type": "code",
      "execution_count": null,
      "metadata": {
        "id": "-SmpjAtDf3qj"
      },
      "outputs": [],
      "source": [
        "outlier = pd.DataFrame(outlier_score, index=delta.index, columns=['Outlier score'])\n",
        "result = pd.concat((delta,outlier), axis=1)\n",
        "result.nlargest(5,'Outlier score')"
      ]
    },
    {
      "cell_type": "markdown",
      "metadata": {
        "id": "jblKfsoPf3qj"
      },
      "source": [
        "Finally, similarly to what was carried out in Section 1, we can inspect stocks around those outlier dates for each company. The below figure inspects the delta values for each company around the date of the 3rd detected outlier, on 7th October 2008, which represents a key date for the 2008 financial resession with large drops in stock values. Two companies seem to be primarily responsible for the creation of this outlier."
      ]
    },
    {
      "cell_type": "code",
      "execution_count": null,
      "metadata": {
        "id": "oXQddWQsf3qk"
      },
      "outputs": [],
      "source": [
        "fig = plt.figure(figsize=(10,4))\n",
        "\n",
        "ax = fig.add_subplot(111)\n",
        "ts = delta[440:447]\n",
        "ts.plot.line(ax=ax)\n",
        "ax.set_xticks(range(7))\n",
        "ax.set_xticklabels(ts.index)\n",
        "ax.set_ylabel('Percent Change')"
      ]
    },
    {
      "cell_type": "markdown",
      "metadata": {
        "id": "_OUWbL6pf3ql"
      },
      "source": [
        "## 3. Outlier detection using classification-based methods"
      ]
    },
    {
      "cell_type": "markdown",
      "metadata": {
        "id": "7G9zLPSof3ql"
      },
      "source": [
        "The **support vector machine (SVM)** algorithm developed initially for binary classification can be used for one-class classification, and therefore for outlier detection using a classification-based method where we construct a classifier to describe only the normal class.\n",
        "\n",
        "When modeling one class, the algorithm captures the density of the majority class and classifies examples on the extremes of the density function as outliers. This modification of SVM is referred to as **One-Class SVM**.\n",
        "\n",
        "In this section, we will work with a different dataset on house prices available at: https://raw.githubusercontent.com/jbrownlee/Datasets/master/housing.csv . This dataset has 13 input variables that describe the properties of the house and suburb and requires the prediction of the median value of houses in the suburb in thousands of dollars. Information and metadata about the dataset can be found at: https://raw.githubusercontent.com/jbrownlee/Datasets/master/housing.names . Please spend some time to inspect the dataset and its metadata.\n",
        "\n",
        "As a first step, we load the dataset and split it into input and output (target) elements:"
      ]
    },
    {
      "cell_type": "code",
      "execution_count": null,
      "metadata": {
        "id": "fPolDwjqf3qm"
      },
      "outputs": [],
      "source": [
        "from pandas import read_csv\n",
        "\n",
        "# Loading the dataset\n",
        "url = 'https://raw.githubusercontent.com/jbrownlee/Datasets/master/housing.csv'\n",
        "df = read_csv(url, header=None)\n",
        "\n",
        "# Extracting the values from the dataframe\n",
        "data = df.values\n",
        "\n",
        "# Split dataset into input and output elements\n",
        "X, y = data[:, :-1], data[:, -1]\n",
        "\n",
        "# Summarize the shape of the dataset\n",
        "print(X.shape, y.shape)"
      ]
    },
    {
      "cell_type": "markdown",
      "metadata": {
        "id": "JmC-8tZ0f3qm"
      },
      "source": [
        "Using the OneClassSVM() function in scikit-learn, we can initialise and train an one-class SVM classifier on the input data. Please study the [OneClassSVM() documentation](https://scikit-learn.org/stable/modules/generated/sklearn.svm.OneClassSVM.html) for information on input arguments.\n",
        "\n",
        "We can then print the estimated labels, which for each object are -1 for outliers and 1 for inliers (i.e. data points that are considered normal)."
      ]
    },
    {
      "cell_type": "code",
      "execution_count": null,
      "metadata": {
        "id": "Z0G6qtG4f3qm"
      },
      "outputs": [],
      "source": [
        "from sklearn.svm import OneClassSVM\n",
        "\n",
        "ee = OneClassSVM(nu=0.01,gamma='auto')\n",
        "yhat = ee.fit_predict(X) # Perform fit on input data and returns labels for that input data.\n",
        "\n",
        "print(yhat) # Print labels: -1 for outliers and 1 for inliers."
      ]
    },
    {
      "cell_type": "markdown",
      "metadata": {
        "id": "E8kF0dfSf3qn"
      },
      "source": [
        "Having trained the one-class SVM, we can then select all rows from the dataset that are **not** outliers:"
      ]
    },
    {
      "cell_type": "code",
      "execution_count": null,
      "metadata": {
        "colab": {
          "base_uri": "https://localhost:8080/"
        },
        "id": "6alcrYCYf3qn",
        "outputId": "0e184b45-4a01-4990-a421-2d7128724c3a"
      },
      "outputs": [
        {
          "name": "stdout",
          "output_type": "stream",
          "text": [
            "(190, 13) (190,)\n"
          ]
        }
      ],
      "source": [
        "# Select all rows that are not outliers\n",
        "mask = yhat != -1\n",
        "X, y = X[mask, :], y[mask]\n",
        "\n",
        "# Summarize the shape of the updated dataset\n",
        "print(X.shape, y.shape)"
      ]
    },
    {
      "cell_type": "markdown",
      "metadata": {
        "id": "phamfB1Df3qn"
      },
      "source": [
        "As we see, the new dataset has a significantly smaller number of objects, all of which are considered by the one-class SVM to be `inliers', i.e. to belong to the normal distribution of the data."
      ]
    },
    {
      "cell_type": "markdown",
      "metadata": {
        "id": "1w78zgkAbkoq"
      },
      "source": [
        "# Exercise\n",
        "\n",
        "DBSCAN is a non-parametric, density-based outlier detection technique used for one- or multi- dimensional feature space. This technique is based on the Density-Based Spatial Clustering of Applications with Noise (DBSCAN) clustering method. In DBSCAN, there are three classes of points which are given as follows :\n",
        "\n",
        "- Core Points: data points that have at least MinPts neighbouring data points within a distance ℇ. </br>\n",
        "\n",
        "- Border Points: neighbours of a Core Point within the distance ℇ but with less than MinPts neighbours within the distance ℇ. </br>\n",
        "\n",
        "- Outliers: all other data points, these points do not lie in any cluster.\n",
        "\n",
        "DBSCAN requires some of the below parameters :\n",
        "\n",
        "- Epsilon (ℇ): eps which specifies how should be the distance between each point to be considered a part of a cluster. This is the most important parameter to choose appropriately for your data set and distance function. The default value is 0.5. </br>\n",
        "\n",
        "- Min points (MinPts): min_sample which specifies how many neighbours a point should have to be included in a cluster. The default value is 5.\n",
        "\n",
        "- Metric : metric to use when calculating the distance between instances in a feature array. The default metric is ‘euclidean’.\n",
        "\n",
        "Here, a data instance is considered as an outlier, if it does not belong to any cluster.\n",
        "\n",
        "DBSCAN is easy to implement and is available in python as sklearn.cluster.DBSCAN. In this method, Outliers are labelled as -1.\n",
        "\n",
        "For this exercise you will be using the Weight and Height Dataset from Kaggle (available in the lab supplementary material)."
      ]
    },
    {
      "cell_type": "code",
      "execution_count": null,
      "metadata": {
        "id": "jToW-Ywbc56o"
      },
      "outputs": [],
      "source": [
        "# Reading the data\n",
        "df = pd.read_csv(\"weight-height.csv\")\n",
        "print(f\"Shape of data : {df.shape}\\n\")\n",
        "print(f\"Sample of data : \\n{df.head()}\")"
      ]
    },
    {
      "cell_type": "markdown",
      "metadata": {
        "id": "lYzMyWs_dJjn"
      },
      "source": [
        "1) At first create the scatterplot between the variables ‘Height’ and ‘Weight’ and visualize their relationship.\n",
        "\n",
        "2) Then apply the DBSCAN method for the height feature. For this the below steps will be needed: </br>\n",
        "- import DBSCAN library\n",
        "\n",
        "- convert Height column to array with shape (-1,1)\n",
        "\n",
        "- create DBSCAN model with parameters eps=0.5 and min_samples=8\n",
        "\n",
        "- fit model to data\n",
        "\n",
        "- print total number of outliers\n",
        "\n",
        "- print the outliers"
      ]
    },
    {
      "cell_type": "code",
      "execution_count": null,
      "metadata": {
        "id": "wgwgcfq7dZgk"
      },
      "outputs": [],
      "source": [
        "# Import DBSCAN library\n",
        "from sklearn.cluster import DBSCAN\n",
        "\n",
        "# Convert Height column to array with shape (-1,1)\n",
        "data = df[\"Height\"].values.reshape(-1,1)\n",
        "\n",
        "print(f\"Shape of data : {data.shape}\")\n",
        "print(f\"Type of data : {type(data)}\")\n",
        "\n",
        "# Create DBSCAN model with parameters\n",
        "model = DBSCAN(eps=0.5,min_samples=8)\n",
        "\n",
        "# Fit model to data\n",
        "model.fit(data)\n",
        "\n",
        "# Printing total number of outliers\n",
        "print(f\"Total number of outliers : {sum(model.labels_ == -1)}\")\n",
        "\n",
        "# Outliers\n",
        "outliers = df[\"Height\"][model.labels_ == -1]\n",
        "print(f\"Outliers in Height column : \\n{outliers}\")"
      ]
    },
    {
      "cell_type": "markdown",
      "metadata": {
        "id": "6m-SXl7itFAA"
      },
      "source": [
        "# Lab session 8: Web Mining"
      ]
    },
    {
      "cell_type": "markdown",
      "metadata": {
        "id": "nh8HnMPptFAC"
      },
      "source": [
        "## Introduction\n",
        "\n",
        "The aim of this lab (Lab session 8) is for students to get experience with **Web Mining** methods covered in week 10, by using typical Python libraries.\n"
      ]
    },
    {
      "cell_type": "markdown",
      "metadata": {
        "id": "Geaz1LTytFAH"
      },
      "source": [
        "## Web Scraping using Python\n",
        "\n",
        "Web scraping is a term used to describe the use of a program or algorithm to extract and process large amounts of data from the web. In this lab notebook, we will be working on data extraction from the web using Python's [Beautiful Soup](https://www.crummy.com/software/BeautifulSoup/bs4/doc/) module. Please make sure to familiarise yourselves with the [Beautiful Soup documentation](https://www.crummy.com/software/BeautifulSoup/bs4/doc/), or to refer to the documentation if you need more information for a particular class or function.\n",
        "\n",
        "The dataset to be used in the first 3 sections of the notebook is taken from a 10km race that took place in Hillsboro, USA on June 2017."
      ]
    },
    {
      "cell_type": "markdown",
      "metadata": {
        "id": "-s1iMl8ytFAI"
      },
      "source": [
        "### 1. Opening HTML content\n",
        "\n",
        "Most websites are created using HTML (Hypertext Markup Language), along with CSS (Cascading Style Sheets) and JavaScript. HTML elements are separated by tags and they directly introduce content to the web page. Here is how a basic HTML document looks like: [https://www.w3schools.com/html/html_basic.asp](https://www.w3schools.com/html/html_basic.asp) - please take some time to study the link and the HTML code, we will come back into that later during the tutorial.\n",
        "\n",
        "We can see that the content of the first heading is contained between the ‘h1’ tags. The first paragraph is contained between the ‘p’ tags. On a real website, we need to find out between which tags the relevant data is and tell it to our scraper. We also need to specify which links should be explored and where they can be found among the HTML file. With all this information, our scraper should be able to gather the required data.\n",
        "\n",
        "We first start by loading standard python modules for data mining:"
      ]
    },
    {
      "cell_type": "code",
      "execution_count": null,
      "metadata": {
        "id": "EoF8kkeHtFAK"
      },
      "outputs": [],
      "source": [
        "import pandas as pd\n",
        "import numpy as np\n",
        "import matplotlib.pyplot as plt\n",
        "import seaborn as sns\n",
        "%matplotlib inline"
      ]
    },
    {
      "cell_type": "markdown",
      "metadata": {
        "id": "9kqba8getFAL"
      },
      "source": [
        "In order to perform web scraping, we also import the libraries shown below. The urllib.request module is used to open URLs. The Beautiful Soup package is used to extract data from HTML files. The Beautiful Soup library's name is bs4 which stands for Beautiful Soup, version 4."
      ]
    },
    {
      "cell_type": "code",
      "execution_count": null,
      "metadata": {
        "id": "V3FpqNlLtFAM"
      },
      "outputs": [],
      "source": [
        "from urllib.request import urlopen\n",
        "from bs4 import BeautifulSoup"
      ]
    },
    {
      "cell_type": "markdown",
      "metadata": {
        "id": "s4VP99QutFAN"
      },
      "source": [
        "After importing the necessary modules, we specify the URL containing the dataset mentioned above and pass it to urlopen() to get the HTML contents of the page:"
      ]
    },
    {
      "cell_type": "code",
      "execution_count": null,
      "metadata": {
        "id": "w_Cqyz1FtFAO"
      },
      "outputs": [],
      "source": [
        "url = \"https://www.hubertiming.com/results/2017GPTR\"\n",
        "html = urlopen(url)"
      ]
    },
    {
      "cell_type": "markdown",
      "metadata": {
        "id": "ATafMN-NtFAO"
      },
      "source": [
        "### 2. Parsing HTML content\n",
        "\n",
        "Opening the HTML content of the page is just the first step. The next step is to create a Beautiful Soup object from the HTML content. This is done by passing the html content to the BeautifulSoup() function. The Beautiful Soup package is used to parse the HTML content, that is, take the raw HTML text and break it into Python objects. The second argument 'lxml' is the HTML parser whose details we do not need to worry about at this point."
      ]
    },
    {
      "cell_type": "code",
      "execution_count": null,
      "metadata": {
        "id": "QTaK4HqHtFAP"
      },
      "outputs": [],
      "source": [
        "soup = BeautifulSoup(html, 'lxml')\n",
        "print(type(soup))"
      ]
    },
    {
      "cell_type": "markdown",
      "metadata": {
        "id": "YCHt63ratFAQ"
      },
      "source": [
        "The soup object allows you to extract interesting information about the website we are scraping such as getting the title of the page as shown below:"
      ]
    },
    {
      "cell_type": "code",
      "execution_count": null,
      "metadata": {
        "id": "LVCjPYl3tFAR"
      },
      "outputs": [],
      "source": [
        "# Get the title\n",
        "title = soup.title\n",
        "print(title)"
      ]
    },
    {
      "cell_type": "markdown",
      "metadata": {
        "id": "IfbJq0mGtFAR"
      },
      "source": [
        "We can also get the text of the webpage and quickly print it out to check if it is what we expect:"
      ]
    },
    {
      "cell_type": "code",
      "execution_count": null,
      "metadata": {
        "id": "Dcz9GVX5tFAS"
      },
      "outputs": [],
      "source": [
        "# Print out the text\n",
        "text = soup.get_text()\n",
        "print(soup.text)"
      ]
    },
    {
      "cell_type": "markdown",
      "metadata": {
        "id": "4nRv94xEtFAT"
      },
      "source": [
        "We can view the html content of the [webpage we are scraping](https://www.hubertiming.com/results/2017GPTR) by opening the webpage in another tab in a web browser, right-clicking anywhere on the webpage and selecting \"View Source\" or \"View Page Source\" (for Chrome and Firefox respectively - similar options to view the HTML source exist for other web browsers).\n",
        "\n",
        "Please take some time to inspect the html content of the webpage and spot for examples of useful tags. Examples of useful tags include < a > for hyperlinks, < table > for tables, < tr > for table rows, < th > for table headers, and < td > for table cells.\n",
        "\n",
        "We can use the find_all() method of soup to extract useful html tags within a webpage. The code below shows how to extract all the **hyperlinks** within the webpage:"
      ]
    },
    {
      "cell_type": "code",
      "execution_count": null,
      "metadata": {
        "id": "GrpLzcIQtFAV"
      },
      "outputs": [],
      "source": [
        "soup.find_all('a')"
      ]
    },
    {
      "cell_type": "markdown",
      "metadata": {
        "id": "ZS-dlY6AtFAX"
      },
      "source": [
        "As we can see from the output above, HTML tags sometimes come with attributes such as *class* and *src*. These attributes provide additional information about html elements. We can use a for loop and the get(\"href\") method to extract and print out only hyperlinks:"
      ]
    },
    {
      "cell_type": "code",
      "execution_count": null,
      "metadata": {
        "id": "MnGLuIPttFAY"
      },
      "outputs": [],
      "source": [
        "all_links = soup.find_all(\"a\")\n",
        "for link in all_links:\n",
        "    print(link.get(\"href\"))"
      ]
    },
    {
      "cell_type": "markdown",
      "metadata": {
        "id": "fpgHYCaktFAZ"
      },
      "source": [
        "To print out table rows only, pass the 'tr' argument in soup.find_all():"
      ]
    },
    {
      "cell_type": "code",
      "execution_count": null,
      "metadata": {
        "id": "M8_hmx5ntFAa"
      },
      "outputs": [],
      "source": [
        "# Print the first 10 table rows\n",
        "rows = soup.find_all('tr')  # the 'tr' tag in html denotes a table row\n",
        "print(rows[:10])"
      ]
    },
    {
      "cell_type": "markdown",
      "metadata": {
        "id": "a-_HJZhitFAa"
      },
      "source": [
        "### 3. Converting an HTML table into a Pandas dataframe\n",
        "\n",
        "The goal of this lab notebook is to take a table from a webpage and convert it into a pandas dataframe for easier manipulation using Python. For an example on how are tables encoded in HTML please study the following [example table](https://www.w3schools.com/tags/tag_tr.asp). As you'll see from the above example table, rows in HTML tables are identified using the 'tr' tag; each HTML table has a header identified by the 'th' tag; and each cell in the table is identified by the 'td' tag. Please take some time to familiarise yourselves with the example table html code in the above link.\n",
        "\n",
        "\n",
        "To convert the HTML table to a pandas dataframe, we should get all table rows in list form first and then convert that list into a dataframe. Below is a for loop that iterates through table rows and prints out the cells of the rows:"
      ]
    },
    {
      "cell_type": "code",
      "execution_count": null,
      "metadata": {
        "id": "ocuB9AH3tFAb"
      },
      "outputs": [],
      "source": [
        "for row in rows:\n",
        "    row_td = row.find_all('td')  # the 'td' tag in html code denotes a table cell\n",
        "    print(row_td)\n",
        "type(row_td)"
      ]
    },
    {
      "cell_type": "markdown",
      "metadata": {
        "id": "9V0SosFdtFAc"
      },
      "source": [
        "The output above shows that each row is printed with html tags embedded in each row. This is not what we want. We can remove the html tags using Beautiful Soup or regular expressions. Using regular expressions is highly discouraged since it requires several lines of code and one can easily make mistakes. It requires importing the *re* (for regular expressions) module.\n",
        "\n",
        "The easiest way to remove html tags is to use Beautiful Soup, and it takes just one line of code to do this. We pass the string of interest into BeautifulSoup() and use the get_text() method to extract the text without html tags. The following is an example of removing html tags for one row of the table:"
      ]
    },
    {
      "cell_type": "code",
      "execution_count": null,
      "metadata": {
        "id": "fawvNbU2tFAc"
      },
      "outputs": [],
      "source": [
        "str_cells = str(row_td)\n",
        "cleantext = BeautifulSoup(str_cells, \"lxml\").get_text()\n",
        "print(cleantext)"
      ]
    },
    {
      "cell_type": "markdown",
      "metadata": {
        "id": "Tv-OdUKYtFAd"
      },
      "source": [
        "Having removed HTML tags for one row, we can now convert the entire HTML table into a pandas dataframe.\n",
        "\n",
        "First, we try to scrape the header of the table, which includes names for all the table attributes. We create an empty list object, and using Beautiful Soup we locate the 'th' HTML tag which denotes a table header. We convert the header from HTML to a string, and then append it to the list object."
      ]
    },
    {
      "cell_type": "code",
      "execution_count": null,
      "metadata": {
        "id": "OUmwp_1StFAe"
      },
      "outputs": [],
      "source": [
        "# Create an empty list where the table header will be stored\n",
        "header_list = []\n",
        "\n",
        "# Find the 'th' html tags which denote table header\n",
        "col_labels = soup.find_all('th')\n",
        "col_str = str(col_labels)\n",
        "cleantext_header = BeautifulSoup(col_str, \"lxml\").get_text()  # extract the text without HTML tags\n",
        "header_list.append(cleantext_header) # Add the clean table header to the list\n",
        "\n",
        "print(header_list)"
      ]
    },
    {
      "cell_type": "markdown",
      "metadata": {
        "id": "riI_VdsWtFAf"
      },
      "source": [
        "We see that the header above contains 9 elements, separated by commas.\n",
        "\n",
        "Now, we do the same process as above but for every row in the table that contains cell elements identified by the 'td' tag:"
      ]
    },
    {
      "cell_type": "code",
      "execution_count": null,
      "metadata": {
        "id": "XsPLqYnntFAg"
      },
      "outputs": [],
      "source": [
        "# Create an empty list where the table will be stored\n",
        "table_list = []\n",
        "\n",
        "# For every row in the table, find each cell element and add it to the list\n",
        "for row in rows:\n",
        "    row_td = row.find_all('td')\n",
        "    row_cells = str(row_td)\n",
        "    row_cleantext = BeautifulSoup(row_cells, \"lxml\").get_text()  # extract the text without HTML tags\n",
        "    table_list.append(row_cleantext)  # Add the clean table row to the list\n",
        "\n",
        "print(table_list)"
      ]
    },
    {
      "cell_type": "markdown",
      "metadata": {
        "id": "jRmFSenvtFAh"
      },
      "source": [
        "We see that the table_list list object includes all information stored in the original table, where elements in each row are separated by commas. We also see a lot of special and uneccessary characters that would need to be removed later on.\n",
        "\n",
        "Now, we have a python list object for the header called 'header_list' and another list object for the main table called 'table_list'. We can now convert the header list into a pandas dataframe:"
      ]
    },
    {
      "cell_type": "code",
      "execution_count": null,
      "metadata": {
        "id": "46M6SQq-tFAi"
      },
      "outputs": [],
      "source": [
        "df_header = pd.DataFrame(header_list)\n",
        "df_header.head()"
      ]
    },
    {
      "cell_type": "markdown",
      "metadata": {
        "id": "93Rq91LBtFAj"
      },
      "source": [
        "The dataframe is not in the format we want, since it only includes one column instead of 9 columns. To clean it up, we should split the \"0\" column into multiple columns at the comma position. This is accomplished by using the str.split() method:"
      ]
    },
    {
      "cell_type": "code",
      "execution_count": null,
      "metadata": {
        "id": "r-WeYsQNtFAk"
      },
      "outputs": [],
      "source": [
        "df_header2 = df_header[0].str.split(',', expand=True)\n",
        "df_header2.head()"
      ]
    },
    {
      "cell_type": "markdown",
      "metadata": {
        "id": "7jKcSLO7tFAk"
      },
      "source": [
        "We can carry out the same process as above to convert the table list into a pandas dataframe for the table values:"
      ]
    },
    {
      "cell_type": "code",
      "execution_count": null,
      "metadata": {
        "id": "fMaq7Rs4tFAk"
      },
      "outputs": [],
      "source": [
        "df_table = pd.DataFrame(table_list)\n",
        "df_table2 = df_table[0].str.split(',', expand=True)\n",
        "df_table2.head(10)"
      ]
    },
    {
      "cell_type": "markdown",
      "metadata": {
        "id": "_nuvKy3GtFAl"
      },
      "source": [
        "This looks much better, but there is still work to do. The dataframe has unwanted square brackets surrounding each row. It also has some line and carriage return characters that can be removed (\\r, \\n). We can use the strip() method to remove the square brackets and uneccesary characters on columns 0, 1, 2 and 8.\n",
        "\n",
        "We also notice that the first few rows of thable contain overall statistics on the race, and are not formatted as the rest of the table rows, containing missing values. Therefore any rows with missing values can be removed from the table."
      ]
    },
    {
      "cell_type": "code",
      "execution_count": null,
      "metadata": {
        "id": "WUbizwOqtFAl"
      },
      "outputs": [],
      "source": [
        "# Remove uneccesary characters\n",
        "df_table2[0] = df_table2[0].str.strip('[')\n",
        "df_table2[0] = df_table2[0].str.strip(']')\n",
        "df_table2[1] = df_table2[1].str.strip(']')\n",
        "df_table2[7] = df_table2[7].str.strip(']')\n",
        "df_table2[2] = df_table2[2].str.strip('\\r\\n\\r\\n ')\n",
        "\n",
        "# Remove all rows with any missing values\n",
        "df_table3 = df_table2.dropna(axis=0, how='any')\n",
        "\n",
        "df_table3.head(10)"
      ]
    },
    {
      "cell_type": "markdown",
      "metadata": {
        "id": "IM1NwxMAtFAm"
      },
      "source": [
        "Almost there! Now we can concatenate the header dataframe with the table dataframe:"
      ]
    },
    {
      "cell_type": "code",
      "execution_count": null,
      "metadata": {
        "id": "rL7180ANtFAm"
      },
      "outputs": [],
      "source": [
        "# We remove uneccessary characters from the header\n",
        "df_header2[0] = df_header2[0].str.strip('[')\n",
        "df_header2[7] = df_header2[7].str.strip(']')\n",
        "\n",
        "# We concatenate the two dataframes\n",
        "frames = [df_header2, df_table3]\n",
        "df = pd.concat(frames)\n",
        "\n",
        "df2 = df.rename(columns=df.iloc[0]) # We assign the first row to be the dataframe header\n",
        "df3 = df2.drop(df2.index[0]) # We drop the replicated header from the first row of the dataframe\n",
        "\n",
        "df3.head(10)"
      ]
    },
    {
      "cell_type": "markdown",
      "metadata": {
        "id": "wOdfoc4ltFAm"
      },
      "source": [
        "That's it! It took a while to get here, but at this point, the dataframe is in the desired format. Now the table has been both scraped from the web and has been converted into an appropriate representation where we can apply data mining operations covered through the previous lectures and labs."
      ]
    },
    {
      "cell_type": "markdown",
      "metadata": {
        "id": "hVmFK37LtFAn"
      },
      "source": [
        "### 4. Second example - scraping URLs\n",
        "\n",
        "For this second example, we will see how to scrape information from a fictional store, in this case a book store which is available at the following URL: [http://books.toscrape.com/](http://books.toscrape.com/)\n",
        "\n",
        "Please visit the above website, inspect the webpage, and inspect the HTML source code from your browser (using the same process described in section 2 of the lab notebook).\n",
        "\n",
        "We see that the webpage lists 20 books. For each book, there is an associated URL, which points to a separate webpage describing each book in detail. The goal of this example is to scrape the URLs for all these 20 books.\n",
        "\n",
        "We first follow the same process as in sections 1 and 2 of the lab notebook to open the URL and parse the HTML content:"
      ]
    },
    {
      "cell_type": "code",
      "execution_count": null,
      "metadata": {
        "id": "on1zUhHitFAn"
      },
      "outputs": [],
      "source": [
        "url_bookstore = \"http://books.toscrape.com/index.html\"\n",
        "html_bookstore = urlopen(url_bookstore)\n",
        "soup_bookstore = BeautifulSoup(html_bookstore, 'lxml')"
      ]
    },
    {
      "cell_type": "markdown",
      "metadata": {
        "id": "pqu5b1FFtFAo"
      },
      "source": [
        "If we inspect the HTML code of the [webpage](http://books.toscrape.com/), we see that each of the 20 books is mentioned under an 'article' tag with the value 'product_pod'. Under each mention of the 'product_pod' value, there is the corresponding URL for each book, under the 'a' tag, and specifically the 'href' attribute. This seems to be a reliable source to spot product URLs.\n",
        "\n",
        "So the first thing to attempt is to find 'article' tags in the HTML code that contain the 'product_pod' value:"
      ]
    },
    {
      "cell_type": "code",
      "execution_count": null,
      "metadata": {
        "id": "AENkn15StFAp"
      },
      "outputs": [],
      "source": [
        "soup_bookstore.find(\"article\", class_ = \"product_pod\")"
      ]
    },
    {
      "cell_type": "markdown",
      "metadata": {
        "id": "2Ve2yBpitFAp"
      },
      "source": [
        "This seems to produce too much information. So instead of only looking for the 'product_pod' value in an 'article' tag, let's look for URLs only.\n",
        "\n",
        "If we inspect the HTML code further, we see that the URLs we are looking for are within the 'a' tag, which is within the 'div' tag. Soe we can modify the above command as:"
      ]
    },
    {
      "cell_type": "code",
      "execution_count": null,
      "metadata": {
        "id": "dF9ht7vUtFAp"
      },
      "outputs": [],
      "source": [
        "soup_bookstore.find(\"article\", class_ = \"product_pod\").div.a"
      ]
    },
    {
      "cell_type": "markdown",
      "metadata": {
        "id": "i7vKW8xxtFAq"
      },
      "source": [
        "This is beter, we now have all information contained within the 'a' tag for a book. But we only need the URL contained in the 'href' value, which in the above example should be \"catalogue/a-light-in-the-attic_1000/index.html\".\n",
        "\n",
        "We can get this URL by adding .get('href') to the previous instruction:"
      ]
    },
    {
      "cell_type": "code",
      "execution_count": null,
      "metadata": {
        "id": "VTKHswZ4tFAq"
      },
      "outputs": [],
      "source": [
        "soup_bookstore.find(\"article\", class_ = \"product_pod\").div.a.get('href')"
      ]
    },
    {
      "cell_type": "markdown",
      "metadata": {
        "id": "cUn4MSO6tFAq"
      },
      "source": [
        "We now managed to get our first product URL with BeautifulSoup. Now let’s gather all the product URLs on the main web page at once using the findAll() function, which iterates across all mentions of the 'product_pod' value within an 'article' tag:"
      ]
    },
    {
      "cell_type": "code",
      "execution_count": null,
      "metadata": {
        "id": "C-gSMm6VtFAr"
      },
      "outputs": [],
      "source": [
        "book_urls = [x.div.a.get('href') for x in soup_bookstore.findAll(\"article\", class_ = \"product_pod\")]\n",
        "\n",
        "# Display number of fetched URLs\n",
        "print(str(len(book_urls)) + \" fetched book URLs\")\n",
        "\n",
        "# We can print all fetched URLS\n",
        "for book in book_urls:\n",
        "    print(book)"
      ]
    },
    {
      "cell_type": "markdown",
      "metadata": {
        "id": "T0chn1j5tFAr"
      },
      "source": [
        "We have now managed to fetch all 20 URLs corresponding to each book in the website, and placed them in a list object in python, which can be used for further data mining."
      ]
    },
    {
      "cell_type": "markdown",
      "metadata": {
        "id": "p-sWup-gzFq6"
      },
      "source": [
        "# Lab session 9: Data Mining Applications"
      ]
    },
    {
      "cell_type": "markdown",
      "metadata": {
        "id": "sjjWRgpDzFq7"
      },
      "source": [
        "## Introduction\n",
        "\n",
        "The aim of this lab (Lab session 9) is for students to get experience with **data mining applications** covered in week 11, and particularly with the concepts of **text mining** and **timeseries mining**.\n",
        "\n"
      ]
    },
    {
      "cell_type": "markdown",
      "metadata": {
        "id": "yfOBOzHZzFq-"
      },
      "source": [
        "## 1. Text Mining\n",
        "\n",
        "This first section on text mining will demonstrate a simple method for clustering documents using k-means. As our dataset, we will use articles mined from Wikipedia.\n",
        "\n",
        "Using python's [wikipedia package](https://pypi.org/project/wikipedia/), we can easily download content from Wikipedia and store it as a python object. For this example, we will use the content of the wikipedia entries that corredpond to the following terms:\n",
        "\n",
        "    Data Science\n",
        "    Artificial intelligence\n",
        "    Bank\n",
        "    Financial technology\n",
        "    Basketball\n",
        "    Swimming\n",
        "    Tennis\n",
        "\n",
        "The content of each Wikipedia article is stored in list 'wiki_list' while the title of each article will be stored in variable 'title'."
      ]
    },
    {
      "cell_type": "code",
      "execution_count": null,
      "metadata": {
        "id": "9gpq3zqYzFq_"
      },
      "outputs": [],
      "source": [
        "# Install/upgrade wikipedia and statsmodels packages for the lab\n",
        "!pip install wikipedia\n",
        "!pip install statsmodels --upgrade"
      ]
    },
    {
      "cell_type": "code",
      "execution_count": null,
      "metadata": {
        "id": "FCxvhO5zzFq_"
      },
      "outputs": [],
      "source": [
        "import pandas as pd\n",
        "import wikipedia\n",
        "\n",
        "articles=['Data Science','Artificial intelligence','Economics','Financial technology','Basketball','Swimming','Table Tennis']\n",
        "wiki_lst=[]\n",
        "title=[]\n",
        "\n",
        "# Load wikipedia articles\n",
        "for article in articles:\n",
        "   print(\"loading content: \",article)\n",
        "   wiki_lst.append(wikipedia.page(article).content)\n",
        "   title.append(article)"
      ]
    },
    {
      "cell_type": "markdown",
      "metadata": {
        "id": "yk6Wq4uVzFrA"
      },
      "source": [
        "As an example, we can display the first retrieved entry, which was for field \"Data Science\":"
      ]
    },
    {
      "cell_type": "code",
      "execution_count": null,
      "metadata": {
        "id": "CjgJR6o5zFrA"
      },
      "outputs": [],
      "source": [
        "# Printing the first retrieved entry\n",
        "print(wiki_lst[0])"
      ]
    },
    {
      "cell_type": "markdown",
      "metadata": {
        "id": "8S_K8aYPzFrA"
      },
      "source": [
        "Since we are going to use the k-means clustering algorithm, we need to first represent each article using a vector space representation mentioned in the lectures.\n",
        "\n",
        "One popular vector space representation used in document clustering and other natural language processing tasks is the so-called **term-frequency/inverse-document-frequency (tf-idf)**. With this representation, for each word $w$ and document $d$ we calculate:\n",
        "\n",
        "Term frequency $\\mathit{tf}(w,d)$: the ratio of the number of appearances of word $w$ in document $d$ divided with the total number of words in document $d$.\n",
        "\n",
        "Inverse document frequency $\\mathit{idf}(w)$: the logarithm of the fraction of the total number of documents divided by the number of documents that contain word $w$.\n",
        "\n",
        "The tf-idf feature is then defined as:\n",
        "\\begin{equation}\n",
        "\\mathit{tfidf}(w,d)=\\mathit{tf}(w,d) \\cdot \\mathit{idf}(w)\n",
        "\\end{equation}\n",
        "\n",
        "For computing the above feature, it is recommended that stop words are excluded. All the calculations are easily done with sklearn’s [TfidfVectorizer](https://scikit-learn.org/stable/modules/generated/sklearn.feature_extraction.text.TfidfVectorizer.html):"
      ]
    },
    {
      "cell_type": "code",
      "execution_count": null,
      "metadata": {
        "colab": {
          "base_uri": "https://localhost:8080/"
        },
        "id": "-7XTEfPLzFrB",
        "outputId": "64278385-b5a5-4736-ba0a-0e5fa216e6d5"
      },
      "outputs": [
        {
          "name": "stdout",
          "output_type": "stream",
          "text": [
            "(7, 6084)\n"
          ]
        }
      ],
      "source": [
        "from sklearn.feature_extraction.text import TfidfVectorizer\n",
        "\n",
        "vectorizer = TfidfVectorizer(stop_words={'english'})\n",
        "X = vectorizer.fit_transform(wiki_lst) # Create tf-idf feature of the wikipedia dataset\n",
        "\n",
        "print(X.shape) # Print dimensions of tf-idf feature"
      ]
    },
    {
      "cell_type": "markdown",
      "metadata": {
        "id": "uyxgBtB5zFrB"
      },
      "source": [
        "As can be seen, each row of variable X is a feature representation of a Wikipedia article.\n",
        "\n",
        "Now we have converted our dataset in a representation suitable for clustering and other data mining operations, and X can be used as input for the k-means algorithm.\n",
        "\n",
        "One issue with the k-means algorithm is that the user needs to specify the number of clusters. One way of estimating an appropriate number of clusters is using the so-called elbow method, which calculates the sum of squared distances for various values of k (here we will use values of k from 2 to 7)."
      ]
    },
    {
      "cell_type": "code",
      "execution_count": null,
      "metadata": {
        "id": "b-NqWTLjzFrC"
      },
      "outputs": [],
      "source": [
        "import matplotlib.pyplot as plt\n",
        "from sklearn.cluster import KMeans\n",
        "\n",
        "Sum_of_squared_distances = []\n",
        "K = range(2,7)\n",
        "\n",
        "for k in K:\n",
        "    km = KMeans(n_clusters=k, max_iter=200, n_init=10)\n",
        "    km = km.fit(X)\n",
        "    Sum_of_squared_distances.append(km.inertia_)\n",
        "\n",
        "plt.plot(K, Sum_of_squared_distances, 'bx-')\n",
        "plt.xlabel('k')\n",
        "plt.ylabel('Sum_of_squared_distances')\n",
        "plt.title('Elbow Method')\n",
        "plt.show()"
      ]
    },
    {
      "cell_type": "markdown",
      "metadata": {
        "id": "M2IzIGlUzFrC"
      },
      "source": [
        "The plot is almost a straight line, probably because we have too few articles. But at a closer examination a small dent appears for k=4. We will therefore try to cluster into 4 groups."
      ]
    },
    {
      "cell_type": "code",
      "execution_count": null,
      "metadata": {
        "id": "zicTf7yBzFrC"
      },
      "outputs": [],
      "source": [
        "# Fit k-means model with k=4\n",
        "true_k = 4\n",
        "model = KMeans(n_clusters=true_k, init='k-means++', max_iter=200, n_init=10)\n",
        "model.fit(X)\n",
        "\n",
        "# Print list of documents and associated clusters\n",
        "labels=model.labels_\n",
        "wiki_cl=pd.DataFrame(list(zip(title,labels)),columns=['title','cluster'])\n",
        "print(wiki_cl.sort_values(by=['cluster']))"
      ]
    },
    {
      "cell_type": "markdown",
      "metadata": {
        "id": "z20XUYlHzFrD"
      },
      "source": [
        "As we can see, the clustering produced by k-means is not perfect; some decisions are sensible (e.g. Basketball and Table Tennis are in the same cluster), some less so (e.g. Data Science and AI are not in the same cluster; AI belongs to the same cluster with Economics). However, with more data, more advanced clustering methods, and more elaborate feature extraction and pre-processing, we might be able to mine useful information from our text data."
      ]
    },
    {
      "cell_type": "markdown",
      "metadata": {
        "id": "DkdkknS1zFrD"
      },
      "source": [
        "## 2. Mining timeseries data - Smoothing\n",
        "\n",
        "\n",
        "Smoothing is a technique applied to a timeseries to remove the fine-grained variation between time steps. The aim of smoothing is to remove noise and better expose the the underlying processes that generated the timeseries. Moving averages are a simple and common type of smoothing used in timeseries analysis and timeseries forecasting.\n",
        "\n",
        "Calculating a moving average involves creating a new series where the values comprise the average of raw observations in the original timeseries. A moving average requires that you specify a **window size**. This defines the number of raw observations used to calculate the moving average value. The “moving” part in the moving average refers to the fact that the window defined by its window width is slid along the timeseries to calculate the average values in the new series.\n",
        "\n",
        "For this lab, we will be looking at a particular case of moving average smoothing, called the **Trailing Moving Average**. In trailing moving average smoothing, the value at time $t$ is calculated as the average of the raw observations at and before time $t$.\n",
        "\n",
        "It should be noted that calculating a moving average of a timeseries makes some assumptions about your data. One of these assumptions is that our timeseries is stationary, or does not show obvious trends (such as long-term increasing or decreasing movements) or seasonality (consistent periodic structure).\n",
        "\n",
        "For this section, we will be using a dataset that describes the number of daily female births in California in 1959. The dataset units are a count and there are 365 observations corresponding to days in 1959. This dataset is a good example for exploring the moving average method as it does not show any clear trend or seasonality.\n",
        "\n",
        "First we load and plot the dataset:"
      ]
    },
    {
      "cell_type": "code",
      "execution_count": null,
      "metadata": {
        "id": "QfnBpwOlzFrE"
      },
      "outputs": [],
      "source": [
        "from pandas import read_csv\n",
        "import matplotlib.pyplot as plt\n",
        "\n",
        "series = read_csv('births.csv', header=0, index_col=0)\n",
        "\n",
        "print(series.head())\n",
        "series.plot(figsize=(15,4))"
      ]
    },
    {
      "cell_type": "markdown",
      "metadata": {
        "id": "MFxLHkBKzFrE"
      },
      "source": [
        "Moving average can be used as a data preparation technique to create a smoothed version of the original dataset.\n",
        "\n",
        "The rolling() found in Pandas will automatically group observations into a window. We can specify the window size, and by default a trailing window is created. Once the window is created, we can take the mean value, and this is our transformed dataset. New observations in the future can be just as easily transformed by keeping the raw values for the last few observations and updating a new average value.\n",
        "\n",
        "To make this concrete, using trailing moving average with a window size of 3, the transformed value at time $t$ is calculated as the mean value for the previous 3 observations $\\{t-2, t-1, t\\}$."
      ]
    },
    {
      "cell_type": "code",
      "execution_count": null,
      "metadata": {
        "id": "kgxQEkCWzFrF"
      },
      "outputs": [],
      "source": [
        "# Perform trailing moving average smoothing\n",
        "rolling = series.rolling(window=3) # using a window of 3 samples: t, t-1, t-2\n",
        "rolling_mean = rolling.mean()\n",
        "print(rolling_mean.head(10))\n",
        "\n",
        "# plot original and transformed dataset\n",
        "series.plot(figsize=(15,4),title='original timeseries')\n",
        "rolling_mean.plot(color='red', figsize=(15,4),title='smoothed timeseries')"
      ]
    },
    {
      "cell_type": "markdown",
      "metadata": {
        "id": "1kXtC1zwzFrF"
      },
      "source": [
        "From the printed first few values of the smoothed dataset, we can see that the first 2 smoothed observations will need to be discarded.\n",
        "\n",
        "Please go through the pandas documentation for the Pandas [rolling() function](https://pandas.pydata.org/pandas-docs/stable/reference/api/pandas.Series.rolling.html) as to understand its input arguments and expected output. Following this, you can experiment with different window sizes and study the effect that different window sizes have on smoothing."
      ]
    },
    {
      "cell_type": "markdown",
      "metadata": {
        "id": "Hr86xHSdzFrF"
      },
      "source": [
        "## 3. Mining timeseries data - Forecasting\n",
        "\n",
        "Timeseries data is common in many domains, such as sensor networking, healthcare, and financial markets. In particular, **forecasting** is an important problem in timeseries analysis because it can be used to make predictions about data points in the future.\n",
        "\n",
        "Although state-of-the-art methods for timeseries forecasting rely on machine learning methods, before exploring such methods it is a good idea to exhaust \"classical\" linear methods for timeseries forecaseing. Classical time series forecasting methods are focused on exploring linear relationships from timeseries data, and perform well on a wide range of problems, assuming that our data is suitably prepared and the method is well configured. This section will outline a series of classical methods for timeseries forecasting."
      ]
    },
    {
      "cell_type": "markdown",
      "metadata": {
        "id": "fBjYerpuzFrF"
      },
      "source": [
        "### 3.1 Autoregressive (AR) Models\n",
        "\n",
        "As a first step, we will create a simple synthetic signal which we will use as our dataset. The signal is a simple linear function consisting of 100 samples, which is perturbed by random noise:"
      ]
    },
    {
      "cell_type": "code",
      "execution_count": null,
      "metadata": {
        "id": "pT3CVJEKzFrG"
      },
      "outputs": [],
      "source": [
        "# Initialise\n",
        "from random import random\n",
        "import numpy as np\n",
        "\n",
        "# Create and plot a synthetic signal\n",
        "data = [x + random() for x in range(1, 100)]\n",
        "\n",
        "data_array = np.array(data)\n",
        "\n",
        "plt.plot(data_array)\n",
        "plt.title('Synthetic Dataset 1')\n",
        "plt.xlabel('Sample index')\n",
        "plt.ylabel('Sample value')"
      ]
    },
    {
      "cell_type": "markdown",
      "metadata": {
        "id": "EH-XTBE7zFrG"
      },
      "source": [
        "**Autoregression (AR)** is a timeseries modeling and forecasting method which models the next step in a sequence as a linear function of the observations at previous time steps. This method is suitable for univariate timeseries without trend and seasonal components.\n",
        "\n",
        "The notation for the model involves specifying the order of the model $p$ as a parameter to the AR function, e.g. AR(p). For example, AR(1) is a first-order autoregressive model, which uses information from the immediately previous value of the signal to make a prediction for the next value.\n",
        "\n",
        "More generally, for a signal $y$, an AR model defines the value $y_t$ (where $t$ is the time index) as a linear combination of the previous values of $y$ as follows:\n",
        "\\begin{equation}\n",
        "y_t = \\sum_{i=1}^{p} \\alpha_i \\cdot y_{t-i} + c + \\epsilon_t\n",
        "\\end{equation}\n",
        "where $p$ defines the model order, coefficients $\\alpha_i$ and $c$ are learned from training data, and $\\epsilon_t$ values are assumed to be white noise error terms that are uncorrelated with one another.\n",
        "\n",
        "We can now initialise, fit, and make a prediction for an AR model in order to predict the next value in the timeseries:"
      ]
    },
    {
      "cell_type": "code",
      "execution_count": null,
      "metadata": {
        "id": "8UzJJQRrzFrG"
      },
      "outputs": [],
      "source": [
        "# Initialise\n",
        "from statsmodels.tsa.ar_model import AutoReg\n",
        "\n",
        "# Fit Autoregressive model\n",
        "model = AutoReg(data, lags=1,old_names=False) # \"lags\" indicates the model order\n",
        "model_fit = model.fit()\n",
        "\n",
        "# Make prediction\n",
        "yhat = model_fit.predict(len(data), len(data)+3) # arguments denote which dataset indices to predict\n",
        "print(yhat)"
      ]
    },
    {
      "cell_type": "markdown",
      "metadata": {
        "id": "5sZwnXZozFrH"
      },
      "source": [
        "There are many more input arguments that we can use in the AutoReg function; for more information on input/output arguments please view the relevant [AutoReg function documentation](https://www.statsmodels.org/stable/generated/statsmodels.tsa.ar_model.AutoReg.html)."
      ]
    },
    {
      "cell_type": "markdown",
      "metadata": {
        "id": "MXZdpaEezFrH"
      },
      "source": [
        "### 3.2 Moving Average (MA) Models\n",
        "\n",
        "While autoregression is a useful predictive property of a timeseries, it does not always explain all the variations. In fact, the unexpected component of the variations (shocks), does impact future values of the timeseries. This component can be captured with the use of a **moving average model (MA)**. The moving average model predicts subsequent series values on the basis of the past history of deviations from predicted values. A deviation from a predicted value can be viewed as white noise, or a shock.\n",
        "\n",
        "The moving average model is defined as follows:\n",
        "\\begin{equation}\n",
        "y_t = \\sum_{i=1}^{q} b_i \\cdot \\epsilon_{t-i} + c + \\epsilon_t\n",
        "\\end{equation}\n",
        "Here, $c$ is the mean of the timeseries. The values $b_1,\\ldots,b_q$ are the coefficients that need to be learned from the data. The moving average model is quite different from the autoregressive model, in that it relates the current value to the mean of the series and the previous history of deviations from forecasts, rather than the actual values. Here the values of $\\epsilon_t$ are assumed to be white noise error terms that are uncorrelated with one another.\n",
        "\n",
        "We can now initialise, fit, and make a prediction for an MA model in order to predict the next value in the timeseries:"
      ]
    },
    {
      "cell_type": "code",
      "execution_count": null,
      "metadata": {
        "id": "GuRlX5uMzFrH"
      },
      "outputs": [],
      "source": [
        "# Initialise\n",
        "from statsmodels.tsa.arima.model import ARIMA\n",
        "from random import random\n",
        "\n",
        "# Fit MA model\n",
        "model = ARIMA(data, order=(0, 0, 3)) # The 3rd 'order' argument denotes q=3, ie. a 3rd order MA model\n",
        "model_fit = model.fit()\n",
        "\n",
        "# Make prediction\n",
        "yhat = model_fit.predict(len(data), len(data)+3) # arguments denote which dataset indices to predict\n",
        "print(yhat)"
      ]
    },
    {
      "cell_type": "markdown",
      "metadata": {
        "id": "plDSHgZ-zFrH"
      },
      "source": [
        "As can be seen from the above ARIMA() function, this is a more general function that goes beyond an MA model. By setting the first two arguments for 'order' to 0, we can achieve an MA function. There are many more input arguments that we can use in the ARIMA function; for more information on input/output arguments please view the relevant [ARIMA function documentation](https://www.statsmodels.org/stable/generated/statsmodels.tsa.arima.model.ARIMA.html)."
      ]
    },
    {
      "cell_type": "markdown",
      "metadata": {
        "id": "LwDj6kevzFrI"
      },
      "source": [
        "### 3.3 Autoregressive Moving Average (ARMA) Models\n",
        "\n",
        "A more general model may be obtained by combining the power of both the autoregressive model and the moving average model. The idea is to learn the appropriate impact of both the autocorrelations and the shocks in predicting timeseries values. The two models can be combined with $p$ autoregressive terms and $q$ moving average terms.\n",
        "\n",
        "This model is referred to as the ARMA model, which can be formulated as follows:\n",
        "\\begin{equation}\n",
        "y_t = \\sum_{i=1}^{p} \\alpha_i \\cdot y_{t-i} + \\sum_{i=1}^{q} b_i \\cdot \\epsilon_{t-i} + c + \\epsilon_t\n",
        "\\end{equation}\n",
        "The aforementioned model is the ARMA($p$, $q$) model.\n",
        "\n",
        "We will now create a new synthetic dataset of 100 samples which consists of (pseudo)random noise:"
      ]
    },
    {
      "cell_type": "code",
      "execution_count": null,
      "metadata": {
        "id": "MRVMT9XazFrI"
      },
      "outputs": [],
      "source": [
        "# Create and plot a synthetic signal\n",
        "data2 = [random() for x in range(1, 100)]\n",
        "\n",
        "data_array_2 = np.array(data2)\n",
        "\n",
        "plt.plot(data_array_2)\n",
        "plt.title('Synthetic Dataset 2')\n",
        "plt.xlabel('Sample index')\n",
        "plt.ylabel('Sample value')"
      ]
    },
    {
      "cell_type": "markdown",
      "metadata": {
        "id": "LgwmVuIJzFrI"
      },
      "source": [
        "We can now initialise, fit, and make a prediction for an ARMA model in order to predict the next value in the timeseries:"
      ]
    },
    {
      "cell_type": "code",
      "execution_count": null,
      "metadata": {
        "id": "HW49OijdzFrI"
      },
      "outputs": [],
      "source": [
        "# Fit ARMA model\n",
        "model = ARIMA(data2, order=(2, 0, 1)) # p=2, q=1\n",
        "model_fit = model.fit()\n",
        "\n",
        "# Make prediction\n",
        "yhat = model_fit.predict(len(data2), len(data2)+3) # arguments denote which dataset indices to predict\n",
        "print(yhat)"
      ]
    },
    {
      "cell_type": "markdown",
      "metadata": {
        "id": "P1S3JrAMzFrJ"
      },
      "source": [
        "Similar to the MA model, for the ARMA model we are using the ARIMA() function, which is a more general function that goes beyod an ARMA model. By setting the second argument for 'order' to 0, we can achieve an ARMA function. There are many more input arguments that we can use in the ARIMA function; for more information on input/output arguments please view the relevant [ARIMA function documentation](https://www.statsmodels.org/stable/generated/statsmodels.tsa.arima.model.ARIMA.html)."
      ]
    },
    {
      "cell_type": "markdown",
      "metadata": {
        "id": "8OEfz99FzFrJ"
      },
      "source": [
        "### 3.4 Autoregressive Integrated Moving Average (ARIMA) Models\n",
        "\n",
        "In many cases, nonstationary data can be addressed by combining differencing with the autoregressive moving average model. This results in the **autoregressive integrated moving average model (ARIMA)**. In principle, differences of any order may be used, although first and second-order differences are most commonly used. If the order of the differencing is $d$, then this model is referred to as the ARIMA($p$, $d$, $q$) model.\n",
        "\n",
        "We will now use the first synthetic dataset of 100 samples to fit and make a prediction using an ARIMA(1,1,1) model:"
      ]
    },
    {
      "cell_type": "code",
      "execution_count": null,
      "metadata": {
        "id": "sw3LX7bTzFrJ"
      },
      "outputs": [],
      "source": [
        "# Fit ARIMA model\n",
        "model = ARIMA(data, order=(1, 2, 1)) # p=1, d=2, q=1\n",
        "model_fit = model.fit()\n",
        "\n",
        "# Make prediction\n",
        "yhat = model_fit.predict(len(data), len(data)+3, typ='levels')\n",
        "print(yhat)"
      ]
    },
    {
      "cell_type": "markdown",
      "metadata": {
        "id": "wYzbLkawzFrJ"
      },
      "source": [
        "## 4. Mining timeseries data - Discrete Fourier Transform (DFT)\n",
        "\n",
        "The discrete Fourier transform (DFT) is a commonly used method for data transformation in timeseries. More broadly, DFT is one of the fundamental tools used in the field of signal processing and is useful across numerous applications. The DFT is able to decompose a given timeseries into a linear combination of sinusoids.\n",
        "\n",
        "As an example, let us consider the following example timeseries $x$ which corresponds to a periodic timeseries (specifically a cosine function) perturbed by random noise:"
      ]
    },
    {
      "cell_type": "code",
      "execution_count": null,
      "metadata": {
        "id": "zPRznNdxzFrJ"
      },
      "outputs": [],
      "source": [
        "import numpy as np\n",
        "\n",
        "# Example synthetic timeseries\n",
        "N = 128\n",
        "n = np.arange(N)\n",
        "k = 10\n",
        "x = np.cos(2 * np.pi * (k * n / N) + 2 * (np.random.rand(N) - 0.5))\n",
        "\n",
        "# Plot\n",
        "plt.figure(figsize=(10, 4))\n",
        "plt.title('$x$')\n",
        "plt.plot(x, 'k')\n",
        "plt.xlabel('Time (index $n$)')"
      ]
    },
    {
      "cell_type": "markdown",
      "metadata": {
        "id": "q4xo7oR1zFrJ"
      },
      "source": [
        "The DFT is efficiently implemented in python using the **Fast Fourier Transform (FFT)**, an algorithm that computes the discrete Fourier transform in a computationally efficient manner."
      ]
    },
    {
      "cell_type": "code",
      "execution_count": null,
      "metadata": {
        "id": "9KCDZRp2zFrK"
      },
      "outputs": [],
      "source": [
        "# numpy implementation of FFT\n",
        "Xfft = np.fft.fft(x)\n",
        "\n",
        "# Plot\n",
        "plt.figure(figsize=(10, 4))\n",
        "plt.title('$|X|$ - magnitude of DFT')\n",
        "plt.plot(np.abs(Xfft), 'k')\n",
        "plt.xlabel('Frequency (index $k$)')\n",
        "plt.tight_layout()"
      ]
    },
    {
      "cell_type": "markdown",
      "metadata": {
        "id": "2HEwa3e4zFrK"
      },
      "source": [
        "The above figure is symmetric, and the upper half of the above figure can be discarded for analysing the timeseries, but it is useful if we would like to reconstruct the original timeseries. By inspecting the lower half of the DFT, we can see one clear peak. This peak indicates the predominant (i.e. most important) frequency of the timeseries. This frequency indicates the predominant period of the timeseries, in other words the length of the unit in samples which is repeated throughout the timeseries. We observe one such predominant frequency and corresponding period, since the timeseries consists of a (periodic) cosine function.\n",
        "\n",
        "If we have a timeseries which is expressed in a physical unit (e.g. seconds, milliseconds) it is possible to associate this predominant frequency to a frequency unit such as Hz; this is outside the scope of this lab tutorial.\n",
        "\n",
        "Finally, one of the benefits of the DFT and FFT is the fact that an inverse transform is also defined, which allows us to convert the above representation over frequency back to the original representation over time. This can be achieved by the **inverse DFT** (and the inverse FFT) as follows:"
      ]
    },
    {
      "cell_type": "code",
      "execution_count": null,
      "metadata": {
        "id": "hFtFl8vwzFrK"
      },
      "outputs": [],
      "source": [
        "# Inverse FFT\n",
        "x_invfft = np.fft.ifft(Xfft)\n",
        "\n",
        "# Plot\n",
        "plt.figure(figsize=(10, 4))\n",
        "plt.title('$x$')\n",
        "plt.plot(x_invfft, 'k')\n",
        "plt.xlabel('Time (index $n$)')\n",
        "plt.tight_layout()"
      ]
    },
    {
      "cell_type": "code",
      "source": [
        "from apriori import apriori\n",
        "\n",
        "# Transactions dataset\n",
        "transactions = [['K', 'A', 'D', 'B'], ['D', 'A', 'C', 'E', 'B'], ['C', 'A', 'B', 'E'], ['B', 'A', 'D']]\n",
        "\n",
        "# Set minimum support and confidence levels\n",
        "min_sup = 0.6\n",
        "min_conf = 0.8\n",
        "\n",
        "# Find frequent itemsets\n",
        "results = list(apriori(transactions, min_support=min_sup, min_confidence=min_conf))\n",
        "\n",
        "# Print frequent itemsets\n",
        "for item in results:\n",
        "    print(item)\n"
      ],
      "metadata": {
        "colab": {
          "base_uri": "https://localhost:8080/",
          "height": 375
        },
        "id": "JaNoIuvn_FNk",
        "outputId": "694641ae-a27c-4f7b-de9b-80c1db0c4c7f"
      },
      "execution_count": null,
      "outputs": [
        {
          "output_type": "error",
          "ename": "ModuleNotFoundError",
          "evalue": "ignored",
          "traceback": [
            "\u001b[0;31m---------------------------------------------------------------------------\u001b[0m",
            "\u001b[0;31mModuleNotFoundError\u001b[0m                       Traceback (most recent call last)",
            "\u001b[0;32m<ipython-input-2-0803a584d761>\u001b[0m in \u001b[0;36m<module>\u001b[0;34m\u001b[0m\n\u001b[0;32m----> 1\u001b[0;31m \u001b[0;32mfrom\u001b[0m \u001b[0mapriori\u001b[0m \u001b[0;32mimport\u001b[0m \u001b[0mapriori\u001b[0m\u001b[0;34m\u001b[0m\u001b[0;34m\u001b[0m\u001b[0m\n\u001b[0m\u001b[1;32m      2\u001b[0m \u001b[0;34m\u001b[0m\u001b[0m\n\u001b[1;32m      3\u001b[0m \u001b[0;31m# Transactions dataset\u001b[0m\u001b[0;34m\u001b[0m\u001b[0;34m\u001b[0m\u001b[0;34m\u001b[0m\u001b[0m\n\u001b[1;32m      4\u001b[0m \u001b[0mtransactions\u001b[0m \u001b[0;34m=\u001b[0m \u001b[0;34m[\u001b[0m\u001b[0;34m[\u001b[0m\u001b[0;34m'K'\u001b[0m\u001b[0;34m,\u001b[0m \u001b[0;34m'A'\u001b[0m\u001b[0;34m,\u001b[0m \u001b[0;34m'D'\u001b[0m\u001b[0;34m,\u001b[0m \u001b[0;34m'B'\u001b[0m\u001b[0;34m]\u001b[0m\u001b[0;34m,\u001b[0m \u001b[0;34m[\u001b[0m\u001b[0;34m'D'\u001b[0m\u001b[0;34m,\u001b[0m \u001b[0;34m'A'\u001b[0m\u001b[0;34m,\u001b[0m \u001b[0;34m'C'\u001b[0m\u001b[0;34m,\u001b[0m \u001b[0;34m'E'\u001b[0m\u001b[0;34m,\u001b[0m \u001b[0;34m'B'\u001b[0m\u001b[0;34m]\u001b[0m\u001b[0;34m,\u001b[0m \u001b[0;34m[\u001b[0m\u001b[0;34m'C'\u001b[0m\u001b[0;34m,\u001b[0m \u001b[0;34m'A'\u001b[0m\u001b[0;34m,\u001b[0m \u001b[0;34m'B'\u001b[0m\u001b[0;34m,\u001b[0m \u001b[0;34m'E'\u001b[0m\u001b[0;34m]\u001b[0m\u001b[0;34m,\u001b[0m \u001b[0;34m[\u001b[0m\u001b[0;34m'B'\u001b[0m\u001b[0;34m,\u001b[0m \u001b[0;34m'A'\u001b[0m\u001b[0;34m,\u001b[0m \u001b[0;34m'D'\u001b[0m\u001b[0;34m]\u001b[0m\u001b[0;34m]\u001b[0m\u001b[0;34m\u001b[0m\u001b[0;34m\u001b[0m\u001b[0m\n\u001b[1;32m      5\u001b[0m \u001b[0;34m\u001b[0m\u001b[0m\n",
            "\u001b[0;31mModuleNotFoundError\u001b[0m: No module named 'apriori'",
            "",
            "\u001b[0;31m---------------------------------------------------------------------------\u001b[0;32m\nNOTE: If your import is failing due to a missing package, you can\nmanually install dependencies using either !pip or !apt.\n\nTo view examples of installing some common dependencies, click the\n\"Open Examples\" button below.\n\u001b[0;31m---------------------------------------------------------------------------\u001b[0m\n"
          ],
          "errorDetails": {
            "actions": [
              {
                "action": "open_url",
                "actionText": "Open Examples",
                "url": "/notebooks/snippets/importing_libraries.ipynb"
              }
            ]
          }
        }
      ]
    }
  ],
  "metadata": {
    "colab": {
      "provenance": []
    },
    "kernelspec": {
      "display_name": "Python 3",
      "name": "python3"
    },
    "language_info": {
      "name": "python"
    }
  },
  "nbformat": 4,
  "nbformat_minor": 0
}